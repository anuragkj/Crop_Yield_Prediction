{
 "cells": [
  {
   "cell_type": "markdown",
   "id": "b7cf3bce",
   "metadata": {
    "papermill": {
     "duration": 0.070885,
     "end_time": "2021-12-10T09:16:19.323546",
     "exception": false,
     "start_time": "2021-12-10T09:16:19.252661",
     "status": "completed"
    },
    "tags": []
   },
   "source": [
    "<img src='https://i.imgur.com/ibzHl8U.png' width=\"1200\" height=\"1000\">"
   ]
  },
  {
   "cell_type": "markdown",
   "id": "d60fb0e1",
   "metadata": {
    "papermill": {
     "duration": 0.066794,
     "end_time": "2021-12-10T09:16:19.458275",
     "exception": false,
     "start_time": "2021-12-10T09:16:19.391481",
     "status": "completed"
    },
    "tags": []
   },
   "source": [
    "# Crop Yield Analysis\n",
    " \n",
    "The science of training machines to learn and produce models for future predictions is widely used, and not for nothing.\n",
    "Agriculture plays a critical role in the global economy. With the continuing expansion of the human population understanding worldwide crop yield is central to addressing food security challenges and reducing the impacts of climate change. \n",
    "\n",
    "Crop yield prediction is an important agricultural problem. The Agricultural yield primarily depends on weather conditions (rain, temperature, etc), pesticides and accurate information about history of crop yield is an important thing for making decisions related to agricultural risk management and future predictions.  The basic ingredients that sustain humans are similar. We eat a lot of corn, wheat, rice and other simple crops. In this project the prediction of top 10 most consumed yields all over the world is established by applying machine learning techniques. It consist of 10 most consumed crops. It is a regression problem\n",
    " \n",
    " These corps include :\n",
    "\n",
    "- Cassava                \n",
    "- Maize                  \n",
    "- Plantains and others   \n",
    "- Potatoes                \n",
    "- Rice, paddy             \n",
    "- Sorghum                \n",
    "- Soybeans               \n",
    "- Sweet potatoes       \n",
    "- Wheat                  \n",
    "- Yams             "
   ]
  },
  {
   "cell_type": "markdown",
   "id": "361a92a2",
   "metadata": {
    "papermill": {
     "duration": 0.067389,
     "end_time": "2021-12-10T09:16:19.593203",
     "exception": false,
     "start_time": "2021-12-10T09:16:19.525814",
     "status": "completed"
    },
    "tags": []
   },
   "source": [
    "# Gathering & Cleaning Data\n",
    "\n",
    "### Crops Yield Data:\n",
    "\n",
    "\n",
    " \n",
    "After importing required libraries, crops yield of ten most consumed crops around the world was downloaded from FAO webiste.The collected data include country, item, year starting from 1961 to 2016 and yield value. "
   ]
  },
  {
   "cell_type": "code",
   "execution_count": 65,
   "id": "55694a3f",
   "metadata": {
    "execution": {
     "iopub.execute_input": "2021-12-10T09:16:19.732122Z",
     "iopub.status.busy": "2021-12-10T09:16:19.730966Z",
     "iopub.status.idle": "2021-12-10T09:16:19.740504Z",
     "shell.execute_reply": "2021-12-10T09:16:19.741030Z",
     "shell.execute_reply.started": "2021-12-10T08:05:20.302223Z"
    },
    "papermill": {
     "duration": 0.081106,
     "end_time": "2021-12-10T09:16:19.741336",
     "exception": false,
     "start_time": "2021-12-10T09:16:19.660230",
     "status": "completed"
    },
    "tags": []
   },
   "outputs": [],
   "source": [
    "import numpy as np \n",
    "import pandas as pd "
   ]
  },
  {
   "cell_type": "code",
   "execution_count": 66,
   "id": "91206406",
   "metadata": {
    "execution": {
     "iopub.execute_input": "2021-12-10T09:16:19.882966Z",
     "iopub.status.busy": "2021-12-10T09:16:19.881902Z",
     "iopub.status.idle": "2021-12-10T09:16:20.025489Z",
     "shell.execute_reply": "2021-12-10T09:16:20.026014Z",
     "shell.execute_reply.started": "2021-12-10T08:05:20.330133Z"
    },
    "papermill": {
     "duration": 0.215779,
     "end_time": "2021-12-10T09:16:20.026207",
     "exception": false,
     "start_time": "2021-12-10T09:16:19.810428",
     "status": "completed"
    },
    "tags": []
   },
   "outputs": [
    {
     "data": {
      "text/plain": [
       "(56717, 12)"
      ]
     },
     "execution_count": 66,
     "metadata": {},
     "output_type": "execute_result"
    }
   ],
   "source": [
    "df_yield = pd.read_csv('data\\yield.csv')\n",
    "df_yield.shape"
   ]
  },
  {
   "cell_type": "code",
   "execution_count": 67,
   "id": "b606902d",
   "metadata": {
    "execution": {
     "iopub.execute_input": "2021-12-10T09:16:20.173451Z",
     "iopub.status.busy": "2021-12-10T09:16:20.172470Z",
     "iopub.status.idle": "2021-12-10T09:16:20.190359Z",
     "shell.execute_reply": "2021-12-10T09:16:20.190845Z",
     "shell.execute_reply.started": "2021-12-10T08:05:20.456645Z"
    },
    "papermill": {
     "duration": 0.09382,
     "end_time": "2021-12-10T09:16:20.191032",
     "exception": false,
     "start_time": "2021-12-10T09:16:20.097212",
     "status": "completed"
    },
    "scrolled": true,
    "tags": []
   },
   "outputs": [
    {
     "data": {
      "text/html": [
       "<div>\n",
       "<style scoped>\n",
       "    .dataframe tbody tr th:only-of-type {\n",
       "        vertical-align: middle;\n",
       "    }\n",
       "\n",
       "    .dataframe tbody tr th {\n",
       "        vertical-align: top;\n",
       "    }\n",
       "\n",
       "    .dataframe thead th {\n",
       "        text-align: right;\n",
       "    }\n",
       "</style>\n",
       "<table border=\"1\" class=\"dataframe\">\n",
       "  <thead>\n",
       "    <tr style=\"text-align: right;\">\n",
       "      <th></th>\n",
       "      <th>Domain Code</th>\n",
       "      <th>Domain</th>\n",
       "      <th>Area Code</th>\n",
       "      <th>Area</th>\n",
       "      <th>Element Code</th>\n",
       "      <th>Element</th>\n",
       "      <th>Item Code</th>\n",
       "      <th>Item</th>\n",
       "      <th>Year Code</th>\n",
       "      <th>Year</th>\n",
       "      <th>Unit</th>\n",
       "      <th>Value</th>\n",
       "    </tr>\n",
       "  </thead>\n",
       "  <tbody>\n",
       "    <tr>\n",
       "      <th>0</th>\n",
       "      <td>QC</td>\n",
       "      <td>Crops</td>\n",
       "      <td>2</td>\n",
       "      <td>Afghanistan</td>\n",
       "      <td>5419</td>\n",
       "      <td>Yield</td>\n",
       "      <td>56</td>\n",
       "      <td>Maize</td>\n",
       "      <td>1961</td>\n",
       "      <td>1961</td>\n",
       "      <td>hg/ha</td>\n",
       "      <td>14000</td>\n",
       "    </tr>\n",
       "    <tr>\n",
       "      <th>1</th>\n",
       "      <td>QC</td>\n",
       "      <td>Crops</td>\n",
       "      <td>2</td>\n",
       "      <td>Afghanistan</td>\n",
       "      <td>5419</td>\n",
       "      <td>Yield</td>\n",
       "      <td>56</td>\n",
       "      <td>Maize</td>\n",
       "      <td>1962</td>\n",
       "      <td>1962</td>\n",
       "      <td>hg/ha</td>\n",
       "      <td>14000</td>\n",
       "    </tr>\n",
       "    <tr>\n",
       "      <th>2</th>\n",
       "      <td>QC</td>\n",
       "      <td>Crops</td>\n",
       "      <td>2</td>\n",
       "      <td>Afghanistan</td>\n",
       "      <td>5419</td>\n",
       "      <td>Yield</td>\n",
       "      <td>56</td>\n",
       "      <td>Maize</td>\n",
       "      <td>1963</td>\n",
       "      <td>1963</td>\n",
       "      <td>hg/ha</td>\n",
       "      <td>14260</td>\n",
       "    </tr>\n",
       "    <tr>\n",
       "      <th>3</th>\n",
       "      <td>QC</td>\n",
       "      <td>Crops</td>\n",
       "      <td>2</td>\n",
       "      <td>Afghanistan</td>\n",
       "      <td>5419</td>\n",
       "      <td>Yield</td>\n",
       "      <td>56</td>\n",
       "      <td>Maize</td>\n",
       "      <td>1964</td>\n",
       "      <td>1964</td>\n",
       "      <td>hg/ha</td>\n",
       "      <td>14257</td>\n",
       "    </tr>\n",
       "    <tr>\n",
       "      <th>4</th>\n",
       "      <td>QC</td>\n",
       "      <td>Crops</td>\n",
       "      <td>2</td>\n",
       "      <td>Afghanistan</td>\n",
       "      <td>5419</td>\n",
       "      <td>Yield</td>\n",
       "      <td>56</td>\n",
       "      <td>Maize</td>\n",
       "      <td>1965</td>\n",
       "      <td>1965</td>\n",
       "      <td>hg/ha</td>\n",
       "      <td>14400</td>\n",
       "    </tr>\n",
       "  </tbody>\n",
       "</table>\n",
       "</div>"
      ],
      "text/plain": [
       "  Domain Code Domain  Area Code         Area  Element Code Element  Item Code  \\\n",
       "0          QC  Crops          2  Afghanistan          5419   Yield         56   \n",
       "1          QC  Crops          2  Afghanistan          5419   Yield         56   \n",
       "2          QC  Crops          2  Afghanistan          5419   Yield         56   \n",
       "3          QC  Crops          2  Afghanistan          5419   Yield         56   \n",
       "4          QC  Crops          2  Afghanistan          5419   Yield         56   \n",
       "\n",
       "    Item  Year Code  Year   Unit  Value  \n",
       "0  Maize       1961  1961  hg/ha  14000  \n",
       "1  Maize       1962  1962  hg/ha  14000  \n",
       "2  Maize       1963  1963  hg/ha  14260  \n",
       "3  Maize       1964  1964  hg/ha  14257  \n",
       "4  Maize       1965  1965  hg/ha  14400  "
      ]
     },
     "execution_count": 67,
     "metadata": {},
     "output_type": "execute_result"
    }
   ],
   "source": [
    "df_yield.head()"
   ]
  },
  {
   "cell_type": "code",
   "execution_count": 68,
   "id": "b637c6eb",
   "metadata": {
    "execution": {
     "iopub.execute_input": "2021-12-10T09:16:20.343094Z",
     "iopub.status.busy": "2021-12-10T09:16:20.332064Z",
     "iopub.status.idle": "2021-12-10T09:16:20.346800Z",
     "shell.execute_reply": "2021-12-10T09:16:20.346273Z",
     "shell.execute_reply.started": "2021-12-10T08:05:20.481427Z"
    },
    "papermill": {
     "duration": 0.08719,
     "end_time": "2021-12-10T09:16:20.346953",
     "exception": false,
     "start_time": "2021-12-10T09:16:20.259763",
     "status": "completed"
    },
    "scrolled": true,
    "tags": []
   },
   "outputs": [
    {
     "data": {
      "text/html": [
       "<div>\n",
       "<style scoped>\n",
       "    .dataframe tbody tr th:only-of-type {\n",
       "        vertical-align: middle;\n",
       "    }\n",
       "\n",
       "    .dataframe tbody tr th {\n",
       "        vertical-align: top;\n",
       "    }\n",
       "\n",
       "    .dataframe thead th {\n",
       "        text-align: right;\n",
       "    }\n",
       "</style>\n",
       "<table border=\"1\" class=\"dataframe\">\n",
       "  <thead>\n",
       "    <tr style=\"text-align: right;\">\n",
       "      <th></th>\n",
       "      <th>Domain Code</th>\n",
       "      <th>Domain</th>\n",
       "      <th>Area Code</th>\n",
       "      <th>Area</th>\n",
       "      <th>Element Code</th>\n",
       "      <th>Element</th>\n",
       "      <th>Item Code</th>\n",
       "      <th>Item</th>\n",
       "      <th>Year Code</th>\n",
       "      <th>Year</th>\n",
       "      <th>Unit</th>\n",
       "      <th>Value</th>\n",
       "    </tr>\n",
       "  </thead>\n",
       "  <tbody>\n",
       "    <tr>\n",
       "      <th>56712</th>\n",
       "      <td>QC</td>\n",
       "      <td>Crops</td>\n",
       "      <td>181</td>\n",
       "      <td>Zimbabwe</td>\n",
       "      <td>5419</td>\n",
       "      <td>Yield</td>\n",
       "      <td>15</td>\n",
       "      <td>Wheat</td>\n",
       "      <td>2012</td>\n",
       "      <td>2012</td>\n",
       "      <td>hg/ha</td>\n",
       "      <td>24420</td>\n",
       "    </tr>\n",
       "    <tr>\n",
       "      <th>56713</th>\n",
       "      <td>QC</td>\n",
       "      <td>Crops</td>\n",
       "      <td>181</td>\n",
       "      <td>Zimbabwe</td>\n",
       "      <td>5419</td>\n",
       "      <td>Yield</td>\n",
       "      <td>15</td>\n",
       "      <td>Wheat</td>\n",
       "      <td>2013</td>\n",
       "      <td>2013</td>\n",
       "      <td>hg/ha</td>\n",
       "      <td>22888</td>\n",
       "    </tr>\n",
       "    <tr>\n",
       "      <th>56714</th>\n",
       "      <td>QC</td>\n",
       "      <td>Crops</td>\n",
       "      <td>181</td>\n",
       "      <td>Zimbabwe</td>\n",
       "      <td>5419</td>\n",
       "      <td>Yield</td>\n",
       "      <td>15</td>\n",
       "      <td>Wheat</td>\n",
       "      <td>2014</td>\n",
       "      <td>2014</td>\n",
       "      <td>hg/ha</td>\n",
       "      <td>21357</td>\n",
       "    </tr>\n",
       "    <tr>\n",
       "      <th>56715</th>\n",
       "      <td>QC</td>\n",
       "      <td>Crops</td>\n",
       "      <td>181</td>\n",
       "      <td>Zimbabwe</td>\n",
       "      <td>5419</td>\n",
       "      <td>Yield</td>\n",
       "      <td>15</td>\n",
       "      <td>Wheat</td>\n",
       "      <td>2015</td>\n",
       "      <td>2015</td>\n",
       "      <td>hg/ha</td>\n",
       "      <td>19826</td>\n",
       "    </tr>\n",
       "    <tr>\n",
       "      <th>56716</th>\n",
       "      <td>QC</td>\n",
       "      <td>Crops</td>\n",
       "      <td>181</td>\n",
       "      <td>Zimbabwe</td>\n",
       "      <td>5419</td>\n",
       "      <td>Yield</td>\n",
       "      <td>15</td>\n",
       "      <td>Wheat</td>\n",
       "      <td>2016</td>\n",
       "      <td>2016</td>\n",
       "      <td>hg/ha</td>\n",
       "      <td>18294</td>\n",
       "    </tr>\n",
       "  </tbody>\n",
       "</table>\n",
       "</div>"
      ],
      "text/plain": [
       "      Domain Code Domain  Area Code      Area  Element Code Element  \\\n",
       "56712          QC  Crops        181  Zimbabwe          5419   Yield   \n",
       "56713          QC  Crops        181  Zimbabwe          5419   Yield   \n",
       "56714          QC  Crops        181  Zimbabwe          5419   Yield   \n",
       "56715          QC  Crops        181  Zimbabwe          5419   Yield   \n",
       "56716          QC  Crops        181  Zimbabwe          5419   Yield   \n",
       "\n",
       "       Item Code   Item  Year Code  Year   Unit  Value  \n",
       "56712         15  Wheat       2012  2012  hg/ha  24420  \n",
       "56713         15  Wheat       2013  2013  hg/ha  22888  \n",
       "56714         15  Wheat       2014  2014  hg/ha  21357  \n",
       "56715         15  Wheat       2015  2015  hg/ha  19826  \n",
       "56716         15  Wheat       2016  2016  hg/ha  18294  "
      ]
     },
     "execution_count": 68,
     "metadata": {},
     "output_type": "execute_result"
    }
   ],
   "source": [
    "df_yield.tail()"
   ]
  },
  {
   "cell_type": "markdown",
   "id": "0d730969",
   "metadata": {
    "papermill": {
     "duration": 0.069111,
     "end_time": "2021-12-10T09:16:20.485765",
     "exception": false,
     "start_time": "2021-12-10T09:16:20.416654",
     "status": "completed"
    },
    "tags": []
   },
   "source": [
    "Looking at the columns in the csv, we can rename **Value** to **hg/ha_yield** to make it easier to recognise that this is our crops yields production value. In addition to removal of unnecessary coloumns like Area Code, Domain, Item Code, etc."
   ]
  },
  {
   "cell_type": "code",
   "execution_count": 69,
   "id": "3e3a3c1c",
   "metadata": {
    "execution": {
     "iopub.execute_input": "2021-12-10T09:16:20.630991Z",
     "iopub.status.busy": "2021-12-10T09:16:20.630294Z",
     "iopub.status.idle": "2021-12-10T09:16:20.671482Z",
     "shell.execute_reply": "2021-12-10T09:16:20.672107Z",
     "shell.execute_reply.started": "2021-12-10T08:05:20.497225Z"
    },
    "papermill": {
     "duration": 0.115626,
     "end_time": "2021-12-10T09:16:20.672291",
     "exception": false,
     "start_time": "2021-12-10T09:16:20.556665",
     "status": "completed"
    },
    "scrolled": true,
    "tags": []
   },
   "outputs": [
    {
     "data": {
      "text/html": [
       "<div>\n",
       "<style scoped>\n",
       "    .dataframe tbody tr th:only-of-type {\n",
       "        vertical-align: middle;\n",
       "    }\n",
       "\n",
       "    .dataframe tbody tr th {\n",
       "        vertical-align: top;\n",
       "    }\n",
       "\n",
       "    .dataframe thead th {\n",
       "        text-align: right;\n",
       "    }\n",
       "</style>\n",
       "<table border=\"1\" class=\"dataframe\">\n",
       "  <thead>\n",
       "    <tr style=\"text-align: right;\">\n",
       "      <th></th>\n",
       "      <th>Domain Code</th>\n",
       "      <th>Domain</th>\n",
       "      <th>Area Code</th>\n",
       "      <th>Area</th>\n",
       "      <th>Element Code</th>\n",
       "      <th>Element</th>\n",
       "      <th>Item Code</th>\n",
       "      <th>Item</th>\n",
       "      <th>Year Code</th>\n",
       "      <th>Year</th>\n",
       "      <th>Unit</th>\n",
       "      <th>hg/ha_yield</th>\n",
       "    </tr>\n",
       "  </thead>\n",
       "  <tbody>\n",
       "    <tr>\n",
       "      <th>0</th>\n",
       "      <td>QC</td>\n",
       "      <td>Crops</td>\n",
       "      <td>2</td>\n",
       "      <td>Afghanistan</td>\n",
       "      <td>5419</td>\n",
       "      <td>Yield</td>\n",
       "      <td>56</td>\n",
       "      <td>Maize</td>\n",
       "      <td>1961</td>\n",
       "      <td>1961</td>\n",
       "      <td>hg/ha</td>\n",
       "      <td>14000</td>\n",
       "    </tr>\n",
       "    <tr>\n",
       "      <th>1</th>\n",
       "      <td>QC</td>\n",
       "      <td>Crops</td>\n",
       "      <td>2</td>\n",
       "      <td>Afghanistan</td>\n",
       "      <td>5419</td>\n",
       "      <td>Yield</td>\n",
       "      <td>56</td>\n",
       "      <td>Maize</td>\n",
       "      <td>1962</td>\n",
       "      <td>1962</td>\n",
       "      <td>hg/ha</td>\n",
       "      <td>14000</td>\n",
       "    </tr>\n",
       "    <tr>\n",
       "      <th>2</th>\n",
       "      <td>QC</td>\n",
       "      <td>Crops</td>\n",
       "      <td>2</td>\n",
       "      <td>Afghanistan</td>\n",
       "      <td>5419</td>\n",
       "      <td>Yield</td>\n",
       "      <td>56</td>\n",
       "      <td>Maize</td>\n",
       "      <td>1963</td>\n",
       "      <td>1963</td>\n",
       "      <td>hg/ha</td>\n",
       "      <td>14260</td>\n",
       "    </tr>\n",
       "    <tr>\n",
       "      <th>3</th>\n",
       "      <td>QC</td>\n",
       "      <td>Crops</td>\n",
       "      <td>2</td>\n",
       "      <td>Afghanistan</td>\n",
       "      <td>5419</td>\n",
       "      <td>Yield</td>\n",
       "      <td>56</td>\n",
       "      <td>Maize</td>\n",
       "      <td>1964</td>\n",
       "      <td>1964</td>\n",
       "      <td>hg/ha</td>\n",
       "      <td>14257</td>\n",
       "    </tr>\n",
       "    <tr>\n",
       "      <th>4</th>\n",
       "      <td>QC</td>\n",
       "      <td>Crops</td>\n",
       "      <td>2</td>\n",
       "      <td>Afghanistan</td>\n",
       "      <td>5419</td>\n",
       "      <td>Yield</td>\n",
       "      <td>56</td>\n",
       "      <td>Maize</td>\n",
       "      <td>1965</td>\n",
       "      <td>1965</td>\n",
       "      <td>hg/ha</td>\n",
       "      <td>14400</td>\n",
       "    </tr>\n",
       "  </tbody>\n",
       "</table>\n",
       "</div>"
      ],
      "text/plain": [
       "  Domain Code Domain  Area Code         Area  Element Code Element  Item Code  \\\n",
       "0          QC  Crops          2  Afghanistan          5419   Yield         56   \n",
       "1          QC  Crops          2  Afghanistan          5419   Yield         56   \n",
       "2          QC  Crops          2  Afghanistan          5419   Yield         56   \n",
       "3          QC  Crops          2  Afghanistan          5419   Yield         56   \n",
       "4          QC  Crops          2  Afghanistan          5419   Yield         56   \n",
       "\n",
       "    Item  Year Code  Year   Unit  hg/ha_yield  \n",
       "0  Maize       1961  1961  hg/ha        14000  \n",
       "1  Maize       1962  1962  hg/ha        14000  \n",
       "2  Maize       1963  1963  hg/ha        14260  \n",
       "3  Maize       1964  1964  hg/ha        14257  \n",
       "4  Maize       1965  1965  hg/ha        14400  "
      ]
     },
     "execution_count": 69,
     "metadata": {},
     "output_type": "execute_result"
    }
   ],
   "source": [
    "# rename columns.\n",
    "df_yield = df_yield.rename(index=str, columns={\"Value\": \"hg/ha_yield\"})\n",
    "df_yield.head()"
   ]
  },
  {
   "cell_type": "code",
   "execution_count": 70,
   "id": "31309c4a",
   "metadata": {
    "execution": {
     "iopub.execute_input": "2021-12-10T09:16:20.815236Z",
     "iopub.status.busy": "2021-12-10T09:16:20.814543Z",
     "iopub.status.idle": "2021-12-10T09:16:20.830927Z",
     "shell.execute_reply": "2021-12-10T09:16:20.831481Z",
     "shell.execute_reply.started": "2021-12-10T08:05:20.537669Z"
    },
    "papermill": {
     "duration": 0.089989,
     "end_time": "2021-12-10T09:16:20.831655",
     "exception": false,
     "start_time": "2021-12-10T09:16:20.741666",
     "status": "completed"
    },
    "tags": []
   },
   "outputs": [
    {
     "data": {
      "text/html": [
       "<div>\n",
       "<style scoped>\n",
       "    .dataframe tbody tr th:only-of-type {\n",
       "        vertical-align: middle;\n",
       "    }\n",
       "\n",
       "    .dataframe tbody tr th {\n",
       "        vertical-align: top;\n",
       "    }\n",
       "\n",
       "    .dataframe thead th {\n",
       "        text-align: right;\n",
       "    }\n",
       "</style>\n",
       "<table border=\"1\" class=\"dataframe\">\n",
       "  <thead>\n",
       "    <tr style=\"text-align: right;\">\n",
       "      <th></th>\n",
       "      <th>Area</th>\n",
       "      <th>Item</th>\n",
       "      <th>Year</th>\n",
       "      <th>hg/ha_yield</th>\n",
       "    </tr>\n",
       "  </thead>\n",
       "  <tbody>\n",
       "    <tr>\n",
       "      <th>0</th>\n",
       "      <td>Afghanistan</td>\n",
       "      <td>Maize</td>\n",
       "      <td>1961</td>\n",
       "      <td>14000</td>\n",
       "    </tr>\n",
       "    <tr>\n",
       "      <th>1</th>\n",
       "      <td>Afghanistan</td>\n",
       "      <td>Maize</td>\n",
       "      <td>1962</td>\n",
       "      <td>14000</td>\n",
       "    </tr>\n",
       "    <tr>\n",
       "      <th>2</th>\n",
       "      <td>Afghanistan</td>\n",
       "      <td>Maize</td>\n",
       "      <td>1963</td>\n",
       "      <td>14260</td>\n",
       "    </tr>\n",
       "    <tr>\n",
       "      <th>3</th>\n",
       "      <td>Afghanistan</td>\n",
       "      <td>Maize</td>\n",
       "      <td>1964</td>\n",
       "      <td>14257</td>\n",
       "    </tr>\n",
       "    <tr>\n",
       "      <th>4</th>\n",
       "      <td>Afghanistan</td>\n",
       "      <td>Maize</td>\n",
       "      <td>1965</td>\n",
       "      <td>14400</td>\n",
       "    </tr>\n",
       "  </tbody>\n",
       "</table>\n",
       "</div>"
      ],
      "text/plain": [
       "          Area   Item  Year  hg/ha_yield\n",
       "0  Afghanistan  Maize  1961        14000\n",
       "1  Afghanistan  Maize  1962        14000\n",
       "2  Afghanistan  Maize  1963        14260\n",
       "3  Afghanistan  Maize  1964        14257\n",
       "4  Afghanistan  Maize  1965        14400"
      ]
     },
     "execution_count": 70,
     "metadata": {},
     "output_type": "execute_result"
    }
   ],
   "source": [
    "# drop unwanted columns.\n",
    "df_yield = df_yield.drop(['Year Code','Element Code','Element','Year Code','Area Code','Domain Code','Domain','Unit','Item Code'], axis=1)\n",
    "df_yield.head()"
   ]
  },
  {
   "cell_type": "code",
   "execution_count": 71,
   "id": "0d5d4008",
   "metadata": {
    "execution": {
     "iopub.execute_input": "2021-12-10T09:16:20.974471Z",
     "iopub.status.busy": "2021-12-10T09:16:20.973831Z",
     "iopub.status.idle": "2021-12-10T09:16:21.000972Z",
     "shell.execute_reply": "2021-12-10T09:16:21.001486Z",
     "shell.execute_reply.started": "2021-12-10T08:05:20.555896Z"
    },
    "papermill": {
     "duration": 0.099815,
     "end_time": "2021-12-10T09:16:21.001786",
     "exception": false,
     "start_time": "2021-12-10T09:16:20.901971",
     "status": "completed"
    },
    "scrolled": true,
    "tags": []
   },
   "outputs": [
    {
     "data": {
      "text/html": [
       "<div>\n",
       "<style scoped>\n",
       "    .dataframe tbody tr th:only-of-type {\n",
       "        vertical-align: middle;\n",
       "    }\n",
       "\n",
       "    .dataframe tbody tr th {\n",
       "        vertical-align: top;\n",
       "    }\n",
       "\n",
       "    .dataframe thead th {\n",
       "        text-align: right;\n",
       "    }\n",
       "</style>\n",
       "<table border=\"1\" class=\"dataframe\">\n",
       "  <thead>\n",
       "    <tr style=\"text-align: right;\">\n",
       "      <th></th>\n",
       "      <th>Year</th>\n",
       "      <th>hg/ha_yield</th>\n",
       "    </tr>\n",
       "  </thead>\n",
       "  <tbody>\n",
       "    <tr>\n",
       "      <th>count</th>\n",
       "      <td>56717.000000</td>\n",
       "      <td>56717.000000</td>\n",
       "    </tr>\n",
       "    <tr>\n",
       "      <th>mean</th>\n",
       "      <td>1989.669570</td>\n",
       "      <td>62094.660084</td>\n",
       "    </tr>\n",
       "    <tr>\n",
       "      <th>std</th>\n",
       "      <td>16.133198</td>\n",
       "      <td>67835.932856</td>\n",
       "    </tr>\n",
       "    <tr>\n",
       "      <th>min</th>\n",
       "      <td>1961.000000</td>\n",
       "      <td>0.000000</td>\n",
       "    </tr>\n",
       "    <tr>\n",
       "      <th>25%</th>\n",
       "      <td>1976.000000</td>\n",
       "      <td>15680.000000</td>\n",
       "    </tr>\n",
       "    <tr>\n",
       "      <th>50%</th>\n",
       "      <td>1991.000000</td>\n",
       "      <td>36744.000000</td>\n",
       "    </tr>\n",
       "    <tr>\n",
       "      <th>75%</th>\n",
       "      <td>2004.000000</td>\n",
       "      <td>86213.000000</td>\n",
       "    </tr>\n",
       "    <tr>\n",
       "      <th>max</th>\n",
       "      <td>2016.000000</td>\n",
       "      <td>1000000.000000</td>\n",
       "    </tr>\n",
       "  </tbody>\n",
       "</table>\n",
       "</div>"
      ],
      "text/plain": [
       "               Year     hg/ha_yield\n",
       "count  56717.000000    56717.000000\n",
       "mean    1989.669570    62094.660084\n",
       "std       16.133198    67835.932856\n",
       "min     1961.000000        0.000000\n",
       "25%     1976.000000    15680.000000\n",
       "50%     1991.000000    36744.000000\n",
       "75%     2004.000000    86213.000000\n",
       "max     2016.000000  1000000.000000"
      ]
     },
     "execution_count": 71,
     "metadata": {},
     "output_type": "execute_result"
    }
   ],
   "source": [
    "df_yield.describe()"
   ]
  },
  {
   "cell_type": "code",
   "execution_count": 72,
   "id": "a8e19469",
   "metadata": {
    "execution": {
     "iopub.execute_input": "2021-12-10T09:16:21.163892Z",
     "iopub.status.busy": "2021-12-10T09:16:21.163160Z",
     "iopub.status.idle": "2021-12-10T09:16:21.175384Z",
     "shell.execute_reply": "2021-12-10T09:16:21.176419Z",
     "shell.execute_reply.started": "2021-12-10T08:05:20.581597Z"
    },
    "papermill": {
     "duration": 0.102953,
     "end_time": "2021-12-10T09:16:21.176677",
     "exception": false,
     "start_time": "2021-12-10T09:16:21.073724",
     "status": "completed"
    },
    "tags": []
   },
   "outputs": [
    {
     "name": "stdout",
     "output_type": "stream",
     "text": [
      "<class 'pandas.core.frame.DataFrame'>\n",
      "Index: 56717 entries, 0 to 56716\n",
      "Data columns (total 4 columns):\n",
      " #   Column       Non-Null Count  Dtype \n",
      "---  ------       --------------  ----- \n",
      " 0   Area         56717 non-null  object\n",
      " 1   Item         56717 non-null  object\n",
      " 2   Year         56717 non-null  int64 \n",
      " 3   hg/ha_yield  56717 non-null  int64 \n",
      "dtypes: int64(2), object(2)\n",
      "memory usage: 2.2+ MB\n"
     ]
    }
   ],
   "source": [
    "df_yield.info()"
   ]
  },
  {
   "cell_type": "markdown",
   "id": "39086055",
   "metadata": {
    "papermill": {
     "duration": 0.070321,
     "end_time": "2021-12-10T09:16:21.319056",
     "exception": false,
     "start_time": "2021-12-10T09:16:21.248735",
     "status": "completed"
    },
    "tags": []
   },
   "source": [
    "### Climate Data : Rainfall \n",
    "The climatic factors include rainfall and temperature. They are abiotic components, including pesticides and soil, of the environmental factors that influence plant growth and development.\n",
    "\n",
    "\n",
    "Rainfall has a dramatic effect on agriculture. For this project rain fall per year information was gathered from World Data Bank. "
   ]
  },
  {
   "cell_type": "code",
   "execution_count": 73,
   "id": "03520e28",
   "metadata": {
    "execution": {
     "iopub.execute_input": "2021-12-10T09:16:21.464412Z",
     "iopub.status.busy": "2021-12-10T09:16:21.463397Z",
     "iopub.status.idle": "2021-12-10T09:16:21.488444Z",
     "shell.execute_reply": "2021-12-10T09:16:21.488943Z",
     "shell.execute_reply.started": "2021-12-10T08:05:20.603541Z"
    },
    "papermill": {
     "duration": 0.099608,
     "end_time": "2021-12-10T09:16:21.489109",
     "exception": false,
     "start_time": "2021-12-10T09:16:21.389501",
     "status": "completed"
    },
    "scrolled": true,
    "tags": []
   },
   "outputs": [
    {
     "data": {
      "text/html": [
       "<div>\n",
       "<style scoped>\n",
       "    .dataframe tbody tr th:only-of-type {\n",
       "        vertical-align: middle;\n",
       "    }\n",
       "\n",
       "    .dataframe tbody tr th {\n",
       "        vertical-align: top;\n",
       "    }\n",
       "\n",
       "    .dataframe thead th {\n",
       "        text-align: right;\n",
       "    }\n",
       "</style>\n",
       "<table border=\"1\" class=\"dataframe\">\n",
       "  <thead>\n",
       "    <tr style=\"text-align: right;\">\n",
       "      <th></th>\n",
       "      <th>Area</th>\n",
       "      <th>Year</th>\n",
       "      <th>average_rain_fall_mm_per_year</th>\n",
       "    </tr>\n",
       "  </thead>\n",
       "  <tbody>\n",
       "    <tr>\n",
       "      <th>0</th>\n",
       "      <td>Afghanistan</td>\n",
       "      <td>1985</td>\n",
       "      <td>327</td>\n",
       "    </tr>\n",
       "    <tr>\n",
       "      <th>1</th>\n",
       "      <td>Afghanistan</td>\n",
       "      <td>1986</td>\n",
       "      <td>327</td>\n",
       "    </tr>\n",
       "    <tr>\n",
       "      <th>2</th>\n",
       "      <td>Afghanistan</td>\n",
       "      <td>1987</td>\n",
       "      <td>327</td>\n",
       "    </tr>\n",
       "    <tr>\n",
       "      <th>3</th>\n",
       "      <td>Afghanistan</td>\n",
       "      <td>1989</td>\n",
       "      <td>327</td>\n",
       "    </tr>\n",
       "    <tr>\n",
       "      <th>4</th>\n",
       "      <td>Afghanistan</td>\n",
       "      <td>1990</td>\n",
       "      <td>327</td>\n",
       "    </tr>\n",
       "  </tbody>\n",
       "</table>\n",
       "</div>"
      ],
      "text/plain": [
       "          Area  Year average_rain_fall_mm_per_year\n",
       "0  Afghanistan  1985                           327\n",
       "1  Afghanistan  1986                           327\n",
       "2  Afghanistan  1987                           327\n",
       "3  Afghanistan  1989                           327\n",
       "4  Afghanistan  1990                           327"
      ]
     },
     "execution_count": 73,
     "metadata": {},
     "output_type": "execute_result"
    }
   ],
   "source": [
    "df_rain = pd.read_csv('data/rainfall.csv')\n",
    "df_rain.head()"
   ]
  },
  {
   "cell_type": "code",
   "execution_count": 74,
   "id": "22cbf278",
   "metadata": {
    "execution": {
     "iopub.execute_input": "2021-12-10T09:16:21.636377Z",
     "iopub.status.busy": "2021-12-10T09:16:21.635299Z",
     "iopub.status.idle": "2021-12-10T09:16:21.642507Z",
     "shell.execute_reply": "2021-12-10T09:16:21.642964Z",
     "shell.execute_reply.started": "2021-12-10T08:05:20.631691Z"
    },
    "papermill": {
     "duration": 0.082355,
     "end_time": "2021-12-10T09:16:21.643137",
     "exception": false,
     "start_time": "2021-12-10T09:16:21.560782",
     "status": "completed"
    },
    "tags": []
   },
   "outputs": [],
   "source": [
    "df_rain = df_rain.rename(index=str, columns={\" Area\": 'Area'})"
   ]
  },
  {
   "cell_type": "code",
   "execution_count": 75,
   "id": "e78652aa",
   "metadata": {
    "execution": {
     "iopub.execute_input": "2021-12-10T09:16:21.799574Z",
     "iopub.status.busy": "2021-12-10T09:16:21.795301Z",
     "iopub.status.idle": "2021-12-10T09:16:21.802908Z",
     "shell.execute_reply": "2021-12-10T09:16:21.803422Z",
     "shell.execute_reply.started": "2021-12-10T08:05:20.640812Z"
    },
    "papermill": {
     "duration": 0.089364,
     "end_time": "2021-12-10T09:16:21.803599",
     "exception": false,
     "start_time": "2021-12-10T09:16:21.714235",
     "status": "completed"
    },
    "scrolled": true,
    "tags": []
   },
   "outputs": [
    {
     "name": "stdout",
     "output_type": "stream",
     "text": [
      "<class 'pandas.core.frame.DataFrame'>\n",
      "Index: 6727 entries, 0 to 6726\n",
      "Data columns (total 3 columns):\n",
      " #   Column                         Non-Null Count  Dtype \n",
      "---  ------                         --------------  ----- \n",
      " 0   Area                           6727 non-null   object\n",
      " 1   Year                           6727 non-null   int64 \n",
      " 2   average_rain_fall_mm_per_year  5953 non-null   object\n",
      "dtypes: int64(1), object(2)\n",
      "memory usage: 210.2+ KB\n"
     ]
    }
   ],
   "source": [
    "# check data types \n",
    "df_rain.info()"
   ]
  },
  {
   "cell_type": "code",
   "execution_count": 76,
   "id": "f29a5b0e",
   "metadata": {
    "execution": {
     "iopub.execute_input": "2021-12-10T09:16:21.951923Z",
     "iopub.status.busy": "2021-12-10T09:16:21.951208Z",
     "iopub.status.idle": "2021-12-10T09:16:21.969558Z",
     "shell.execute_reply": "2021-12-10T09:16:21.970115Z",
     "shell.execute_reply.started": "2021-12-10T08:05:20.659797Z"
    },
    "papermill": {
     "duration": 0.092841,
     "end_time": "2021-12-10T09:16:21.970308",
     "exception": false,
     "start_time": "2021-12-10T09:16:21.877467",
     "status": "completed"
    },
    "scrolled": true,
    "tags": []
   },
   "outputs": [
    {
     "name": "stdout",
     "output_type": "stream",
     "text": [
      "<class 'pandas.core.frame.DataFrame'>\n",
      "Index: 6727 entries, 0 to 6726\n",
      "Data columns (total 3 columns):\n",
      " #   Column                         Non-Null Count  Dtype  \n",
      "---  ------                         --------------  -----  \n",
      " 0   Area                           6727 non-null   object \n",
      " 1   Year                           6727 non-null   int64  \n",
      " 2   average_rain_fall_mm_per_year  5947 non-null   float64\n",
      "dtypes: float64(1), int64(1), object(1)\n",
      "memory usage: 210.2+ KB\n"
     ]
    }
   ],
   "source": [
    "# convert average_rain_fall_mm_per_year from object to float\n",
    "df_rain['average_rain_fall_mm_per_year'] = pd.to_numeric(df_rain['average_rain_fall_mm_per_year'],errors = 'coerce')\n",
    "df_rain.info()"
   ]
  },
  {
   "cell_type": "markdown",
   "id": "a384c482",
   "metadata": {
    "papermill": {
     "duration": 0.071249,
     "end_time": "2021-12-10T09:16:22.113946",
     "exception": false,
     "start_time": "2021-12-10T09:16:22.042697",
     "status": "completed"
    },
    "tags": []
   },
   "source": [
    "Next, droping any empty rows from dataset and merge yield dataframe with rain dataframe by year and area columns"
   ]
  },
  {
   "cell_type": "code",
   "execution_count": 77,
   "id": "89009a87",
   "metadata": {
    "execution": {
     "iopub.execute_input": "2021-12-10T09:16:22.260531Z",
     "iopub.status.busy": "2021-12-10T09:16:22.259909Z",
     "iopub.status.idle": "2021-12-10T09:16:22.266315Z",
     "shell.execute_reply": "2021-12-10T09:16:22.266847Z",
     "shell.execute_reply.started": "2021-12-10T08:05:20.685433Z"
    },
    "papermill": {
     "duration": 0.081475,
     "end_time": "2021-12-10T09:16:22.267012",
     "exception": false,
     "start_time": "2021-12-10T09:16:22.185537",
     "status": "completed"
    },
    "tags": []
   },
   "outputs": [],
   "source": [
    "df_rain = df_rain.dropna()"
   ]
  },
  {
   "cell_type": "code",
   "execution_count": 78,
   "id": "0352abd2",
   "metadata": {
    "execution": {
     "iopub.execute_input": "2021-12-10T09:16:22.414028Z",
     "iopub.status.busy": "2021-12-10T09:16:22.413358Z",
     "iopub.status.idle": "2021-12-10T09:16:22.427886Z",
     "shell.execute_reply": "2021-12-10T09:16:22.428407Z",
     "shell.execute_reply.started": "2021-12-10T08:05:20.700070Z"
    },
    "papermill": {
     "duration": 0.089865,
     "end_time": "2021-12-10T09:16:22.428575",
     "exception": false,
     "start_time": "2021-12-10T09:16:22.338710",
     "status": "completed"
    },
    "scrolled": true,
    "tags": []
   },
   "outputs": [
    {
     "data": {
      "text/html": [
       "<div>\n",
       "<style scoped>\n",
       "    .dataframe tbody tr th:only-of-type {\n",
       "        vertical-align: middle;\n",
       "    }\n",
       "\n",
       "    .dataframe tbody tr th {\n",
       "        vertical-align: top;\n",
       "    }\n",
       "\n",
       "    .dataframe thead th {\n",
       "        text-align: right;\n",
       "    }\n",
       "</style>\n",
       "<table border=\"1\" class=\"dataframe\">\n",
       "  <thead>\n",
       "    <tr style=\"text-align: right;\">\n",
       "      <th></th>\n",
       "      <th>Year</th>\n",
       "      <th>average_rain_fall_mm_per_year</th>\n",
       "    </tr>\n",
       "  </thead>\n",
       "  <tbody>\n",
       "    <tr>\n",
       "      <th>count</th>\n",
       "      <td>5947.000000</td>\n",
       "      <td>5947.000000</td>\n",
       "    </tr>\n",
       "    <tr>\n",
       "      <th>mean</th>\n",
       "      <td>2001.365899</td>\n",
       "      <td>1124.743232</td>\n",
       "    </tr>\n",
       "    <tr>\n",
       "      <th>std</th>\n",
       "      <td>9.526335</td>\n",
       "      <td>786.257365</td>\n",
       "    </tr>\n",
       "    <tr>\n",
       "      <th>min</th>\n",
       "      <td>1985.000000</td>\n",
       "      <td>51.000000</td>\n",
       "    </tr>\n",
       "    <tr>\n",
       "      <th>25%</th>\n",
       "      <td>1993.000000</td>\n",
       "      <td>534.000000</td>\n",
       "    </tr>\n",
       "    <tr>\n",
       "      <th>50%</th>\n",
       "      <td>2001.000000</td>\n",
       "      <td>1010.000000</td>\n",
       "    </tr>\n",
       "    <tr>\n",
       "      <th>75%</th>\n",
       "      <td>2010.000000</td>\n",
       "      <td>1651.000000</td>\n",
       "    </tr>\n",
       "    <tr>\n",
       "      <th>max</th>\n",
       "      <td>2017.000000</td>\n",
       "      <td>3240.000000</td>\n",
       "    </tr>\n",
       "  </tbody>\n",
       "</table>\n",
       "</div>"
      ],
      "text/plain": [
       "              Year  average_rain_fall_mm_per_year\n",
       "count  5947.000000                    5947.000000\n",
       "mean   2001.365899                    1124.743232\n",
       "std       9.526335                     786.257365\n",
       "min    1985.000000                      51.000000\n",
       "25%    1993.000000                     534.000000\n",
       "50%    2001.000000                    1010.000000\n",
       "75%    2010.000000                    1651.000000\n",
       "max    2017.000000                    3240.000000"
      ]
     },
     "execution_count": 78,
     "metadata": {},
     "output_type": "execute_result"
    }
   ],
   "source": [
    "df_rain.describe()"
   ]
  },
  {
   "cell_type": "markdown",
   "id": "c18cc20d",
   "metadata": {
    "papermill": {
     "duration": 0.071358,
     "end_time": "2021-12-10T09:16:22.571715",
     "exception": false,
     "start_time": "2021-12-10T09:16:22.500357",
     "status": "completed"
    },
    "tags": []
   },
   "source": [
    "The rainfall dataframe begins at 1985 and ends at 2016. "
   ]
  },
  {
   "cell_type": "code",
   "execution_count": 79,
   "id": "97b319cd",
   "metadata": {
    "execution": {
     "iopub.execute_input": "2021-12-10T09:16:22.718320Z",
     "iopub.status.busy": "2021-12-10T09:16:22.717686Z",
     "iopub.status.idle": "2021-12-10T09:16:22.744369Z",
     "shell.execute_reply": "2021-12-10T09:16:22.743682Z",
     "shell.execute_reply.started": "2021-12-10T08:05:20.723947Z"
    },
    "papermill": {
     "duration": 0.101174,
     "end_time": "2021-12-10T09:16:22.744516",
     "exception": false,
     "start_time": "2021-12-10T09:16:22.643342",
     "status": "completed"
    },
    "tags": []
   },
   "outputs": [],
   "source": [
    "# merge yield dataframe with rain dataframe by year and area columns \n",
    "yield_df = pd.merge(df_yield, df_rain, on=['Year','Area'])"
   ]
  },
  {
   "cell_type": "markdown",
   "id": "cea1c597",
   "metadata": {
    "papermill": {
     "duration": 0.072425,
     "end_time": "2021-12-10T09:16:22.889516",
     "exception": false,
     "start_time": "2021-12-10T09:16:22.817091",
     "status": "completed"
    },
    "tags": []
   },
   "source": [
    "Now, we view the final shape of the dataframe and info of values:"
   ]
  },
  {
   "cell_type": "code",
   "execution_count": 80,
   "id": "16ed46ec",
   "metadata": {
    "execution": {
     "iopub.execute_input": "2021-12-10T09:16:23.038829Z",
     "iopub.status.busy": "2021-12-10T09:16:23.038077Z",
     "iopub.status.idle": "2021-12-10T09:16:23.040916Z",
     "shell.execute_reply": "2021-12-10T09:16:23.041436Z",
     "shell.execute_reply.started": "2021-12-10T08:05:20.750914Z"
    },
    "papermill": {
     "duration": 0.080068,
     "end_time": "2021-12-10T09:16:23.041605",
     "exception": false,
     "start_time": "2021-12-10T09:16:22.961537",
     "status": "completed"
    },
    "tags": []
   },
   "outputs": [
    {
     "data": {
      "text/plain": [
       "(25385, 5)"
      ]
     },
     "execution_count": 80,
     "metadata": {},
     "output_type": "execute_result"
    }
   ],
   "source": [
    "yield_df.shape"
   ]
  },
  {
   "cell_type": "code",
   "execution_count": 81,
   "id": "4e11c6fe",
   "metadata": {
    "execution": {
     "iopub.execute_input": "2021-12-10T09:16:23.198782Z",
     "iopub.status.busy": "2021-12-10T09:16:23.198107Z",
     "iopub.status.idle": "2021-12-10T09:16:23.200793Z",
     "shell.execute_reply": "2021-12-10T09:16:23.201301Z",
     "shell.execute_reply.started": "2021-12-10T08:05:20.758624Z"
    },
    "papermill": {
     "duration": 0.085975,
     "end_time": "2021-12-10T09:16:23.201472",
     "exception": false,
     "start_time": "2021-12-10T09:16:23.115497",
     "status": "completed"
    },
    "scrolled": true,
    "tags": []
   },
   "outputs": [
    {
     "data": {
      "text/html": [
       "<div>\n",
       "<style scoped>\n",
       "    .dataframe tbody tr th:only-of-type {\n",
       "        vertical-align: middle;\n",
       "    }\n",
       "\n",
       "    .dataframe tbody tr th {\n",
       "        vertical-align: top;\n",
       "    }\n",
       "\n",
       "    .dataframe thead th {\n",
       "        text-align: right;\n",
       "    }\n",
       "</style>\n",
       "<table border=\"1\" class=\"dataframe\">\n",
       "  <thead>\n",
       "    <tr style=\"text-align: right;\">\n",
       "      <th></th>\n",
       "      <th>Area</th>\n",
       "      <th>Item</th>\n",
       "      <th>Year</th>\n",
       "      <th>hg/ha_yield</th>\n",
       "      <th>average_rain_fall_mm_per_year</th>\n",
       "    </tr>\n",
       "  </thead>\n",
       "  <tbody>\n",
       "    <tr>\n",
       "      <th>0</th>\n",
       "      <td>Afghanistan</td>\n",
       "      <td>Maize</td>\n",
       "      <td>1985</td>\n",
       "      <td>16652</td>\n",
       "      <td>327.0</td>\n",
       "    </tr>\n",
       "    <tr>\n",
       "      <th>1</th>\n",
       "      <td>Afghanistan</td>\n",
       "      <td>Potatoes</td>\n",
       "      <td>1985</td>\n",
       "      <td>140909</td>\n",
       "      <td>327.0</td>\n",
       "    </tr>\n",
       "    <tr>\n",
       "      <th>2</th>\n",
       "      <td>Afghanistan</td>\n",
       "      <td>Rice, paddy</td>\n",
       "      <td>1985</td>\n",
       "      <td>22482</td>\n",
       "      <td>327.0</td>\n",
       "    </tr>\n",
       "    <tr>\n",
       "      <th>3</th>\n",
       "      <td>Afghanistan</td>\n",
       "      <td>Wheat</td>\n",
       "      <td>1985</td>\n",
       "      <td>12277</td>\n",
       "      <td>327.0</td>\n",
       "    </tr>\n",
       "    <tr>\n",
       "      <th>4</th>\n",
       "      <td>Afghanistan</td>\n",
       "      <td>Maize</td>\n",
       "      <td>1986</td>\n",
       "      <td>16875</td>\n",
       "      <td>327.0</td>\n",
       "    </tr>\n",
       "  </tbody>\n",
       "</table>\n",
       "</div>"
      ],
      "text/plain": [
       "          Area         Item  Year  hg/ha_yield  average_rain_fall_mm_per_year\n",
       "0  Afghanistan        Maize  1985        16652                          327.0\n",
       "1  Afghanistan     Potatoes  1985       140909                          327.0\n",
       "2  Afghanistan  Rice, paddy  1985        22482                          327.0\n",
       "3  Afghanistan        Wheat  1985        12277                          327.0\n",
       "4  Afghanistan        Maize  1986        16875                          327.0"
      ]
     },
     "execution_count": 81,
     "metadata": {},
     "output_type": "execute_result"
    }
   ],
   "source": [
    "yield_df.head()"
   ]
  },
  {
   "cell_type": "markdown",
   "id": "a270fa4d",
   "metadata": {
    "papermill": {
     "duration": 0.073587,
     "end_time": "2021-12-10T09:16:23.348242",
     "exception": false,
     "start_time": "2021-12-10T09:16:23.274655",
     "status": "completed"
    },
    "tags": []
   },
   "source": [
    "We can see that now the years start from the first yield dataframe the starting year was 1961, now it's 1985 because that's when the rainfall data begins. "
   ]
  },
  {
   "cell_type": "code",
   "execution_count": 82,
   "id": "e5f30053",
   "metadata": {
    "execution": {
     "iopub.execute_input": "2021-12-10T09:16:23.498747Z",
     "iopub.status.busy": "2021-12-10T09:16:23.498082Z",
     "iopub.status.idle": "2021-12-10T09:16:23.520085Z",
     "shell.execute_reply": "2021-12-10T09:16:23.519442Z",
     "shell.execute_reply.started": "2021-12-10T08:05:20.779164Z"
    },
    "papermill": {
     "duration": 0.099113,
     "end_time": "2021-12-10T09:16:23.520264",
     "exception": false,
     "start_time": "2021-12-10T09:16:23.421151",
     "status": "completed"
    },
    "scrolled": true,
    "tags": []
   },
   "outputs": [
    {
     "data": {
      "text/html": [
       "<div>\n",
       "<style scoped>\n",
       "    .dataframe tbody tr th:only-of-type {\n",
       "        vertical-align: middle;\n",
       "    }\n",
       "\n",
       "    .dataframe tbody tr th {\n",
       "        vertical-align: top;\n",
       "    }\n",
       "\n",
       "    .dataframe thead th {\n",
       "        text-align: right;\n",
       "    }\n",
       "</style>\n",
       "<table border=\"1\" class=\"dataframe\">\n",
       "  <thead>\n",
       "    <tr style=\"text-align: right;\">\n",
       "      <th></th>\n",
       "      <th>Year</th>\n",
       "      <th>hg/ha_yield</th>\n",
       "      <th>average_rain_fall_mm_per_year</th>\n",
       "    </tr>\n",
       "  </thead>\n",
       "  <tbody>\n",
       "    <tr>\n",
       "      <th>count</th>\n",
       "      <td>25385.000000</td>\n",
       "      <td>25385.000000</td>\n",
       "      <td>25385.000000</td>\n",
       "    </tr>\n",
       "    <tr>\n",
       "      <th>mean</th>\n",
       "      <td>2001.278787</td>\n",
       "      <td>68312.278353</td>\n",
       "      <td>1254.849754</td>\n",
       "    </tr>\n",
       "    <tr>\n",
       "      <th>std</th>\n",
       "      <td>9.143915</td>\n",
       "      <td>75213.292733</td>\n",
       "      <td>804.449430</td>\n",
       "    </tr>\n",
       "    <tr>\n",
       "      <th>min</th>\n",
       "      <td>1985.000000</td>\n",
       "      <td>50.000000</td>\n",
       "      <td>51.000000</td>\n",
       "    </tr>\n",
       "    <tr>\n",
       "      <th>25%</th>\n",
       "      <td>1994.000000</td>\n",
       "      <td>17432.000000</td>\n",
       "      <td>630.000000</td>\n",
       "    </tr>\n",
       "    <tr>\n",
       "      <th>50%</th>\n",
       "      <td>2001.000000</td>\n",
       "      <td>38750.000000</td>\n",
       "      <td>1150.000000</td>\n",
       "    </tr>\n",
       "    <tr>\n",
       "      <th>75%</th>\n",
       "      <td>2009.000000</td>\n",
       "      <td>94286.000000</td>\n",
       "      <td>1761.000000</td>\n",
       "    </tr>\n",
       "    <tr>\n",
       "      <th>max</th>\n",
       "      <td>2016.000000</td>\n",
       "      <td>554855.000000</td>\n",
       "      <td>3240.000000</td>\n",
       "    </tr>\n",
       "  </tbody>\n",
       "</table>\n",
       "</div>"
      ],
      "text/plain": [
       "               Year    hg/ha_yield  average_rain_fall_mm_per_year\n",
       "count  25385.000000   25385.000000                   25385.000000\n",
       "mean    2001.278787   68312.278353                    1254.849754\n",
       "std        9.143915   75213.292733                     804.449430\n",
       "min     1985.000000      50.000000                      51.000000\n",
       "25%     1994.000000   17432.000000                     630.000000\n",
       "50%     2001.000000   38750.000000                    1150.000000\n",
       "75%     2009.000000   94286.000000                    1761.000000\n",
       "max     2016.000000  554855.000000                    3240.000000"
      ]
     },
     "execution_count": 82,
     "metadata": {},
     "output_type": "execute_result"
    }
   ],
   "source": [
    "yield_df.describe()"
   ]
  },
  {
   "cell_type": "markdown",
   "id": "cff06fec",
   "metadata": {
    "papermill": {
     "duration": 0.073554,
     "end_time": "2021-12-10T09:16:23.668529",
     "exception": false,
     "start_time": "2021-12-10T09:16:23.594975",
     "status": "completed"
    },
    "tags": []
   },
   "source": [
    "### Pesticides Data:\n",
    "Pesticides used for each item and country was also collected from FAO database.  "
   ]
  },
  {
   "cell_type": "code",
   "execution_count": 83,
   "id": "8a04a160",
   "metadata": {
    "execution": {
     "iopub.execute_input": "2021-12-10T09:16:23.820506Z",
     "iopub.status.busy": "2021-12-10T09:16:23.819881Z",
     "iopub.status.idle": "2021-12-10T09:16:23.854233Z",
     "shell.execute_reply": "2021-12-10T09:16:23.854767Z",
     "shell.execute_reply.started": "2021-12-10T08:05:20.800582Z"
    },
    "papermill": {
     "duration": 0.112287,
     "end_time": "2021-12-10T09:16:23.854933",
     "exception": false,
     "start_time": "2021-12-10T09:16:23.742646",
     "status": "completed"
    },
    "tags": []
   },
   "outputs": [
    {
     "data": {
      "text/html": [
       "<div>\n",
       "<style scoped>\n",
       "    .dataframe tbody tr th:only-of-type {\n",
       "        vertical-align: middle;\n",
       "    }\n",
       "\n",
       "    .dataframe tbody tr th {\n",
       "        vertical-align: top;\n",
       "    }\n",
       "\n",
       "    .dataframe thead th {\n",
       "        text-align: right;\n",
       "    }\n",
       "</style>\n",
       "<table border=\"1\" class=\"dataframe\">\n",
       "  <thead>\n",
       "    <tr style=\"text-align: right;\">\n",
       "      <th></th>\n",
       "      <th>Domain</th>\n",
       "      <th>Area</th>\n",
       "      <th>Element</th>\n",
       "      <th>Item</th>\n",
       "      <th>Year</th>\n",
       "      <th>Unit</th>\n",
       "      <th>Value</th>\n",
       "    </tr>\n",
       "  </thead>\n",
       "  <tbody>\n",
       "    <tr>\n",
       "      <th>0</th>\n",
       "      <td>Pesticides Use</td>\n",
       "      <td>Albania</td>\n",
       "      <td>Use</td>\n",
       "      <td>Pesticides (total)</td>\n",
       "      <td>1990</td>\n",
       "      <td>tonnes of active ingredients</td>\n",
       "      <td>121.0</td>\n",
       "    </tr>\n",
       "    <tr>\n",
       "      <th>1</th>\n",
       "      <td>Pesticides Use</td>\n",
       "      <td>Albania</td>\n",
       "      <td>Use</td>\n",
       "      <td>Pesticides (total)</td>\n",
       "      <td>1991</td>\n",
       "      <td>tonnes of active ingredients</td>\n",
       "      <td>121.0</td>\n",
       "    </tr>\n",
       "    <tr>\n",
       "      <th>2</th>\n",
       "      <td>Pesticides Use</td>\n",
       "      <td>Albania</td>\n",
       "      <td>Use</td>\n",
       "      <td>Pesticides (total)</td>\n",
       "      <td>1992</td>\n",
       "      <td>tonnes of active ingredients</td>\n",
       "      <td>121.0</td>\n",
       "    </tr>\n",
       "    <tr>\n",
       "      <th>3</th>\n",
       "      <td>Pesticides Use</td>\n",
       "      <td>Albania</td>\n",
       "      <td>Use</td>\n",
       "      <td>Pesticides (total)</td>\n",
       "      <td>1993</td>\n",
       "      <td>tonnes of active ingredients</td>\n",
       "      <td>121.0</td>\n",
       "    </tr>\n",
       "    <tr>\n",
       "      <th>4</th>\n",
       "      <td>Pesticides Use</td>\n",
       "      <td>Albania</td>\n",
       "      <td>Use</td>\n",
       "      <td>Pesticides (total)</td>\n",
       "      <td>1994</td>\n",
       "      <td>tonnes of active ingredients</td>\n",
       "      <td>201.0</td>\n",
       "    </tr>\n",
       "  </tbody>\n",
       "</table>\n",
       "</div>"
      ],
      "text/plain": [
       "           Domain     Area Element                Item  Year  \\\n",
       "0  Pesticides Use  Albania     Use  Pesticides (total)  1990   \n",
       "1  Pesticides Use  Albania     Use  Pesticides (total)  1991   \n",
       "2  Pesticides Use  Albania     Use  Pesticides (total)  1992   \n",
       "3  Pesticides Use  Albania     Use  Pesticides (total)  1993   \n",
       "4  Pesticides Use  Albania     Use  Pesticides (total)  1994   \n",
       "\n",
       "                           Unit  Value  \n",
       "0  tonnes of active ingredients  121.0  \n",
       "1  tonnes of active ingredients  121.0  \n",
       "2  tonnes of active ingredients  121.0  \n",
       "3  tonnes of active ingredients  121.0  \n",
       "4  tonnes of active ingredients  201.0  "
      ]
     },
     "execution_count": 83,
     "metadata": {},
     "output_type": "execute_result"
    }
   ],
   "source": [
    "df_pes = pd.read_csv('data/pesticides.csv')\n",
    "df_pes.head()"
   ]
  },
  {
   "cell_type": "code",
   "execution_count": 84,
   "id": "e9b3764e",
   "metadata": {
    "execution": {
     "iopub.execute_input": "2021-12-10T09:16:24.006068Z",
     "iopub.status.busy": "2021-12-10T09:16:24.005466Z",
     "iopub.status.idle": "2021-12-10T09:16:24.019763Z",
     "shell.execute_reply": "2021-12-10T09:16:24.020225Z",
     "shell.execute_reply.started": "2021-12-10T08:05:20.837300Z"
    },
    "papermill": {
     "duration": 0.091576,
     "end_time": "2021-12-10T09:16:24.020393",
     "exception": false,
     "start_time": "2021-12-10T09:16:23.928817",
     "status": "completed"
    },
    "tags": []
   },
   "outputs": [
    {
     "data": {
      "text/html": [
       "<div>\n",
       "<style scoped>\n",
       "    .dataframe tbody tr th:only-of-type {\n",
       "        vertical-align: middle;\n",
       "    }\n",
       "\n",
       "    .dataframe tbody tr th {\n",
       "        vertical-align: top;\n",
       "    }\n",
       "\n",
       "    .dataframe thead th {\n",
       "        text-align: right;\n",
       "    }\n",
       "</style>\n",
       "<table border=\"1\" class=\"dataframe\">\n",
       "  <thead>\n",
       "    <tr style=\"text-align: right;\">\n",
       "      <th></th>\n",
       "      <th>Area</th>\n",
       "      <th>Year</th>\n",
       "      <th>pesticides_tonnes</th>\n",
       "    </tr>\n",
       "  </thead>\n",
       "  <tbody>\n",
       "    <tr>\n",
       "      <th>0</th>\n",
       "      <td>Albania</td>\n",
       "      <td>1990</td>\n",
       "      <td>121.0</td>\n",
       "    </tr>\n",
       "    <tr>\n",
       "      <th>1</th>\n",
       "      <td>Albania</td>\n",
       "      <td>1991</td>\n",
       "      <td>121.0</td>\n",
       "    </tr>\n",
       "    <tr>\n",
       "      <th>2</th>\n",
       "      <td>Albania</td>\n",
       "      <td>1992</td>\n",
       "      <td>121.0</td>\n",
       "    </tr>\n",
       "    <tr>\n",
       "      <th>3</th>\n",
       "      <td>Albania</td>\n",
       "      <td>1993</td>\n",
       "      <td>121.0</td>\n",
       "    </tr>\n",
       "    <tr>\n",
       "      <th>4</th>\n",
       "      <td>Albania</td>\n",
       "      <td>1994</td>\n",
       "      <td>201.0</td>\n",
       "    </tr>\n",
       "  </tbody>\n",
       "</table>\n",
       "</div>"
      ],
      "text/plain": [
       "      Area  Year  pesticides_tonnes\n",
       "0  Albania  1990              121.0\n",
       "1  Albania  1991              121.0\n",
       "2  Albania  1992              121.0\n",
       "3  Albania  1993              121.0\n",
       "4  Albania  1994              201.0"
      ]
     },
     "execution_count": 84,
     "metadata": {},
     "output_type": "execute_result"
    }
   ],
   "source": [
    "df_pes = df_pes.rename(index=str, columns={\"Value\": \"pesticides_tonnes\"})\n",
    "df_pes = df_pes.drop(['Element','Domain','Unit','Item'], axis=1)\n",
    "df_pes.head()"
   ]
  },
  {
   "cell_type": "code",
   "execution_count": 85,
   "id": "bcac204f",
   "metadata": {
    "execution": {
     "iopub.execute_input": "2021-12-10T09:16:24.174006Z",
     "iopub.status.busy": "2021-12-10T09:16:24.173411Z",
     "iopub.status.idle": "2021-12-10T09:16:24.188268Z",
     "shell.execute_reply": "2021-12-10T09:16:24.187765Z",
     "shell.execute_reply.started": "2021-12-10T08:05:20.853788Z"
    },
    "papermill": {
     "duration": 0.093598,
     "end_time": "2021-12-10T09:16:24.188411",
     "exception": false,
     "start_time": "2021-12-10T09:16:24.094813",
     "status": "completed"
    },
    "scrolled": true,
    "tags": []
   },
   "outputs": [
    {
     "data": {
      "text/html": [
       "<div>\n",
       "<style scoped>\n",
       "    .dataframe tbody tr th:only-of-type {\n",
       "        vertical-align: middle;\n",
       "    }\n",
       "\n",
       "    .dataframe tbody tr th {\n",
       "        vertical-align: top;\n",
       "    }\n",
       "\n",
       "    .dataframe thead th {\n",
       "        text-align: right;\n",
       "    }\n",
       "</style>\n",
       "<table border=\"1\" class=\"dataframe\">\n",
       "  <thead>\n",
       "    <tr style=\"text-align: right;\">\n",
       "      <th></th>\n",
       "      <th>Year</th>\n",
       "      <th>pesticides_tonnes</th>\n",
       "    </tr>\n",
       "  </thead>\n",
       "  <tbody>\n",
       "    <tr>\n",
       "      <th>count</th>\n",
       "      <td>4349.000000</td>\n",
       "      <td>4.349000e+03</td>\n",
       "    </tr>\n",
       "    <tr>\n",
       "      <th>mean</th>\n",
       "      <td>2003.138883</td>\n",
       "      <td>2.030334e+04</td>\n",
       "    </tr>\n",
       "    <tr>\n",
       "      <th>std</th>\n",
       "      <td>7.728044</td>\n",
       "      <td>1.177362e+05</td>\n",
       "    </tr>\n",
       "    <tr>\n",
       "      <th>min</th>\n",
       "      <td>1990.000000</td>\n",
       "      <td>0.000000e+00</td>\n",
       "    </tr>\n",
       "    <tr>\n",
       "      <th>25%</th>\n",
       "      <td>1996.000000</td>\n",
       "      <td>9.300000e+01</td>\n",
       "    </tr>\n",
       "    <tr>\n",
       "      <th>50%</th>\n",
       "      <td>2003.000000</td>\n",
       "      <td>1.137560e+03</td>\n",
       "    </tr>\n",
       "    <tr>\n",
       "      <th>75%</th>\n",
       "      <td>2010.000000</td>\n",
       "      <td>7.869000e+03</td>\n",
       "    </tr>\n",
       "    <tr>\n",
       "      <th>max</th>\n",
       "      <td>2016.000000</td>\n",
       "      <td>1.807000e+06</td>\n",
       "    </tr>\n",
       "  </tbody>\n",
       "</table>\n",
       "</div>"
      ],
      "text/plain": [
       "              Year  pesticides_tonnes\n",
       "count  4349.000000       4.349000e+03\n",
       "mean   2003.138883       2.030334e+04\n",
       "std       7.728044       1.177362e+05\n",
       "min    1990.000000       0.000000e+00\n",
       "25%    1996.000000       9.300000e+01\n",
       "50%    2003.000000       1.137560e+03\n",
       "75%    2010.000000       7.869000e+03\n",
       "max    2016.000000       1.807000e+06"
      ]
     },
     "execution_count": 85,
     "metadata": {},
     "output_type": "execute_result"
    }
   ],
   "source": [
    "df_pes.describe()"
   ]
  },
  {
   "cell_type": "code",
   "execution_count": 86,
   "id": "9a6aaf33",
   "metadata": {
    "execution": {
     "iopub.execute_input": "2021-12-10T09:16:24.341466Z",
     "iopub.status.busy": "2021-12-10T09:16:24.340546Z",
     "iopub.status.idle": "2021-12-10T09:16:24.354006Z",
     "shell.execute_reply": "2021-12-10T09:16:24.354757Z",
     "shell.execute_reply.started": "2021-12-10T08:05:20.878922Z"
    },
    "papermill": {
     "duration": 0.091743,
     "end_time": "2021-12-10T09:16:24.354989",
     "exception": false,
     "start_time": "2021-12-10T09:16:24.263246",
     "status": "completed"
    },
    "tags": []
   },
   "outputs": [
    {
     "name": "stdout",
     "output_type": "stream",
     "text": [
      "<class 'pandas.core.frame.DataFrame'>\n",
      "Index: 4349 entries, 0 to 4348\n",
      "Data columns (total 3 columns):\n",
      " #   Column             Non-Null Count  Dtype  \n",
      "---  ------             --------------  -----  \n",
      " 0   Area               4349 non-null   object \n",
      " 1   Year               4349 non-null   int64  \n",
      " 2   pesticides_tonnes  4349 non-null   float64\n",
      "dtypes: float64(1), int64(1), object(1)\n",
      "memory usage: 135.9+ KB\n"
     ]
    }
   ],
   "source": [
    "df_pes.info()"
   ]
  },
  {
   "cell_type": "code",
   "execution_count": 87,
   "id": "b2927cdf",
   "metadata": {
    "execution": {
     "iopub.execute_input": "2021-12-10T09:16:24.512970Z",
     "iopub.status.busy": "2021-12-10T09:16:24.511922Z",
     "iopub.status.idle": "2021-12-10T09:16:24.523658Z",
     "shell.execute_reply": "2021-12-10T09:16:24.523050Z",
     "shell.execute_reply.started": "2021-12-10T08:05:20.894462Z"
    },
    "papermill": {
     "duration": 0.092298,
     "end_time": "2021-12-10T09:16:24.523831",
     "exception": false,
     "start_time": "2021-12-10T09:16:24.431533",
     "status": "completed"
    },
    "tags": []
   },
   "outputs": [
    {
     "data": {
      "text/plain": [
       "(18949, 6)"
      ]
     },
     "execution_count": 87,
     "metadata": {},
     "output_type": "execute_result"
    }
   ],
   "source": [
    "# merge Pesticides dataframe with yield dataframe \n",
    "yield_df = pd.merge(yield_df, df_pes, on=['Year','Area'])\n",
    "yield_df.shape"
   ]
  },
  {
   "cell_type": "code",
   "execution_count": 88,
   "id": "9b4c5047",
   "metadata": {
    "execution": {
     "iopub.execute_input": "2021-12-10T09:16:24.687941Z",
     "iopub.status.busy": "2021-12-10T09:16:24.687292Z",
     "iopub.status.idle": "2021-12-10T09:16:24.690703Z",
     "shell.execute_reply": "2021-12-10T09:16:24.690157Z",
     "shell.execute_reply.started": "2021-12-10T08:05:20.910205Z"
    },
    "papermill": {
     "duration": 0.09091,
     "end_time": "2021-12-10T09:16:24.690840",
     "exception": false,
     "start_time": "2021-12-10T09:16:24.599930",
     "status": "completed"
    },
    "scrolled": true,
    "tags": []
   },
   "outputs": [
    {
     "data": {
      "text/html": [
       "<div>\n",
       "<style scoped>\n",
       "    .dataframe tbody tr th:only-of-type {\n",
       "        vertical-align: middle;\n",
       "    }\n",
       "\n",
       "    .dataframe tbody tr th {\n",
       "        vertical-align: top;\n",
       "    }\n",
       "\n",
       "    .dataframe thead th {\n",
       "        text-align: right;\n",
       "    }\n",
       "</style>\n",
       "<table border=\"1\" class=\"dataframe\">\n",
       "  <thead>\n",
       "    <tr style=\"text-align: right;\">\n",
       "      <th></th>\n",
       "      <th>Area</th>\n",
       "      <th>Item</th>\n",
       "      <th>Year</th>\n",
       "      <th>hg/ha_yield</th>\n",
       "      <th>average_rain_fall_mm_per_year</th>\n",
       "      <th>pesticides_tonnes</th>\n",
       "    </tr>\n",
       "  </thead>\n",
       "  <tbody>\n",
       "    <tr>\n",
       "      <th>0</th>\n",
       "      <td>Albania</td>\n",
       "      <td>Maize</td>\n",
       "      <td>1990</td>\n",
       "      <td>36613</td>\n",
       "      <td>1485.0</td>\n",
       "      <td>121.0</td>\n",
       "    </tr>\n",
       "    <tr>\n",
       "      <th>1</th>\n",
       "      <td>Albania</td>\n",
       "      <td>Potatoes</td>\n",
       "      <td>1990</td>\n",
       "      <td>66667</td>\n",
       "      <td>1485.0</td>\n",
       "      <td>121.0</td>\n",
       "    </tr>\n",
       "    <tr>\n",
       "      <th>2</th>\n",
       "      <td>Albania</td>\n",
       "      <td>Rice, paddy</td>\n",
       "      <td>1990</td>\n",
       "      <td>23333</td>\n",
       "      <td>1485.0</td>\n",
       "      <td>121.0</td>\n",
       "    </tr>\n",
       "    <tr>\n",
       "      <th>3</th>\n",
       "      <td>Albania</td>\n",
       "      <td>Sorghum</td>\n",
       "      <td>1990</td>\n",
       "      <td>12500</td>\n",
       "      <td>1485.0</td>\n",
       "      <td>121.0</td>\n",
       "    </tr>\n",
       "    <tr>\n",
       "      <th>4</th>\n",
       "      <td>Albania</td>\n",
       "      <td>Soybeans</td>\n",
       "      <td>1990</td>\n",
       "      <td>7000</td>\n",
       "      <td>1485.0</td>\n",
       "      <td>121.0</td>\n",
       "    </tr>\n",
       "  </tbody>\n",
       "</table>\n",
       "</div>"
      ],
      "text/plain": [
       "      Area         Item  Year  hg/ha_yield  average_rain_fall_mm_per_year  \\\n",
       "0  Albania        Maize  1990        36613                         1485.0   \n",
       "1  Albania     Potatoes  1990        66667                         1485.0   \n",
       "2  Albania  Rice, paddy  1990        23333                         1485.0   \n",
       "3  Albania      Sorghum  1990        12500                         1485.0   \n",
       "4  Albania     Soybeans  1990         7000                         1485.0   \n",
       "\n",
       "   pesticides_tonnes  \n",
       "0              121.0  \n",
       "1              121.0  \n",
       "2              121.0  \n",
       "3              121.0  \n",
       "4              121.0  "
      ]
     },
     "execution_count": 88,
     "metadata": {},
     "output_type": "execute_result"
    }
   ],
   "source": [
    "yield_df.head()"
   ]
  },
  {
   "cell_type": "markdown",
   "id": "1393b1f5",
   "metadata": {
    "papermill": {
     "duration": 0.080573,
     "end_time": "2021-12-10T09:16:24.849470",
     "exception": false,
     "start_time": "2021-12-10T09:16:24.768897",
     "status": "completed"
    },
    "tags": []
   },
   "source": [
    "### Average Temprature: \n",
    "\n",
    "Average Temprature for each country was colleced from World Bank Data. "
   ]
  },
  {
   "cell_type": "code",
   "execution_count": 89,
   "id": "09555b71",
   "metadata": {
    "execution": {
     "iopub.execute_input": "2021-12-10T09:16:25.008889Z",
     "iopub.status.busy": "2021-12-10T09:16:25.008143Z",
     "iopub.status.idle": "2021-12-10T09:16:25.062208Z",
     "shell.execute_reply": "2021-12-10T09:16:25.062764Z",
     "shell.execute_reply.started": "2021-12-10T08:05:20.925199Z"
    },
    "papermill": {
     "duration": 0.136184,
     "end_time": "2021-12-10T09:16:25.062936",
     "exception": false,
     "start_time": "2021-12-10T09:16:24.926752",
     "status": "completed"
    },
    "tags": []
   },
   "outputs": [],
   "source": [
    "avg_temp=  pd.read_csv('data/temp.csv')"
   ]
  },
  {
   "cell_type": "code",
   "execution_count": 90,
   "id": "686e6cb8",
   "metadata": {
    "execution": {
     "iopub.execute_input": "2021-12-10T09:16:25.218945Z",
     "iopub.status.busy": "2021-12-10T09:16:25.218301Z",
     "iopub.status.idle": "2021-12-10T09:16:25.227064Z",
     "shell.execute_reply": "2021-12-10T09:16:25.227687Z",
     "shell.execute_reply.started": "2021-12-10T08:05:20.987233Z"
    },
    "papermill": {
     "duration": 0.088762,
     "end_time": "2021-12-10T09:16:25.227860",
     "exception": false,
     "start_time": "2021-12-10T09:16:25.139098",
     "status": "completed"
    },
    "scrolled": true,
    "tags": []
   },
   "outputs": [
    {
     "data": {
      "text/html": [
       "<div>\n",
       "<style scoped>\n",
       "    .dataframe tbody tr th:only-of-type {\n",
       "        vertical-align: middle;\n",
       "    }\n",
       "\n",
       "    .dataframe tbody tr th {\n",
       "        vertical-align: top;\n",
       "    }\n",
       "\n",
       "    .dataframe thead th {\n",
       "        text-align: right;\n",
       "    }\n",
       "</style>\n",
       "<table border=\"1\" class=\"dataframe\">\n",
       "  <thead>\n",
       "    <tr style=\"text-align: right;\">\n",
       "      <th></th>\n",
       "      <th>year</th>\n",
       "      <th>country</th>\n",
       "      <th>avg_temp</th>\n",
       "    </tr>\n",
       "  </thead>\n",
       "  <tbody>\n",
       "    <tr>\n",
       "      <th>0</th>\n",
       "      <td>1849</td>\n",
       "      <td>Côte D'Ivoire</td>\n",
       "      <td>25.58</td>\n",
       "    </tr>\n",
       "    <tr>\n",
       "      <th>1</th>\n",
       "      <td>1850</td>\n",
       "      <td>Côte D'Ivoire</td>\n",
       "      <td>25.52</td>\n",
       "    </tr>\n",
       "    <tr>\n",
       "      <th>2</th>\n",
       "      <td>1851</td>\n",
       "      <td>Côte D'Ivoire</td>\n",
       "      <td>25.67</td>\n",
       "    </tr>\n",
       "    <tr>\n",
       "      <th>3</th>\n",
       "      <td>1852</td>\n",
       "      <td>Côte D'Ivoire</td>\n",
       "      <td>NaN</td>\n",
       "    </tr>\n",
       "    <tr>\n",
       "      <th>4</th>\n",
       "      <td>1853</td>\n",
       "      <td>Côte D'Ivoire</td>\n",
       "      <td>NaN</td>\n",
       "    </tr>\n",
       "  </tbody>\n",
       "</table>\n",
       "</div>"
      ],
      "text/plain": [
       "   year        country  avg_temp\n",
       "0  1849  Côte D'Ivoire     25.58\n",
       "1  1850  Côte D'Ivoire     25.52\n",
       "2  1851  Côte D'Ivoire     25.67\n",
       "3  1852  Côte D'Ivoire       NaN\n",
       "4  1853  Côte D'Ivoire       NaN"
      ]
     },
     "execution_count": 90,
     "metadata": {},
     "output_type": "execute_result"
    }
   ],
   "source": [
    "avg_temp.head()"
   ]
  },
  {
   "cell_type": "code",
   "execution_count": 91,
   "id": "ede46efd",
   "metadata": {
    "execution": {
     "iopub.execute_input": "2021-12-10T09:16:25.386061Z",
     "iopub.status.busy": "2021-12-10T09:16:25.385431Z",
     "iopub.status.idle": "2021-12-10T09:16:25.405574Z",
     "shell.execute_reply": "2021-12-10T09:16:25.406130Z",
     "shell.execute_reply.started": "2021-12-10T08:05:21.001871Z"
    },
    "papermill": {
     "duration": 0.099996,
     "end_time": "2021-12-10T09:16:25.406328",
     "exception": false,
     "start_time": "2021-12-10T09:16:25.306332",
     "status": "completed"
    },
    "scrolled": true,
    "tags": []
   },
   "outputs": [
    {
     "data": {
      "text/html": [
       "<div>\n",
       "<style scoped>\n",
       "    .dataframe tbody tr th:only-of-type {\n",
       "        vertical-align: middle;\n",
       "    }\n",
       "\n",
       "    .dataframe tbody tr th {\n",
       "        vertical-align: top;\n",
       "    }\n",
       "\n",
       "    .dataframe thead th {\n",
       "        text-align: right;\n",
       "    }\n",
       "</style>\n",
       "<table border=\"1\" class=\"dataframe\">\n",
       "  <thead>\n",
       "    <tr style=\"text-align: right;\">\n",
       "      <th></th>\n",
       "      <th>year</th>\n",
       "      <th>avg_temp</th>\n",
       "    </tr>\n",
       "  </thead>\n",
       "  <tbody>\n",
       "    <tr>\n",
       "      <th>count</th>\n",
       "      <td>71311.000000</td>\n",
       "      <td>68764.000000</td>\n",
       "    </tr>\n",
       "    <tr>\n",
       "      <th>mean</th>\n",
       "      <td>1905.799007</td>\n",
       "      <td>16.183876</td>\n",
       "    </tr>\n",
       "    <tr>\n",
       "      <th>std</th>\n",
       "      <td>67.102099</td>\n",
       "      <td>7.592960</td>\n",
       "    </tr>\n",
       "    <tr>\n",
       "      <th>min</th>\n",
       "      <td>1743.000000</td>\n",
       "      <td>-14.350000</td>\n",
       "    </tr>\n",
       "    <tr>\n",
       "      <th>25%</th>\n",
       "      <td>1858.000000</td>\n",
       "      <td>9.750000</td>\n",
       "    </tr>\n",
       "    <tr>\n",
       "      <th>50%</th>\n",
       "      <td>1910.000000</td>\n",
       "      <td>16.140000</td>\n",
       "    </tr>\n",
       "    <tr>\n",
       "      <th>75%</th>\n",
       "      <td>1962.000000</td>\n",
       "      <td>23.762500</td>\n",
       "    </tr>\n",
       "    <tr>\n",
       "      <th>max</th>\n",
       "      <td>2013.000000</td>\n",
       "      <td>30.730000</td>\n",
       "    </tr>\n",
       "  </tbody>\n",
       "</table>\n",
       "</div>"
      ],
      "text/plain": [
       "               year      avg_temp\n",
       "count  71311.000000  68764.000000\n",
       "mean    1905.799007     16.183876\n",
       "std       67.102099      7.592960\n",
       "min     1743.000000    -14.350000\n",
       "25%     1858.000000      9.750000\n",
       "50%     1910.000000     16.140000\n",
       "75%     1962.000000     23.762500\n",
       "max     2013.000000     30.730000"
      ]
     },
     "execution_count": 91,
     "metadata": {},
     "output_type": "execute_result"
    }
   ],
   "source": [
    "avg_temp.describe()"
   ]
  },
  {
   "cell_type": "markdown",
   "id": "a65c3f56",
   "metadata": {
    "papermill": {
     "duration": 0.078072,
     "end_time": "2021-12-10T09:16:25.561365",
     "exception": false,
     "start_time": "2021-12-10T09:16:25.483293",
     "status": "completed"
    },
    "tags": []
   },
   "source": [
    "So average temprature starts from 1743 and ends at 2013, with some empty rows that we have to drop."
   ]
  },
  {
   "cell_type": "code",
   "execution_count": 92,
   "id": "c246f8a1",
   "metadata": {
    "execution": {
     "iopub.execute_input": "2021-12-10T09:16:25.720461Z",
     "iopub.status.busy": "2021-12-10T09:16:25.719847Z",
     "iopub.status.idle": "2021-12-10T09:16:25.754531Z",
     "shell.execute_reply": "2021-12-10T09:16:25.755184Z",
     "shell.execute_reply.started": "2021-12-10T08:05:21.024873Z"
    },
    "papermill": {
     "duration": 0.11466,
     "end_time": "2021-12-10T09:16:25.755353",
     "exception": false,
     "start_time": "2021-12-10T09:16:25.640693",
     "status": "completed"
    },
    "scrolled": true,
    "tags": []
   },
   "outputs": [
    {
     "data": {
      "text/html": [
       "<div>\n",
       "<style scoped>\n",
       "    .dataframe tbody tr th:only-of-type {\n",
       "        vertical-align: middle;\n",
       "    }\n",
       "\n",
       "    .dataframe tbody tr th {\n",
       "        vertical-align: top;\n",
       "    }\n",
       "\n",
       "    .dataframe thead th {\n",
       "        text-align: right;\n",
       "    }\n",
       "</style>\n",
       "<table border=\"1\" class=\"dataframe\">\n",
       "  <thead>\n",
       "    <tr style=\"text-align: right;\">\n",
       "      <th></th>\n",
       "      <th>Year</th>\n",
       "      <th>Area</th>\n",
       "      <th>avg_temp</th>\n",
       "    </tr>\n",
       "  </thead>\n",
       "  <tbody>\n",
       "    <tr>\n",
       "      <th>0</th>\n",
       "      <td>1849</td>\n",
       "      <td>Côte D'Ivoire</td>\n",
       "      <td>25.58</td>\n",
       "    </tr>\n",
       "    <tr>\n",
       "      <th>1</th>\n",
       "      <td>1850</td>\n",
       "      <td>Côte D'Ivoire</td>\n",
       "      <td>25.52</td>\n",
       "    </tr>\n",
       "    <tr>\n",
       "      <th>2</th>\n",
       "      <td>1851</td>\n",
       "      <td>Côte D'Ivoire</td>\n",
       "      <td>25.67</td>\n",
       "    </tr>\n",
       "    <tr>\n",
       "      <th>3</th>\n",
       "      <td>1852</td>\n",
       "      <td>Côte D'Ivoire</td>\n",
       "      <td>NaN</td>\n",
       "    </tr>\n",
       "    <tr>\n",
       "      <th>4</th>\n",
       "      <td>1853</td>\n",
       "      <td>Côte D'Ivoire</td>\n",
       "      <td>NaN</td>\n",
       "    </tr>\n",
       "  </tbody>\n",
       "</table>\n",
       "</div>"
      ],
      "text/plain": [
       "   Year           Area  avg_temp\n",
       "0  1849  Côte D'Ivoire     25.58\n",
       "1  1850  Côte D'Ivoire     25.52\n",
       "2  1851  Côte D'Ivoire     25.67\n",
       "3  1852  Côte D'Ivoire       NaN\n",
       "4  1853  Côte D'Ivoire       NaN"
      ]
     },
     "execution_count": 92,
     "metadata": {},
     "output_type": "execute_result"
    }
   ],
   "source": [
    "avg_temp = avg_temp.rename(index=str, columns={\"year\": \"Year\", \"country\":'Area'})\n",
    "avg_temp.head()"
   ]
  },
  {
   "cell_type": "code",
   "execution_count": 93,
   "id": "62a5346d",
   "metadata": {
    "execution": {
     "iopub.execute_input": "2021-12-10T09:16:25.919520Z",
     "iopub.status.busy": "2021-12-10T09:16:25.918877Z",
     "iopub.status.idle": "2021-12-10T09:16:25.951780Z",
     "shell.execute_reply": "2021-12-10T09:16:25.951232Z",
     "shell.execute_reply.started": "2021-12-10T08:05:21.062437Z"
    },
    "papermill": {
     "duration": 0.116166,
     "end_time": "2021-12-10T09:16:25.951925",
     "exception": false,
     "start_time": "2021-12-10T09:16:25.835759",
     "status": "completed"
    },
    "scrolled": true,
    "tags": []
   },
   "outputs": [
    {
     "data": {
      "text/html": [
       "<div>\n",
       "<style scoped>\n",
       "    .dataframe tbody tr th:only-of-type {\n",
       "        vertical-align: middle;\n",
       "    }\n",
       "\n",
       "    .dataframe tbody tr th {\n",
       "        vertical-align: top;\n",
       "    }\n",
       "\n",
       "    .dataframe thead th {\n",
       "        text-align: right;\n",
       "    }\n",
       "</style>\n",
       "<table border=\"1\" class=\"dataframe\">\n",
       "  <thead>\n",
       "    <tr style=\"text-align: right;\">\n",
       "      <th></th>\n",
       "      <th>Area</th>\n",
       "      <th>Item</th>\n",
       "      <th>Year</th>\n",
       "      <th>hg/ha_yield</th>\n",
       "      <th>average_rain_fall_mm_per_year</th>\n",
       "      <th>pesticides_tonnes</th>\n",
       "      <th>avg_temp</th>\n",
       "    </tr>\n",
       "  </thead>\n",
       "  <tbody>\n",
       "    <tr>\n",
       "      <th>0</th>\n",
       "      <td>Albania</td>\n",
       "      <td>Maize</td>\n",
       "      <td>1990</td>\n",
       "      <td>36613</td>\n",
       "      <td>1485.0</td>\n",
       "      <td>121.0</td>\n",
       "      <td>16.37</td>\n",
       "    </tr>\n",
       "    <tr>\n",
       "      <th>1</th>\n",
       "      <td>Albania</td>\n",
       "      <td>Potatoes</td>\n",
       "      <td>1990</td>\n",
       "      <td>66667</td>\n",
       "      <td>1485.0</td>\n",
       "      <td>121.0</td>\n",
       "      <td>16.37</td>\n",
       "    </tr>\n",
       "    <tr>\n",
       "      <th>2</th>\n",
       "      <td>Albania</td>\n",
       "      <td>Rice, paddy</td>\n",
       "      <td>1990</td>\n",
       "      <td>23333</td>\n",
       "      <td>1485.0</td>\n",
       "      <td>121.0</td>\n",
       "      <td>16.37</td>\n",
       "    </tr>\n",
       "    <tr>\n",
       "      <th>3</th>\n",
       "      <td>Albania</td>\n",
       "      <td>Sorghum</td>\n",
       "      <td>1990</td>\n",
       "      <td>12500</td>\n",
       "      <td>1485.0</td>\n",
       "      <td>121.0</td>\n",
       "      <td>16.37</td>\n",
       "    </tr>\n",
       "    <tr>\n",
       "      <th>4</th>\n",
       "      <td>Albania</td>\n",
       "      <td>Soybeans</td>\n",
       "      <td>1990</td>\n",
       "      <td>7000</td>\n",
       "      <td>1485.0</td>\n",
       "      <td>121.0</td>\n",
       "      <td>16.37</td>\n",
       "    </tr>\n",
       "  </tbody>\n",
       "</table>\n",
       "</div>"
      ],
      "text/plain": [
       "      Area         Item  Year  hg/ha_yield  average_rain_fall_mm_per_year  \\\n",
       "0  Albania        Maize  1990        36613                         1485.0   \n",
       "1  Albania     Potatoes  1990        66667                         1485.0   \n",
       "2  Albania  Rice, paddy  1990        23333                         1485.0   \n",
       "3  Albania      Sorghum  1990        12500                         1485.0   \n",
       "4  Albania     Soybeans  1990         7000                         1485.0   \n",
       "\n",
       "   pesticides_tonnes  avg_temp  \n",
       "0              121.0     16.37  \n",
       "1              121.0     16.37  \n",
       "2              121.0     16.37  \n",
       "3              121.0     16.37  \n",
       "4              121.0     16.37  "
      ]
     },
     "execution_count": 93,
     "metadata": {},
     "output_type": "execute_result"
    }
   ],
   "source": [
    "yield_df = pd.merge(yield_df,avg_temp, on=['Area','Year'])\n",
    "yield_df.head()"
   ]
  },
  {
   "cell_type": "code",
   "execution_count": 94,
   "id": "9937f396",
   "metadata": {
    "execution": {
     "iopub.execute_input": "2021-12-10T09:16:26.112491Z",
     "iopub.status.busy": "2021-12-10T09:16:26.111838Z",
     "iopub.status.idle": "2021-12-10T09:16:26.116161Z",
     "shell.execute_reply": "2021-12-10T09:16:26.116704Z",
     "shell.execute_reply.started": "2021-12-10T08:05:21.098180Z"
    },
    "papermill": {
     "duration": 0.086058,
     "end_time": "2021-12-10T09:16:26.116876",
     "exception": false,
     "start_time": "2021-12-10T09:16:26.030818",
     "status": "completed"
    },
    "tags": []
   },
   "outputs": [
    {
     "data": {
      "text/plain": [
       "(28242, 7)"
      ]
     },
     "execution_count": 94,
     "metadata": {},
     "output_type": "execute_result"
    }
   ],
   "source": [
    "yield_df.shape"
   ]
  },
  {
   "cell_type": "code",
   "execution_count": 95,
   "id": "d9f4e311",
   "metadata": {
    "execution": {
     "iopub.execute_input": "2021-12-10T09:16:26.277897Z",
     "iopub.status.busy": "2021-12-10T09:16:26.277243Z",
     "iopub.status.idle": "2021-12-10T09:16:26.303475Z",
     "shell.execute_reply": "2021-12-10T09:16:26.304047Z",
     "shell.execute_reply.started": "2021-12-10T08:05:21.105975Z"
    },
    "papermill": {
     "duration": 0.109268,
     "end_time": "2021-12-10T09:16:26.304240",
     "exception": false,
     "start_time": "2021-12-10T09:16:26.194972",
     "status": "completed"
    },
    "tags": []
   },
   "outputs": [
    {
     "data": {
      "text/html": [
       "<div>\n",
       "<style scoped>\n",
       "    .dataframe tbody tr th:only-of-type {\n",
       "        vertical-align: middle;\n",
       "    }\n",
       "\n",
       "    .dataframe tbody tr th {\n",
       "        vertical-align: top;\n",
       "    }\n",
       "\n",
       "    .dataframe thead th {\n",
       "        text-align: right;\n",
       "    }\n",
       "</style>\n",
       "<table border=\"1\" class=\"dataframe\">\n",
       "  <thead>\n",
       "    <tr style=\"text-align: right;\">\n",
       "      <th></th>\n",
       "      <th>Year</th>\n",
       "      <th>hg/ha_yield</th>\n",
       "      <th>average_rain_fall_mm_per_year</th>\n",
       "      <th>pesticides_tonnes</th>\n",
       "      <th>avg_temp</th>\n",
       "    </tr>\n",
       "  </thead>\n",
       "  <tbody>\n",
       "    <tr>\n",
       "      <th>count</th>\n",
       "      <td>28242.000000</td>\n",
       "      <td>28242.000000</td>\n",
       "      <td>28242.00000</td>\n",
       "      <td>28242.000000</td>\n",
       "      <td>28242.000000</td>\n",
       "    </tr>\n",
       "    <tr>\n",
       "      <th>mean</th>\n",
       "      <td>2001.544296</td>\n",
       "      <td>77053.332094</td>\n",
       "      <td>1149.05598</td>\n",
       "      <td>37076.909344</td>\n",
       "      <td>20.542627</td>\n",
       "    </tr>\n",
       "    <tr>\n",
       "      <th>std</th>\n",
       "      <td>7.051905</td>\n",
       "      <td>84956.612897</td>\n",
       "      <td>709.81215</td>\n",
       "      <td>59958.784665</td>\n",
       "      <td>6.312051</td>\n",
       "    </tr>\n",
       "    <tr>\n",
       "      <th>min</th>\n",
       "      <td>1990.000000</td>\n",
       "      <td>50.000000</td>\n",
       "      <td>51.00000</td>\n",
       "      <td>0.040000</td>\n",
       "      <td>1.300000</td>\n",
       "    </tr>\n",
       "    <tr>\n",
       "      <th>25%</th>\n",
       "      <td>1995.000000</td>\n",
       "      <td>19919.250000</td>\n",
       "      <td>593.00000</td>\n",
       "      <td>1702.000000</td>\n",
       "      <td>16.702500</td>\n",
       "    </tr>\n",
       "    <tr>\n",
       "      <th>50%</th>\n",
       "      <td>2001.000000</td>\n",
       "      <td>38295.000000</td>\n",
       "      <td>1083.00000</td>\n",
       "      <td>17529.440000</td>\n",
       "      <td>21.510000</td>\n",
       "    </tr>\n",
       "    <tr>\n",
       "      <th>75%</th>\n",
       "      <td>2008.000000</td>\n",
       "      <td>104676.750000</td>\n",
       "      <td>1668.00000</td>\n",
       "      <td>48687.880000</td>\n",
       "      <td>26.000000</td>\n",
       "    </tr>\n",
       "    <tr>\n",
       "      <th>max</th>\n",
       "      <td>2013.000000</td>\n",
       "      <td>501412.000000</td>\n",
       "      <td>3240.00000</td>\n",
       "      <td>367778.000000</td>\n",
       "      <td>30.650000</td>\n",
       "    </tr>\n",
       "  </tbody>\n",
       "</table>\n",
       "</div>"
      ],
      "text/plain": [
       "               Year    hg/ha_yield  average_rain_fall_mm_per_year  \\\n",
       "count  28242.000000   28242.000000                    28242.00000   \n",
       "mean    2001.544296   77053.332094                     1149.05598   \n",
       "std        7.051905   84956.612897                      709.81215   \n",
       "min     1990.000000      50.000000                       51.00000   \n",
       "25%     1995.000000   19919.250000                      593.00000   \n",
       "50%     2001.000000   38295.000000                     1083.00000   \n",
       "75%     2008.000000  104676.750000                     1668.00000   \n",
       "max     2013.000000  501412.000000                     3240.00000   \n",
       "\n",
       "       pesticides_tonnes      avg_temp  \n",
       "count       28242.000000  28242.000000  \n",
       "mean        37076.909344     20.542627  \n",
       "std         59958.784665      6.312051  \n",
       "min             0.040000      1.300000  \n",
       "25%          1702.000000     16.702500  \n",
       "50%         17529.440000     21.510000  \n",
       "75%         48687.880000     26.000000  \n",
       "max        367778.000000     30.650000  "
      ]
     },
     "execution_count": 95,
     "metadata": {},
     "output_type": "execute_result"
    }
   ],
   "source": [
    "yield_df.describe()"
   ]
  },
  {
   "cell_type": "code",
   "execution_count": 96,
   "id": "3749b75b",
   "metadata": {
    "execution": {
     "iopub.execute_input": "2021-12-10T09:16:26.474011Z",
     "iopub.status.busy": "2021-12-10T09:16:26.473212Z",
     "iopub.status.idle": "2021-12-10T09:16:26.480241Z",
     "shell.execute_reply": "2021-12-10T09:16:26.479581Z",
     "shell.execute_reply.started": "2021-12-10T08:05:21.141697Z"
    },
    "papermill": {
     "duration": 0.096698,
     "end_time": "2021-12-10T09:16:26.480383",
     "exception": false,
     "start_time": "2021-12-10T09:16:26.383685",
     "status": "completed"
    },
    "scrolled": true,
    "tags": []
   },
   "outputs": [
    {
     "data": {
      "text/plain": [
       "Area                             0\n",
       "Item                             0\n",
       "Year                             0\n",
       "hg/ha_yield                      0\n",
       "average_rain_fall_mm_per_year    0\n",
       "pesticides_tonnes                0\n",
       "avg_temp                         0\n",
       "dtype: int64"
      ]
     },
     "execution_count": 96,
     "metadata": {},
     "output_type": "execute_result"
    }
   ],
   "source": [
    "yield_df.isnull().sum()"
   ]
  },
  {
   "cell_type": "markdown",
   "id": "2501c083",
   "metadata": {
    "papermill": {
     "duration": 0.079373,
     "end_time": "2021-12-10T09:16:26.640105",
     "exception": false,
     "start_time": "2021-12-10T09:16:26.560732",
     "status": "completed"
    },
    "tags": []
   },
   "source": [
    "Great, no empty values!"
   ]
  },
  {
   "cell_type": "markdown",
   "id": "a69a77f1",
   "metadata": {
    "papermill": {
     "duration": 0.079003,
     "end_time": "2021-12-10T09:16:26.798430",
     "exception": false,
     "start_time": "2021-12-10T09:16:26.719427",
     "status": "completed"
    },
    "tags": []
   },
   "source": [
    "# Data Exploration\n",
    "\n"
   ]
  },
  {
   "cell_type": "markdown",
   "id": "c56fd60a",
   "metadata": {
    "papermill": {
     "duration": 0.078734,
     "end_time": "2021-12-10T09:16:26.957312",
     "exception": false,
     "start_time": "2021-12-10T09:16:26.878578",
     "status": "completed"
    },
    "tags": []
   },
   "source": [
    "**yield_df** is the final obtained dataframe; "
   ]
  },
  {
   "cell_type": "code",
   "execution_count": 97,
   "id": "331ebbac",
   "metadata": {
    "execution": {
     "iopub.execute_input": "2021-12-10T09:16:27.124234Z",
     "iopub.status.busy": "2021-12-10T09:16:27.123541Z",
     "iopub.status.idle": "2021-12-10T09:16:27.138928Z",
     "shell.execute_reply": "2021-12-10T09:16:27.138381Z",
     "shell.execute_reply.started": "2021-12-10T08:05:21.154456Z"
    },
    "papermill": {
     "duration": 0.102335,
     "end_time": "2021-12-10T09:16:27.139069",
     "exception": false,
     "start_time": "2021-12-10T09:16:27.036734",
     "status": "completed"
    },
    "scrolled": true,
    "tags": []
   },
   "outputs": [
    {
     "data": {
      "text/html": [
       "<div>\n",
       "<style scoped>\n",
       "    .dataframe tbody tr th:only-of-type {\n",
       "        vertical-align: middle;\n",
       "    }\n",
       "\n",
       "    .dataframe tbody tr th {\n",
       "        vertical-align: top;\n",
       "    }\n",
       "\n",
       "    .dataframe thead th {\n",
       "        text-align: right;\n",
       "    }\n",
       "</style>\n",
       "<table border=\"1\" class=\"dataframe\">\n",
       "  <thead>\n",
       "    <tr style=\"text-align: right;\">\n",
       "      <th></th>\n",
       "      <th>Area</th>\n",
       "      <th>Year</th>\n",
       "      <th>hg/ha_yield</th>\n",
       "      <th>average_rain_fall_mm_per_year</th>\n",
       "      <th>pesticides_tonnes</th>\n",
       "      <th>avg_temp</th>\n",
       "    </tr>\n",
       "    <tr>\n",
       "      <th>Item</th>\n",
       "      <th></th>\n",
       "      <th></th>\n",
       "      <th></th>\n",
       "      <th></th>\n",
       "      <th></th>\n",
       "      <th></th>\n",
       "    </tr>\n",
       "  </thead>\n",
       "  <tbody>\n",
       "    <tr>\n",
       "      <th>Cassava</th>\n",
       "      <td>2045</td>\n",
       "      <td>2045</td>\n",
       "      <td>2045</td>\n",
       "      <td>2045</td>\n",
       "      <td>2045</td>\n",
       "      <td>2045</td>\n",
       "    </tr>\n",
       "    <tr>\n",
       "      <th>Maize</th>\n",
       "      <td>4121</td>\n",
       "      <td>4121</td>\n",
       "      <td>4121</td>\n",
       "      <td>4121</td>\n",
       "      <td>4121</td>\n",
       "      <td>4121</td>\n",
       "    </tr>\n",
       "    <tr>\n",
       "      <th>Plantains and others</th>\n",
       "      <td>556</td>\n",
       "      <td>556</td>\n",
       "      <td>556</td>\n",
       "      <td>556</td>\n",
       "      <td>556</td>\n",
       "      <td>556</td>\n",
       "    </tr>\n",
       "    <tr>\n",
       "      <th>Potatoes</th>\n",
       "      <td>4276</td>\n",
       "      <td>4276</td>\n",
       "      <td>4276</td>\n",
       "      <td>4276</td>\n",
       "      <td>4276</td>\n",
       "      <td>4276</td>\n",
       "    </tr>\n",
       "    <tr>\n",
       "      <th>Rice, paddy</th>\n",
       "      <td>3388</td>\n",
       "      <td>3388</td>\n",
       "      <td>3388</td>\n",
       "      <td>3388</td>\n",
       "      <td>3388</td>\n",
       "      <td>3388</td>\n",
       "    </tr>\n",
       "    <tr>\n",
       "      <th>Sorghum</th>\n",
       "      <td>3039</td>\n",
       "      <td>3039</td>\n",
       "      <td>3039</td>\n",
       "      <td>3039</td>\n",
       "      <td>3039</td>\n",
       "      <td>3039</td>\n",
       "    </tr>\n",
       "    <tr>\n",
       "      <th>Soybeans</th>\n",
       "      <td>3223</td>\n",
       "      <td>3223</td>\n",
       "      <td>3223</td>\n",
       "      <td>3223</td>\n",
       "      <td>3223</td>\n",
       "      <td>3223</td>\n",
       "    </tr>\n",
       "    <tr>\n",
       "      <th>Sweet potatoes</th>\n",
       "      <td>2890</td>\n",
       "      <td>2890</td>\n",
       "      <td>2890</td>\n",
       "      <td>2890</td>\n",
       "      <td>2890</td>\n",
       "      <td>2890</td>\n",
       "    </tr>\n",
       "    <tr>\n",
       "      <th>Wheat</th>\n",
       "      <td>3857</td>\n",
       "      <td>3857</td>\n",
       "      <td>3857</td>\n",
       "      <td>3857</td>\n",
       "      <td>3857</td>\n",
       "      <td>3857</td>\n",
       "    </tr>\n",
       "    <tr>\n",
       "      <th>Yams</th>\n",
       "      <td>847</td>\n",
       "      <td>847</td>\n",
       "      <td>847</td>\n",
       "      <td>847</td>\n",
       "      <td>847</td>\n",
       "      <td>847</td>\n",
       "    </tr>\n",
       "  </tbody>\n",
       "</table>\n",
       "</div>"
      ],
      "text/plain": [
       "                      Area  Year  hg/ha_yield  average_rain_fall_mm_per_year  \\\n",
       "Item                                                                           \n",
       "Cassava               2045  2045         2045                           2045   \n",
       "Maize                 4121  4121         4121                           4121   \n",
       "Plantains and others   556   556          556                            556   \n",
       "Potatoes              4276  4276         4276                           4276   \n",
       "Rice, paddy           3388  3388         3388                           3388   \n",
       "Sorghum               3039  3039         3039                           3039   \n",
       "Soybeans              3223  3223         3223                           3223   \n",
       "Sweet potatoes        2890  2890         2890                           2890   \n",
       "Wheat                 3857  3857         3857                           3857   \n",
       "Yams                   847   847          847                            847   \n",
       "\n",
       "                      pesticides_tonnes  avg_temp  \n",
       "Item                                               \n",
       "Cassava                            2045      2045  \n",
       "Maize                              4121      4121  \n",
       "Plantains and others                556       556  \n",
       "Potatoes                           4276      4276  \n",
       "Rice, paddy                        3388      3388  \n",
       "Sorghum                            3039      3039  \n",
       "Soybeans                           3223      3223  \n",
       "Sweet potatoes                     2890      2890  \n",
       "Wheat                              3857      3857  \n",
       "Yams                                847       847  "
      ]
     },
     "execution_count": 97,
     "metadata": {},
     "output_type": "execute_result"
    }
   ],
   "source": [
    "yield_df.groupby('Item').count()"
   ]
  },
  {
   "cell_type": "code",
   "execution_count": 98,
   "id": "088b5691",
   "metadata": {
    "execution": {
     "iopub.execute_input": "2021-12-10T09:16:27.306979Z",
     "iopub.status.busy": "2021-12-10T09:16:27.306334Z",
     "iopub.status.idle": "2021-12-10T09:16:27.331029Z",
     "shell.execute_reply": "2021-12-10T09:16:27.330439Z",
     "shell.execute_reply.started": "2021-12-10T08:05:21.173201Z"
    },
    "papermill": {
     "duration": 0.110255,
     "end_time": "2021-12-10T09:16:27.331191",
     "exception": false,
     "start_time": "2021-12-10T09:16:27.220936",
     "status": "completed"
    },
    "tags": []
   },
   "outputs": [
    {
     "data": {
      "text/html": [
       "<div>\n",
       "<style scoped>\n",
       "    .dataframe tbody tr th:only-of-type {\n",
       "        vertical-align: middle;\n",
       "    }\n",
       "\n",
       "    .dataframe tbody tr th {\n",
       "        vertical-align: top;\n",
       "    }\n",
       "\n",
       "    .dataframe thead th {\n",
       "        text-align: right;\n",
       "    }\n",
       "</style>\n",
       "<table border=\"1\" class=\"dataframe\">\n",
       "  <thead>\n",
       "    <tr style=\"text-align: right;\">\n",
       "      <th></th>\n",
       "      <th>Year</th>\n",
       "      <th>hg/ha_yield</th>\n",
       "      <th>average_rain_fall_mm_per_year</th>\n",
       "      <th>pesticides_tonnes</th>\n",
       "      <th>avg_temp</th>\n",
       "    </tr>\n",
       "  </thead>\n",
       "  <tbody>\n",
       "    <tr>\n",
       "      <th>count</th>\n",
       "      <td>28242.000000</td>\n",
       "      <td>28242.000000</td>\n",
       "      <td>28242.00000</td>\n",
       "      <td>28242.000000</td>\n",
       "      <td>28242.000000</td>\n",
       "    </tr>\n",
       "    <tr>\n",
       "      <th>mean</th>\n",
       "      <td>2001.544296</td>\n",
       "      <td>77053.332094</td>\n",
       "      <td>1149.05598</td>\n",
       "      <td>37076.909344</td>\n",
       "      <td>20.542627</td>\n",
       "    </tr>\n",
       "    <tr>\n",
       "      <th>std</th>\n",
       "      <td>7.051905</td>\n",
       "      <td>84956.612897</td>\n",
       "      <td>709.81215</td>\n",
       "      <td>59958.784665</td>\n",
       "      <td>6.312051</td>\n",
       "    </tr>\n",
       "    <tr>\n",
       "      <th>min</th>\n",
       "      <td>1990.000000</td>\n",
       "      <td>50.000000</td>\n",
       "      <td>51.00000</td>\n",
       "      <td>0.040000</td>\n",
       "      <td>1.300000</td>\n",
       "    </tr>\n",
       "    <tr>\n",
       "      <th>25%</th>\n",
       "      <td>1995.000000</td>\n",
       "      <td>19919.250000</td>\n",
       "      <td>593.00000</td>\n",
       "      <td>1702.000000</td>\n",
       "      <td>16.702500</td>\n",
       "    </tr>\n",
       "    <tr>\n",
       "      <th>50%</th>\n",
       "      <td>2001.000000</td>\n",
       "      <td>38295.000000</td>\n",
       "      <td>1083.00000</td>\n",
       "      <td>17529.440000</td>\n",
       "      <td>21.510000</td>\n",
       "    </tr>\n",
       "    <tr>\n",
       "      <th>75%</th>\n",
       "      <td>2008.000000</td>\n",
       "      <td>104676.750000</td>\n",
       "      <td>1668.00000</td>\n",
       "      <td>48687.880000</td>\n",
       "      <td>26.000000</td>\n",
       "    </tr>\n",
       "    <tr>\n",
       "      <th>max</th>\n",
       "      <td>2013.000000</td>\n",
       "      <td>501412.000000</td>\n",
       "      <td>3240.00000</td>\n",
       "      <td>367778.000000</td>\n",
       "      <td>30.650000</td>\n",
       "    </tr>\n",
       "  </tbody>\n",
       "</table>\n",
       "</div>"
      ],
      "text/plain": [
       "               Year    hg/ha_yield  average_rain_fall_mm_per_year  \\\n",
       "count  28242.000000   28242.000000                    28242.00000   \n",
       "mean    2001.544296   77053.332094                     1149.05598   \n",
       "std        7.051905   84956.612897                      709.81215   \n",
       "min     1990.000000      50.000000                       51.00000   \n",
       "25%     1995.000000   19919.250000                      593.00000   \n",
       "50%     2001.000000   38295.000000                     1083.00000   \n",
       "75%     2008.000000  104676.750000                     1668.00000   \n",
       "max     2013.000000  501412.000000                     3240.00000   \n",
       "\n",
       "       pesticides_tonnes      avg_temp  \n",
       "count       28242.000000  28242.000000  \n",
       "mean        37076.909344     20.542627  \n",
       "std         59958.784665      6.312051  \n",
       "min             0.040000      1.300000  \n",
       "25%          1702.000000     16.702500  \n",
       "50%         17529.440000     21.510000  \n",
       "75%         48687.880000     26.000000  \n",
       "max        367778.000000     30.650000  "
      ]
     },
     "execution_count": 98,
     "metadata": {},
     "output_type": "execute_result"
    }
   ],
   "source": [
    "yield_df.describe()"
   ]
  },
  {
   "cell_type": "markdown",
   "id": "91156c9b",
   "metadata": {
    "papermill": {
     "duration": 0.079856,
     "end_time": "2021-12-10T09:16:27.490909",
     "exception": false,
     "start_time": "2021-12-10T09:16:27.411053",
     "status": "completed"
    },
    "tags": []
   },
   "source": [
    "It can be noticed the high variance in the values for each columns, later on I'll account for that will scaling. "
   ]
  },
  {
   "cell_type": "code",
   "execution_count": 99,
   "id": "416b8b22",
   "metadata": {
    "execution": {
     "iopub.execute_input": "2021-12-10T09:16:27.657608Z",
     "iopub.status.busy": "2021-12-10T09:16:27.656759Z",
     "iopub.status.idle": "2021-12-10T09:16:27.661670Z",
     "shell.execute_reply": "2021-12-10T09:16:27.661163Z",
     "shell.execute_reply.started": "2021-12-10T08:05:21.200826Z"
    },
    "papermill": {
     "duration": 0.090769,
     "end_time": "2021-12-10T09:16:27.661814",
     "exception": false,
     "start_time": "2021-12-10T09:16:27.571045",
     "status": "completed"
    },
    "tags": []
   },
   "outputs": [
    {
     "data": {
      "text/plain": [
       "101"
      ]
     },
     "execution_count": 99,
     "metadata": {},
     "output_type": "execute_result"
    }
   ],
   "source": [
    "yield_df['Area'].nunique()"
   ]
  },
  {
   "cell_type": "markdown",
   "id": "85ffcaf4",
   "metadata": {
    "papermill": {
     "duration": 0.080098,
     "end_time": "2021-12-10T09:16:27.822630",
     "exception": false,
     "start_time": "2021-12-10T09:16:27.742532",
     "status": "completed"
    },
    "tags": []
   },
   "source": [
    "The dataframe has 101 Countries, ordering these by 10 the highest yield production: "
   ]
  },
  {
   "cell_type": "code",
   "execution_count": 100,
   "id": "07df458d",
   "metadata": {
    "execution": {
     "iopub.execute_input": "2021-12-10T09:16:27.994752Z",
     "iopub.status.busy": "2021-12-10T09:16:27.993730Z",
     "iopub.status.idle": "2021-12-10T09:16:28.003284Z",
     "shell.execute_reply": "2021-12-10T09:16:28.003750Z",
     "shell.execute_reply.started": "2021-12-10T08:05:21.210771Z"
    },
    "papermill": {
     "duration": 0.097959,
     "end_time": "2021-12-10T09:16:28.003922",
     "exception": false,
     "start_time": "2021-12-10T09:16:27.905963",
     "status": "completed"
    },
    "scrolled": true,
    "tags": []
   },
   "outputs": [
    {
     "data": {
      "text/plain": [
       "Area\n",
       "India             327420324\n",
       "Brazil            167550306\n",
       "Mexico            130788528\n",
       "Japan             124470912\n",
       "Australia         109111062\n",
       "Pakistan           73897434\n",
       "Indonesia          69193506\n",
       "United Kingdom     55419990\n",
       "Turkey             52263950\n",
       "Spain              46773540\n",
       "Name: hg/ha_yield, dtype: int64"
      ]
     },
     "execution_count": 100,
     "metadata": {},
     "output_type": "execute_result"
    }
   ],
   "source": [
    "yield_df.groupby(['Area'],sort=True)['hg/ha_yield'].sum().nlargest(10)"
   ]
  },
  {
   "cell_type": "markdown",
   "id": "11604777",
   "metadata": {
    "papermill": {
     "duration": 0.08055,
     "end_time": "2021-12-10T09:16:28.166479",
     "exception": false,
     "start_time": "2021-12-10T09:16:28.085929",
     "status": "completed"
    },
    "tags": []
   },
   "source": [
    "India has the highest yield production in the dataset. Inclusing items in the groupby:"
   ]
  },
  {
   "cell_type": "code",
   "execution_count": 101,
   "id": "e058a038",
   "metadata": {
    "execution": {
     "iopub.execute_input": "2021-12-10T09:16:28.335530Z",
     "iopub.status.busy": "2021-12-10T09:16:28.334515Z",
     "iopub.status.idle": "2021-12-10T09:16:28.348747Z",
     "shell.execute_reply": "2021-12-10T09:16:28.348098Z",
     "shell.execute_reply.started": "2021-12-10T08:05:21.227146Z"
    },
    "papermill": {
     "duration": 0.101751,
     "end_time": "2021-12-10T09:16:28.348885",
     "exception": false,
     "start_time": "2021-12-10T09:16:28.247134",
     "status": "completed"
    },
    "scrolled": true,
    "tags": []
   },
   "outputs": [
    {
     "data": {
      "text/plain": [
       "Item            Area          \n",
       "Cassava         India             142810624\n",
       "Potatoes        India              92122514\n",
       "                Brazil             49602168\n",
       "                United Kingdom     46705145\n",
       "                Australia          45670386\n",
       "Sweet potatoes  India              44439538\n",
       "Potatoes        Japan              42918726\n",
       "                Mexico             42053880\n",
       "Sweet potatoes  Mexico             35808592\n",
       "                Australia          35550294\n",
       "Name: hg/ha_yield, dtype: int64"
      ]
     },
     "execution_count": 101,
     "metadata": {},
     "output_type": "execute_result"
    }
   ],
   "source": [
    "yield_df.groupby(['Item','Area'],sort=True)['hg/ha_yield'].sum().nlargest(10)"
   ]
  },
  {
   "cell_type": "markdown",
   "id": "d2504a48",
   "metadata": {
    "papermill": {
     "duration": 0.080225,
     "end_time": "2021-12-10T09:16:28.510362",
     "exception": false,
     "start_time": "2021-12-10T09:16:28.430137",
     "status": "completed"
    },
    "tags": []
   },
   "source": [
    "India is the highest for production of cassava and potatoes. Potatoes seems to be the dominated crop in the dataset, being the highest in 4 countries. "
   ]
  },
  {
   "cell_type": "markdown",
   "id": "936b422b",
   "metadata": {
    "papermill": {
     "duration": 0.080556,
     "end_time": "2021-12-10T09:16:28.671867",
     "exception": false,
     "start_time": "2021-12-10T09:16:28.591311",
     "status": "completed"
    },
    "tags": []
   },
   "source": [
    "The final dataframe starts from 1990 and ends in 2013, that's 23 years worth of data for 101 countries. "
   ]
  },
  {
   "cell_type": "markdown",
   "id": "3c1f4ef3",
   "metadata": {
    "papermill": {
     "duration": 0.080547,
     "end_time": "2021-12-10T09:16:28.833568",
     "exception": false,
     "start_time": "2021-12-10T09:16:28.753021",
     "status": "completed"
    },
    "tags": []
   },
   "source": [
    "Now, exploring the relationships between the colunms of the dataframe, a good way to quickly check correlations among columns is by visualizing the correlation matrix as a heatmap."
   ]
  },
  {
   "cell_type": "code",
   "execution_count": 102,
   "id": "b5fd473f",
   "metadata": {
    "execution": {
     "iopub.execute_input": "2021-12-10T09:16:29.028298Z",
     "iopub.status.busy": "2021-12-10T09:16:29.027519Z",
     "iopub.status.idle": "2021-12-10T09:16:30.127945Z",
     "shell.execute_reply": "2021-12-10T09:16:30.127353Z",
     "shell.execute_reply.started": "2021-12-10T08:05:21.244973Z"
    },
    "papermill": {
     "duration": 1.204724,
     "end_time": "2021-12-10T09:16:30.128087",
     "exception": false,
     "start_time": "2021-12-10T09:16:28.923363",
     "status": "completed"
    },
    "tags": []
   },
   "outputs": [],
   "source": [
    "import sklearn\n",
    "import seaborn as sns\n",
    "import matplotlib.pyplot as plt"
   ]
  },
  {
   "cell_type": "code",
   "execution_count": 103,
   "id": "450f78a3",
   "metadata": {
    "execution": {
     "iopub.execute_input": "2021-12-10T09:16:30.305275Z",
     "iopub.status.busy": "2021-12-10T09:16:30.304632Z",
     "iopub.status.idle": "2021-12-10T09:16:30.682288Z",
     "shell.execute_reply": "2021-12-10T09:16:30.681358Z",
     "shell.execute_reply.started": "2021-12-10T08:05:22.320659Z"
    },
    "papermill": {
     "duration": 0.471802,
     "end_time": "2021-12-10T09:16:30.682432",
     "exception": false,
     "start_time": "2021-12-10T09:16:30.210630",
     "status": "completed"
    },
    "tags": []
   },
   "outputs": [
    {
     "name": "stderr",
     "output_type": "stream",
     "text": [
      "C:\\Users\\jhaas\\AppData\\Local\\Temp\\ipykernel_19552\\4006580737.py:3: DeprecationWarning: `np.bool` is a deprecated alias for the builtin `bool`. To silence this warning, use `bool` by itself. Doing this will not modify any behavior and is safe. If you specifically wanted the numpy scalar type, use `np.bool_` here.\n",
      "Deprecated in NumPy 1.20; for more details and guidance: https://numpy.org/devdocs/release/1.20.0-notes.html#deprecations\n",
      "  mask = np.zeros_like(correlation_data, dtype=np.bool)\n"
     ]
    },
    {
     "data": {
      "image/png": "[encoded data removed]",
      "text/plain": [
       "<Figure size 792x648 with 2 Axes>"
      ]
     },
     "metadata": {
      "needs_background": "light"
     },
     "output_type": "display_data"
    }
   ],
   "source": [
    "correlation_data=yield_df.select_dtypes(include=[np.number]).corr()\n",
    "\n",
    "mask = np.zeros_like(correlation_data, dtype=np.bool)\n",
    "mask[np.triu_indices_from(mask)] = True\n",
    "\n",
    "f, ax = plt.subplots(figsize=(11, 9))\n",
    "\n",
    "# Generate a custom diverging colormap\n",
    "cmap = sns.palette=\"vlag\"\n",
    "\n",
    "# Draw the heatmap with the mask and correct aspect ratio\n",
    "sns.heatmap(correlation_data, mask=mask, cmap=cmap, vmax=.3, center=0,\n",
    "            square=True, linewidths=.5, cbar_kws={\"shrink\": .5});"
   ]
  },
  {
   "cell_type": "markdown",
   "id": "9bd6e510",
   "metadata": {
    "papermill": {
     "duration": 0.082816,
     "end_time": "2021-12-10T09:16:30.847770",
     "exception": false,
     "start_time": "2021-12-10T09:16:30.764954",
     "status": "completed"
    },
    "tags": []
   },
   "source": [
    "It can be seen from the above correlation map that there is no correlation between any of the colmuns in the dataframe. "
   ]
  },
  {
   "cell_type": "markdown",
   "id": "8cf42ca8",
   "metadata": {
    "papermill": {
     "duration": 0.08305,
     "end_time": "2021-12-10T09:16:31.015310",
     "exception": false,
     "start_time": "2021-12-10T09:16:30.932260",
     "status": "completed"
    },
    "tags": []
   },
   "source": [
    "# Data Preprocessing"
   ]
  },
  {
   "cell_type": "markdown",
   "id": "0049116b",
   "metadata": {
    "papermill": {
     "duration": 0.082282,
     "end_time": "2021-12-10T09:16:31.180108",
     "exception": false,
     "start_time": "2021-12-10T09:16:31.097826",
     "status": "completed"
    },
    "tags": []
   },
   "source": [
    "Data Preprocessing is a technique that is used to convert the raw data into a clean data set. In other words, whenever the data is gathered from different sources it is collected in raw format which is not feasible for the analysis.  \n",
    "\n",
    "\n"
   ]
  },
  {
   "cell_type": "code",
   "execution_count": 104,
   "id": "8204ee29",
   "metadata": {
    "execution": {
     "iopub.execute_input": "2021-12-10T09:16:31.347902Z",
     "iopub.status.busy": "2021-12-10T09:16:31.347289Z",
     "iopub.status.idle": "2021-12-10T09:16:31.360156Z",
     "shell.execute_reply": "2021-12-10T09:16:31.360726Z",
     "shell.execute_reply.started": "2021-12-10T08:05:22.637117Z"
    },
    "papermill": {
     "duration": 0.098123,
     "end_time": "2021-12-10T09:16:31.360896",
     "exception": false,
     "start_time": "2021-12-10T09:16:31.262773",
     "status": "completed"
    },
    "scrolled": true,
    "tags": []
   },
   "outputs": [
    {
     "data": {
      "text/html": [
       "<div>\n",
       "<style scoped>\n",
       "    .dataframe tbody tr th:only-of-type {\n",
       "        vertical-align: middle;\n",
       "    }\n",
       "\n",
       "    .dataframe tbody tr th {\n",
       "        vertical-align: top;\n",
       "    }\n",
       "\n",
       "    .dataframe thead th {\n",
       "        text-align: right;\n",
       "    }\n",
       "</style>\n",
       "<table border=\"1\" class=\"dataframe\">\n",
       "  <thead>\n",
       "    <tr style=\"text-align: right;\">\n",
       "      <th></th>\n",
       "      <th>Area</th>\n",
       "      <th>Item</th>\n",
       "      <th>Year</th>\n",
       "      <th>hg/ha_yield</th>\n",
       "      <th>average_rain_fall_mm_per_year</th>\n",
       "      <th>pesticides_tonnes</th>\n",
       "      <th>avg_temp</th>\n",
       "    </tr>\n",
       "  </thead>\n",
       "  <tbody>\n",
       "    <tr>\n",
       "      <th>0</th>\n",
       "      <td>Albania</td>\n",
       "      <td>Maize</td>\n",
       "      <td>1990</td>\n",
       "      <td>36613</td>\n",
       "      <td>1485.0</td>\n",
       "      <td>121.0</td>\n",
       "      <td>16.37</td>\n",
       "    </tr>\n",
       "    <tr>\n",
       "      <th>1</th>\n",
       "      <td>Albania</td>\n",
       "      <td>Potatoes</td>\n",
       "      <td>1990</td>\n",
       "      <td>66667</td>\n",
       "      <td>1485.0</td>\n",
       "      <td>121.0</td>\n",
       "      <td>16.37</td>\n",
       "    </tr>\n",
       "    <tr>\n",
       "      <th>2</th>\n",
       "      <td>Albania</td>\n",
       "      <td>Rice, paddy</td>\n",
       "      <td>1990</td>\n",
       "      <td>23333</td>\n",
       "      <td>1485.0</td>\n",
       "      <td>121.0</td>\n",
       "      <td>16.37</td>\n",
       "    </tr>\n",
       "    <tr>\n",
       "      <th>3</th>\n",
       "      <td>Albania</td>\n",
       "      <td>Sorghum</td>\n",
       "      <td>1990</td>\n",
       "      <td>12500</td>\n",
       "      <td>1485.0</td>\n",
       "      <td>121.0</td>\n",
       "      <td>16.37</td>\n",
       "    </tr>\n",
       "    <tr>\n",
       "      <th>4</th>\n",
       "      <td>Albania</td>\n",
       "      <td>Soybeans</td>\n",
       "      <td>1990</td>\n",
       "      <td>7000</td>\n",
       "      <td>1485.0</td>\n",
       "      <td>121.0</td>\n",
       "      <td>16.37</td>\n",
       "    </tr>\n",
       "  </tbody>\n",
       "</table>\n",
       "</div>"
      ],
      "text/plain": [
       "      Area         Item  Year  hg/ha_yield  average_rain_fall_mm_per_year  \\\n",
       "0  Albania        Maize  1990        36613                         1485.0   \n",
       "1  Albania     Potatoes  1990        66667                         1485.0   \n",
       "2  Albania  Rice, paddy  1990        23333                         1485.0   \n",
       "3  Albania      Sorghum  1990        12500                         1485.0   \n",
       "4  Albania     Soybeans  1990         7000                         1485.0   \n",
       "\n",
       "   pesticides_tonnes  avg_temp  \n",
       "0              121.0     16.37  \n",
       "1              121.0     16.37  \n",
       "2              121.0     16.37  \n",
       "3              121.0     16.37  \n",
       "4              121.0     16.37  "
      ]
     },
     "execution_count": 104,
     "metadata": {},
     "output_type": "execute_result"
    }
   ],
   "source": [
    "yield_df.head()"
   ]
  },
  {
   "cell_type": "markdown",
   "id": "b6badc54",
   "metadata": {
    "papermill": {
     "duration": 0.08264,
     "end_time": "2021-12-10T09:16:31.526507",
     "exception": false,
     "start_time": "2021-12-10T09:16:31.443867",
     "status": "completed"
    },
    "tags": []
   },
   "source": [
    "### Encoding Categorical Variables:\n",
    "There are two categorical columns in the dataframe, categorical data are variables that contain label values rather than numeric values. The number of possible values is often limited to a fixed set, like in this case, items and countries values.\n",
    "Many machine learning algorithms cannot operate on label data directly. They require all input variables and output variables to be numeric.\n",
    "\n",
    "This means that categorical data must be converted to a numerical form. One hot encoding is a process by which categorical variables are converted into a form that could be provided to ML algorithms to do a better job in prediction. For that purpose, One-Hot Encoding will be used to convert these two columns to one-hot numeric array.\n",
    "\n",
    "The categorical value represents the numerical value of the entry in the dataset. This encoding will create a binary column for each category and returns a matrix with the results. \n"
   ]
  },
  {
   "cell_type": "code",
   "execution_count": 105,
   "id": "8dd9e719",
   "metadata": {
    "execution": {
     "iopub.execute_input": "2021-12-10T09:16:31.695882Z",
     "iopub.status.busy": "2021-12-10T09:16:31.695285Z",
     "iopub.status.idle": "2021-12-10T09:16:31.723899Z",
     "shell.execute_reply": "2021-12-10T09:16:31.724435Z",
     "shell.execute_reply.started": "2021-12-10T08:05:22.652633Z"
    },
    "papermill": {
     "duration": 0.114627,
     "end_time": "2021-12-10T09:16:31.724603",
     "exception": false,
     "start_time": "2021-12-10T09:16:31.609976",
     "status": "completed"
    },
    "tags": []
   },
   "outputs": [],
   "source": [
    "from sklearn.preprocessing import OneHotEncoder"
   ]
  },
  {
   "cell_type": "code",
   "execution_count": 106,
   "id": "69cbf842",
   "metadata": {
    "execution": {
     "iopub.execute_input": "2021-12-10T09:16:31.895529Z",
     "iopub.status.busy": "2021-12-10T09:16:31.894870Z",
     "iopub.status.idle": "2021-12-10T09:16:31.944275Z",
     "shell.execute_reply": "2021-12-10T09:16:31.944764Z",
     "shell.execute_reply.started": "2021-12-10T08:05:22.688240Z"
    },
    "papermill": {
     "duration": 0.13712,
     "end_time": "2021-12-10T09:16:31.944927",
     "exception": false,
     "start_time": "2021-12-10T09:16:31.807807",
     "status": "completed"
    },
    "tags": []
   },
   "outputs": [
    {
     "data": {
      "text/html": [
       "<div>\n",
       "<style scoped>\n",
       "    .dataframe tbody tr th:only-of-type {\n",
       "        vertical-align: middle;\n",
       "    }\n",
       "\n",
       "    .dataframe tbody tr th {\n",
       "        vertical-align: top;\n",
       "    }\n",
       "\n",
       "    .dataframe thead th {\n",
       "        text-align: right;\n",
       "    }\n",
       "</style>\n",
       "<table border=\"1\" class=\"dataframe\">\n",
       "  <thead>\n",
       "    <tr style=\"text-align: right;\">\n",
       "      <th></th>\n",
       "      <th>Year</th>\n",
       "      <th>average_rain_fall_mm_per_year</th>\n",
       "      <th>pesticides_tonnes</th>\n",
       "      <th>avg_temp</th>\n",
       "      <th>Country_Albania</th>\n",
       "      <th>Country_Algeria</th>\n",
       "      <th>Country_Angola</th>\n",
       "      <th>Country_Argentina</th>\n",
       "      <th>Country_Armenia</th>\n",
       "      <th>Country_Australia</th>\n",
       "      <th>...</th>\n",
       "      <th>Item_Cassava</th>\n",
       "      <th>Item_Maize</th>\n",
       "      <th>Item_Plantains and others</th>\n",
       "      <th>Item_Potatoes</th>\n",
       "      <th>Item_Rice, paddy</th>\n",
       "      <th>Item_Sorghum</th>\n",
       "      <th>Item_Soybeans</th>\n",
       "      <th>Item_Sweet potatoes</th>\n",
       "      <th>Item_Wheat</th>\n",
       "      <th>Item_Yams</th>\n",
       "    </tr>\n",
       "  </thead>\n",
       "  <tbody>\n",
       "    <tr>\n",
       "      <th>0</th>\n",
       "      <td>1990</td>\n",
       "      <td>1485.0</td>\n",
       "      <td>121.0</td>\n",
       "      <td>16.37</td>\n",
       "      <td>1</td>\n",
       "      <td>0</td>\n",
       "      <td>0</td>\n",
       "      <td>0</td>\n",
       "      <td>0</td>\n",
       "      <td>0</td>\n",
       "      <td>...</td>\n",
       "      <td>0</td>\n",
       "      <td>1</td>\n",
       "      <td>0</td>\n",
       "      <td>0</td>\n",
       "      <td>0</td>\n",
       "      <td>0</td>\n",
       "      <td>0</td>\n",
       "      <td>0</td>\n",
       "      <td>0</td>\n",
       "      <td>0</td>\n",
       "    </tr>\n",
       "    <tr>\n",
       "      <th>1</th>\n",
       "      <td>1990</td>\n",
       "      <td>1485.0</td>\n",
       "      <td>121.0</td>\n",
       "      <td>16.37</td>\n",
       "      <td>1</td>\n",
       "      <td>0</td>\n",
       "      <td>0</td>\n",
       "      <td>0</td>\n",
       "      <td>0</td>\n",
       "      <td>0</td>\n",
       "      <td>...</td>\n",
       "      <td>0</td>\n",
       "      <td>0</td>\n",
       "      <td>0</td>\n",
       "      <td>1</td>\n",
       "      <td>0</td>\n",
       "      <td>0</td>\n",
       "      <td>0</td>\n",
       "      <td>0</td>\n",
       "      <td>0</td>\n",
       "      <td>0</td>\n",
       "    </tr>\n",
       "    <tr>\n",
       "      <th>2</th>\n",
       "      <td>1990</td>\n",
       "      <td>1485.0</td>\n",
       "      <td>121.0</td>\n",
       "      <td>16.37</td>\n",
       "      <td>1</td>\n",
       "      <td>0</td>\n",
       "      <td>0</td>\n",
       "      <td>0</td>\n",
       "      <td>0</td>\n",
       "      <td>0</td>\n",
       "      <td>...</td>\n",
       "      <td>0</td>\n",
       "      <td>0</td>\n",
       "      <td>0</td>\n",
       "      <td>0</td>\n",
       "      <td>1</td>\n",
       "      <td>0</td>\n",
       "      <td>0</td>\n",
       "      <td>0</td>\n",
       "      <td>0</td>\n",
       "      <td>0</td>\n",
       "    </tr>\n",
       "    <tr>\n",
       "      <th>3</th>\n",
       "      <td>1990</td>\n",
       "      <td>1485.0</td>\n",
       "      <td>121.0</td>\n",
       "      <td>16.37</td>\n",
       "      <td>1</td>\n",
       "      <td>0</td>\n",
       "      <td>0</td>\n",
       "      <td>0</td>\n",
       "      <td>0</td>\n",
       "      <td>0</td>\n",
       "      <td>...</td>\n",
       "      <td>0</td>\n",
       "      <td>0</td>\n",
       "      <td>0</td>\n",
       "      <td>0</td>\n",
       "      <td>0</td>\n",
       "      <td>1</td>\n",
       "      <td>0</td>\n",
       "      <td>0</td>\n",
       "      <td>0</td>\n",
       "      <td>0</td>\n",
       "    </tr>\n",
       "    <tr>\n",
       "      <th>4</th>\n",
       "      <td>1990</td>\n",
       "      <td>1485.0</td>\n",
       "      <td>121.0</td>\n",
       "      <td>16.37</td>\n",
       "      <td>1</td>\n",
       "      <td>0</td>\n",
       "      <td>0</td>\n",
       "      <td>0</td>\n",
       "      <td>0</td>\n",
       "      <td>0</td>\n",
       "      <td>...</td>\n",
       "      <td>0</td>\n",
       "      <td>0</td>\n",
       "      <td>0</td>\n",
       "      <td>0</td>\n",
       "      <td>0</td>\n",
       "      <td>0</td>\n",
       "      <td>1</td>\n",
       "      <td>0</td>\n",
       "      <td>0</td>\n",
       "      <td>0</td>\n",
       "    </tr>\n",
       "  </tbody>\n",
       "</table>\n",
       "<p>5 rows × 115 columns</p>\n",
       "</div>"
      ],
      "text/plain": [
       "   Year  average_rain_fall_mm_per_year  pesticides_tonnes  avg_temp  \\\n",
       "0  1990                         1485.0              121.0     16.37   \n",
       "1  1990                         1485.0              121.0     16.37   \n",
       "2  1990                         1485.0              121.0     16.37   \n",
       "3  1990                         1485.0              121.0     16.37   \n",
       "4  1990                         1485.0              121.0     16.37   \n",
       "\n",
       "   Country_Albania  Country_Algeria  Country_Angola  Country_Argentina  \\\n",
       "0                1                0               0                  0   \n",
       "1                1                0               0                  0   \n",
       "2                1                0               0                  0   \n",
       "3                1                0               0                  0   \n",
       "4                1                0               0                  0   \n",
       "\n",
       "   Country_Armenia  Country_Australia  ...  Item_Cassava  Item_Maize  \\\n",
       "0                0                  0  ...             0           1   \n",
       "1                0                  0  ...             0           0   \n",
       "2                0                  0  ...             0           0   \n",
       "3                0                  0  ...             0           0   \n",
       "4                0                  0  ...             0           0   \n",
       "\n",
       "   Item_Plantains and others  Item_Potatoes  Item_Rice, paddy  Item_Sorghum  \\\n",
       "0                          0              0                 0             0   \n",
       "1                          0              1                 0             0   \n",
       "2                          0              0                 1             0   \n",
       "3                          0              0                 0             1   \n",
       "4                          0              0                 0             0   \n",
       "\n",
       "   Item_Soybeans  Item_Sweet potatoes  Item_Wheat  Item_Yams  \n",
       "0              0                    0           0          0  \n",
       "1              0                    0           0          0  \n",
       "2              0                    0           0          0  \n",
       "3              0                    0           0          0  \n",
       "4              1                    0           0          0  \n",
       "\n",
       "[5 rows x 115 columns]"
      ]
     },
     "execution_count": 106,
     "metadata": {},
     "output_type": "execute_result"
    }
   ],
   "source": [
    "yield_df_onehot = pd.get_dummies(yield_df, columns=['Area',\"Item\"], prefix = ['Country',\"Item\"])\n",
    "features=yield_df_onehot.loc[:, yield_df_onehot.columns != 'hg/ha_yield']\n",
    "label=yield_df['hg/ha_yield']\n",
    "features.head()"
   ]
  },
  {
   "cell_type": "code",
   "execution_count": 107,
   "id": "9006729c",
   "metadata": {
    "execution": {
     "iopub.execute_input": "2021-12-10T09:16:32.116522Z",
     "iopub.status.busy": "2021-12-10T09:16:32.115869Z",
     "iopub.status.idle": "2021-12-10T09:16:32.123815Z",
     "shell.execute_reply": "2021-12-10T09:16:32.124357Z",
     "shell.execute_reply.started": "2021-12-10T08:05:22.738995Z"
    },
    "papermill": {
     "duration": 0.095436,
     "end_time": "2021-12-10T09:16:32.124521",
     "exception": false,
     "start_time": "2021-12-10T09:16:32.029085",
     "status": "completed"
    },
    "tags": []
   },
   "outputs": [],
   "source": [
    "features_rnn = features.copy()\n",
    "features = features.drop(['Year'], axis=1)"
   ]
  },
  {
   "cell_type": "code",
   "execution_count": 46,
   "id": "51de10be",
   "metadata": {
    "execution": {
     "iopub.execute_input": "2021-12-10T09:16:32.294270Z",
     "iopub.status.busy": "2021-12-10T09:16:32.293645Z",
     "iopub.status.idle": "2021-12-10T09:16:32.310060Z",
     "shell.execute_reply": "2021-12-10T09:16:32.309051Z",
     "shell.execute_reply.started": "2021-12-10T08:05:22.748347Z"
    },
    "papermill": {
     "duration": 0.102112,
     "end_time": "2021-12-10T09:16:32.310326",
     "exception": false,
     "start_time": "2021-12-10T09:16:32.208214",
     "status": "completed"
    },
    "scrolled": true,
    "tags": []
   },
   "outputs": [
    {
     "name": "stdout",
     "output_type": "stream",
     "text": [
      "<class 'pandas.core.frame.DataFrame'>\n",
      "Int64Index: 28242 entries, 0 to 28241\n",
      "Columns: 114 entries, average_rain_fall_mm_per_year to Item_Yams\n",
      "dtypes: float64(3), uint8(111)\n",
      "memory usage: 3.9 MB\n"
     ]
    }
   ],
   "source": [
    "features.info()"
   ]
  },
  {
   "cell_type": "code",
   "execution_count": 47,
   "id": "8b7eec54",
   "metadata": {
    "execution": {
     "iopub.execute_input": "2021-12-10T09:16:32.482388Z",
     "iopub.status.busy": "2021-12-10T09:16:32.481780Z",
     "iopub.status.idle": "2021-12-10T09:16:32.500420Z",
     "shell.execute_reply": "2021-12-10T09:16:32.500939Z",
     "shell.execute_reply.started": "2021-12-10T08:05:22.769349Z"
    },
    "papermill": {
     "duration": 0.105341,
     "end_time": "2021-12-10T09:16:32.501106",
     "exception": false,
     "start_time": "2021-12-10T09:16:32.395765",
     "status": "completed"
    },
    "scrolled": true,
    "tags": []
   },
   "outputs": [
    {
     "data": {
      "text/html": [
       "<div>\n",
       "<style scoped>\n",
       "    .dataframe tbody tr th:only-of-type {\n",
       "        vertical-align: middle;\n",
       "    }\n",
       "\n",
       "    .dataframe tbody tr th {\n",
       "        vertical-align: top;\n",
       "    }\n",
       "\n",
       "    .dataframe thead th {\n",
       "        text-align: right;\n",
       "    }\n",
       "</style>\n",
       "<table border=\"1\" class=\"dataframe\">\n",
       "  <thead>\n",
       "    <tr style=\"text-align: right;\">\n",
       "      <th></th>\n",
       "      <th>average_rain_fall_mm_per_year</th>\n",
       "      <th>pesticides_tonnes</th>\n",
       "      <th>avg_temp</th>\n",
       "      <th>Country_Albania</th>\n",
       "      <th>Country_Algeria</th>\n",
       "      <th>Country_Angola</th>\n",
       "      <th>Country_Argentina</th>\n",
       "      <th>Country_Armenia</th>\n",
       "      <th>Country_Australia</th>\n",
       "      <th>Country_Austria</th>\n",
       "      <th>...</th>\n",
       "      <th>Item_Cassava</th>\n",
       "      <th>Item_Maize</th>\n",
       "      <th>Item_Plantains and others</th>\n",
       "      <th>Item_Potatoes</th>\n",
       "      <th>Item_Rice, paddy</th>\n",
       "      <th>Item_Sorghum</th>\n",
       "      <th>Item_Soybeans</th>\n",
       "      <th>Item_Sweet potatoes</th>\n",
       "      <th>Item_Wheat</th>\n",
       "      <th>Item_Yams</th>\n",
       "    </tr>\n",
       "  </thead>\n",
       "  <tbody>\n",
       "    <tr>\n",
       "      <th>0</th>\n",
       "      <td>1485.0</td>\n",
       "      <td>121.0</td>\n",
       "      <td>16.37</td>\n",
       "      <td>1</td>\n",
       "      <td>0</td>\n",
       "      <td>0</td>\n",
       "      <td>0</td>\n",
       "      <td>0</td>\n",
       "      <td>0</td>\n",
       "      <td>0</td>\n",
       "      <td>...</td>\n",
       "      <td>0</td>\n",
       "      <td>1</td>\n",
       "      <td>0</td>\n",
       "      <td>0</td>\n",
       "      <td>0</td>\n",
       "      <td>0</td>\n",
       "      <td>0</td>\n",
       "      <td>0</td>\n",
       "      <td>0</td>\n",
       "      <td>0</td>\n",
       "    </tr>\n",
       "    <tr>\n",
       "      <th>1</th>\n",
       "      <td>1485.0</td>\n",
       "      <td>121.0</td>\n",
       "      <td>16.37</td>\n",
       "      <td>1</td>\n",
       "      <td>0</td>\n",
       "      <td>0</td>\n",
       "      <td>0</td>\n",
       "      <td>0</td>\n",
       "      <td>0</td>\n",
       "      <td>0</td>\n",
       "      <td>...</td>\n",
       "      <td>0</td>\n",
       "      <td>0</td>\n",
       "      <td>0</td>\n",
       "      <td>1</td>\n",
       "      <td>0</td>\n",
       "      <td>0</td>\n",
       "      <td>0</td>\n",
       "      <td>0</td>\n",
       "      <td>0</td>\n",
       "      <td>0</td>\n",
       "    </tr>\n",
       "    <tr>\n",
       "      <th>2</th>\n",
       "      <td>1485.0</td>\n",
       "      <td>121.0</td>\n",
       "      <td>16.37</td>\n",
       "      <td>1</td>\n",
       "      <td>0</td>\n",
       "      <td>0</td>\n",
       "      <td>0</td>\n",
       "      <td>0</td>\n",
       "      <td>0</td>\n",
       "      <td>0</td>\n",
       "      <td>...</td>\n",
       "      <td>0</td>\n",
       "      <td>0</td>\n",
       "      <td>0</td>\n",
       "      <td>0</td>\n",
       "      <td>1</td>\n",
       "      <td>0</td>\n",
       "      <td>0</td>\n",
       "      <td>0</td>\n",
       "      <td>0</td>\n",
       "      <td>0</td>\n",
       "    </tr>\n",
       "    <tr>\n",
       "      <th>3</th>\n",
       "      <td>1485.0</td>\n",
       "      <td>121.0</td>\n",
       "      <td>16.37</td>\n",
       "      <td>1</td>\n",
       "      <td>0</td>\n",
       "      <td>0</td>\n",
       "      <td>0</td>\n",
       "      <td>0</td>\n",
       "      <td>0</td>\n",
       "      <td>0</td>\n",
       "      <td>...</td>\n",
       "      <td>0</td>\n",
       "      <td>0</td>\n",
       "      <td>0</td>\n",
       "      <td>0</td>\n",
       "      <td>0</td>\n",
       "      <td>1</td>\n",
       "      <td>0</td>\n",
       "      <td>0</td>\n",
       "      <td>0</td>\n",
       "      <td>0</td>\n",
       "    </tr>\n",
       "    <tr>\n",
       "      <th>4</th>\n",
       "      <td>1485.0</td>\n",
       "      <td>121.0</td>\n",
       "      <td>16.37</td>\n",
       "      <td>1</td>\n",
       "      <td>0</td>\n",
       "      <td>0</td>\n",
       "      <td>0</td>\n",
       "      <td>0</td>\n",
       "      <td>0</td>\n",
       "      <td>0</td>\n",
       "      <td>...</td>\n",
       "      <td>0</td>\n",
       "      <td>0</td>\n",
       "      <td>0</td>\n",
       "      <td>0</td>\n",
       "      <td>0</td>\n",
       "      <td>0</td>\n",
       "      <td>1</td>\n",
       "      <td>0</td>\n",
       "      <td>0</td>\n",
       "      <td>0</td>\n",
       "    </tr>\n",
       "  </tbody>\n",
       "</table>\n",
       "<p>5 rows × 114 columns</p>\n",
       "</div>"
      ],
      "text/plain": [
       "   average_rain_fall_mm_per_year  pesticides_tonnes  avg_temp  \\\n",
       "0                         1485.0              121.0     16.37   \n",
       "1                         1485.0              121.0     16.37   \n",
       "2                         1485.0              121.0     16.37   \n",
       "3                         1485.0              121.0     16.37   \n",
       "4                         1485.0              121.0     16.37   \n",
       "\n",
       "   Country_Albania  Country_Algeria  Country_Angola  Country_Argentina  \\\n",
       "0                1                0               0                  0   \n",
       "1                1                0               0                  0   \n",
       "2                1                0               0                  0   \n",
       "3                1                0               0                  0   \n",
       "4                1                0               0                  0   \n",
       "\n",
       "   Country_Armenia  Country_Australia  Country_Austria  ...  Item_Cassava  \\\n",
       "0                0                  0                0  ...             0   \n",
       "1                0                  0                0  ...             0   \n",
       "2                0                  0                0  ...             0   \n",
       "3                0                  0                0  ...             0   \n",
       "4                0                  0                0  ...             0   \n",
       "\n",
       "   Item_Maize  Item_Plantains and others  Item_Potatoes  Item_Rice, paddy  \\\n",
       "0           1                          0              0                 0   \n",
       "1           0                          0              1                 0   \n",
       "2           0                          0              0                 1   \n",
       "3           0                          0              0                 0   \n",
       "4           0                          0              0                 0   \n",
       "\n",
       "   Item_Sorghum  Item_Soybeans  Item_Sweet potatoes  Item_Wheat  Item_Yams  \n",
       "0             0              0                    0           0          0  \n",
       "1             0              0                    0           0          0  \n",
       "2             0              0                    0           0          0  \n",
       "3             1              0                    0           0          0  \n",
       "4             0              1                    0           0          0  \n",
       "\n",
       "[5 rows x 114 columns]"
      ]
     },
     "execution_count": 47,
     "metadata": {},
     "output_type": "execute_result"
    }
   ],
   "source": [
    "features.head()"
   ]
  },
  {
   "cell_type": "markdown",
   "id": "7afc0054",
   "metadata": {
    "papermill": {
     "duration": 0.08413,
     "end_time": "2021-12-10T09:16:32.670776",
     "exception": false,
     "start_time": "2021-12-10T09:16:32.586646",
     "status": "completed"
    },
    "tags": []
   },
   "source": [
    "\n",
    "### Scaling Features: \n",
    "\n",
    "Taking a look at the dataset above, it contains features highly varying in magnitudes, units and range. The features with high magnitudes will weigh in a lot more in the distance calculations than features with low magnitudes.\n",
    "\n",
    "To supress this effect, we need to bring all features to the same level of magnitudes. This can be acheived by scaling."
   ]
  },
  {
   "cell_type": "code",
   "execution_count": 48,
   "id": "32622a54",
   "metadata": {
    "execution": {
     "iopub.execute_input": "2021-12-10T09:16:32.843308Z",
     "iopub.status.busy": "2021-12-10T09:16:32.842597Z",
     "iopub.status.idle": "2021-12-10T09:16:32.898202Z",
     "shell.execute_reply": "2021-12-10T09:16:32.898705Z",
     "shell.execute_reply.started": "2021-12-10T08:05:22.794468Z"
    },
    "papermill": {
     "duration": 0.143264,
     "end_time": "2021-12-10T09:16:32.898888",
     "exception": false,
     "start_time": "2021-12-10T09:16:32.755624",
     "status": "completed"
    },
    "tags": []
   },
   "outputs": [],
   "source": [
    "from sklearn.preprocessing import MinMaxScaler\n",
    "scaler=MinMaxScaler()\n",
    "features=scaler.fit_transform(features) "
   ]
  },
  {
   "cell_type": "markdown",
   "id": "117cd2e4",
   "metadata": {
    "papermill": {
     "duration": 0.085935,
     "end_time": "2021-12-10T09:16:33.069575",
     "exception": false,
     "start_time": "2021-12-10T09:16:32.983640",
     "status": "completed"
    },
    "tags": []
   },
   "source": [
    "After dropping year column in addition to scaling all values in features, the resulting array will look something like this : "
   ]
  },
  {
   "cell_type": "code",
   "execution_count": 49,
   "id": "c8c1e738",
   "metadata": {
    "execution": {
     "iopub.execute_input": "2021-12-10T09:16:33.244271Z",
     "iopub.status.busy": "2021-12-10T09:16:33.243271Z",
     "iopub.status.idle": "2021-12-10T09:16:33.249029Z",
     "shell.execute_reply": "2021-12-10T09:16:33.249673Z",
     "shell.execute_reply.started": "2021-12-10T08:05:22.856360Z"
    },
    "papermill": {
     "duration": 0.094914,
     "end_time": "2021-12-10T09:16:33.249845",
     "exception": false,
     "start_time": "2021-12-10T09:16:33.154931",
     "status": "completed"
    },
    "tags": []
   },
   "outputs": [
    {
     "data": {
      "text/plain": [
       "array([[4.49670743e-01, 3.28894097e-04, 5.13458262e-01, ...,\n",
       "        0.00000000e+00, 0.00000000e+00, 0.00000000e+00],\n",
       "       [4.49670743e-01, 3.28894097e-04, 5.13458262e-01, ...,\n",
       "        0.00000000e+00, 0.00000000e+00, 0.00000000e+00],\n",
       "       [4.49670743e-01, 3.28894097e-04, 5.13458262e-01, ...,\n",
       "        0.00000000e+00, 0.00000000e+00, 0.00000000e+00],\n",
       "       ...,\n",
       "       [1.90028222e-01, 6.93361288e-03, 6.28960818e-01, ...,\n",
       "        0.00000000e+00, 0.00000000e+00, 0.00000000e+00],\n",
       "       [1.90028222e-01, 6.93361288e-03, 6.28960818e-01, ...,\n",
       "        1.00000000e+00, 0.00000000e+00, 0.00000000e+00],\n",
       "       [1.90028222e-01, 6.93361288e-03, 6.28960818e-01, ...,\n",
       "        0.00000000e+00, 1.00000000e+00, 0.00000000e+00]])"
      ]
     },
     "execution_count": 49,
     "metadata": {},
     "output_type": "execute_result"
    }
   ],
   "source": [
    "features"
   ]
  },
  {
   "cell_type": "markdown",
   "id": "a07ae43e",
   "metadata": {
    "papermill": {
     "duration": 0.084624,
     "end_time": "2021-12-10T09:16:33.421613",
     "exception": false,
     "start_time": "2021-12-10T09:16:33.336989",
     "status": "completed"
    },
    "tags": []
   },
   "source": [
    "## Training Data: \n",
    "\n",
    "The dataset will be split to two datasets, the training dataset and test dataset. The data is usually tend to be split inequality because training the model usually requires as much data-points as possible.The common splits are 70/30 or 80/20 for train/test.\n",
    "\n",
    "The training dataset is the intial dataset used to train ML algorithm to learn and produce right predictions. (70% of dataset is training dataset)\n",
    "\n",
    "The test dataset, however, is used to assess how well ML algorithm is trained with the training dataset. You can’t simply reuse the training dataset in the testing stage because ML algorithm will already “know” the expected output, which defeats the purpose of testing the algorithm. (30% of dataset is testing dataset) \n",
    "\n"
   ]
  },
  {
   "cell_type": "code",
   "execution_count": 50,
   "id": "c33c9058",
   "metadata": {
    "execution": {
     "iopub.execute_input": "2021-12-10T09:16:33.598325Z",
     "iopub.status.busy": "2021-12-10T09:16:33.597527Z",
     "iopub.status.idle": "2021-12-10T09:16:33.686083Z",
     "shell.execute_reply": "2021-12-10T09:16:33.685533Z",
     "shell.execute_reply.started": "2021-12-10T08:05:22.863769Z"
    },
    "papermill": {
     "duration": 0.179776,
     "end_time": "2021-12-10T09:16:33.686278",
     "exception": false,
     "start_time": "2021-12-10T09:16:33.506502",
     "status": "completed"
    },
    "tags": []
   },
   "outputs": [],
   "source": [
    "from sklearn.model_selection import train_test_split\n",
    "train_data, test_data, train_labels, test_labels = train_test_split(features, label, test_size=0.3, random_state=42)"
   ]
  },
  {
   "cell_type": "markdown",
   "id": "cb2f9a15",
   "metadata": {
    "papermill": {
     "duration": 0.084597,
     "end_time": "2021-12-10T09:16:34.252882",
     "exception": false,
     "start_time": "2021-12-10T09:16:34.168285",
     "status": "completed"
    },
    "tags": []
   },
   "source": [
    "# Model Comparison & Selection \n"
   ]
  },
  {
   "cell_type": "code",
   "execution_count": null,
   "id": "609e13ed",
   "metadata": {},
   "outputs": [],
   "source": [
    "train_labels"
   ]
  },
  {
   "cell_type": "code",
   "execution_count": null,
   "id": "3106ac40",
   "metadata": {
    "execution": {
     "iopub.execute_input": "2021-12-10T09:16:34.430556Z",
     "iopub.status.busy": "2021-12-10T09:16:34.429875Z",
     "iopub.status.idle": "2021-12-10T09:16:34.432390Z",
     "shell.execute_reply": "2021-12-10T09:16:34.431869Z",
     "shell.execute_reply.started": "2021-12-10T08:05:23.008454Z"
    },
    "papermill": {
     "duration": 0.095033,
     "end_time": "2021-12-10T09:16:34.432534",
     "exception": false,
     "start_time": "2021-12-10T09:16:34.337501",
     "status": "completed"
    },
    "tags": []
   },
   "outputs": [],
   "source": [
    "from sklearn.metrics import r2_score, mean_squared_log_error, mean_squared_error\n",
    "def compare_models(model):\n",
    "    model_name = model.__class__.__name__\n",
    "    fit=model.fit(train_data,train_labels)\n",
    "    y_pred=fit.predict(test_data)\n",
    "    mse = mean_squared_error(test_labels,y_pred)\n",
    "    r2=r2_score(test_labels,y_pred)\n",
    "    return([model_name,r2,mse])\n",
    "# mse=mean_squared_log_error(test_labels,y_pred)"
   ]
  },
  {
   "cell_type": "code",
   "execution_count": null,
   "id": "5a419de4",
   "metadata": {
    "execution": {
     "iopub.execute_input": "2021-12-10T09:16:34.610866Z",
     "iopub.status.busy": "2021-12-10T09:16:34.610121Z",
     "iopub.status.idle": "2021-12-10T09:16:34.814501Z",
     "shell.execute_reply": "2021-12-10T09:16:34.813939Z",
     "shell.execute_reply.started": "2021-12-10T08:05:23.015829Z"
    },
    "papermill": {
     "duration": 0.295595,
     "end_time": "2021-12-10T09:16:34.814651",
     "exception": false,
     "start_time": "2021-12-10T09:16:34.519056",
     "status": "completed"
    },
    "tags": []
   },
   "outputs": [],
   "source": [
    "from sklearn.ensemble import RandomForestRegressor\n",
    "from sklearn.ensemble import GradientBoostingRegressor\n",
    "from sklearn import svm\n",
    "from sklearn.tree import DecisionTreeRegressor\n",
    "from sklearn.neural_network import MLPRegressor\n",
    "from sklearn.linear_model import Ridge\n",
    "from sklearn.gaussian_process import GaussianProcessRegressor\n",
    "\n",
    "models = [\n",
    "    GradientBoostingRegressor(n_estimators=300, max_depth=5, random_state=0),\n",
    "    RandomForestRegressor(n_estimators=300, max_depth=3, random_state=0),\n",
    "    svm.SVR(),\n",
    "    DecisionTreeRegressor(),\n",
    "    MLPRegressor(hidden_layer_sizes=(250,200,150,100,50),\n",
    "                       max_iter = 500,activation = 'relu',\n",
    "                       solver = 'adam'),\n",
    "    Ridge(alpha=1),\n",
    "    GaussianProcessRegressor(random_state=42)\n",
    "]"
   ]
  },
  {
   "cell_type": "code",
   "execution_count": null,
   "id": "dc8554ec",
   "metadata": {
    "execution": {
     "iopub.execute_input": "2021-12-10T09:16:34.988166Z",
     "iopub.status.busy": "2021-12-10T09:16:34.987529Z",
     "iopub.status.idle": "2021-12-10T09:18:55.705540Z",
     "shell.execute_reply": "2021-12-10T09:18:55.704793Z",
     "shell.execute_reply.started": "2021-12-10T08:05:23.207274Z"
    },
    "papermill": {
     "duration": 140.805221,
     "end_time": "2021-12-10T09:18:55.705699",
     "exception": false,
     "start_time": "2021-12-10T09:16:34.900478",
     "status": "completed"
    },
    "scrolled": true,
    "tags": []
   },
   "outputs": [],
   "source": [
    "model_train=list(map(compare_models,models)) "
   ]
  },
  {
   "cell_type": "code",
   "execution_count": null,
   "id": "b419ab07",
   "metadata": {
    "execution": {
     "iopub.execute_input": "2021-12-10T09:18:55.882610Z",
     "iopub.status.busy": "2021-12-10T09:18:55.881607Z",
     "iopub.status.idle": "2021-12-10T09:18:55.887867Z",
     "shell.execute_reply": "2021-12-10T09:18:55.888547Z",
     "shell.execute_reply.started": "2021-12-10T08:07:43.079175Z"
    },
    "papermill": {
     "duration": 0.097112,
     "end_time": "2021-12-10T09:18:55.888792",
     "exception": false,
     "start_time": "2021-12-10T09:18:55.791680",
     "status": "completed"
    },
    "tags": []
   },
   "outputs": [],
   "source": [
    "print(*model_train, sep = \"\\n\")"
   ]
  },
  {
   "cell_type": "markdown",
   "id": "2258bf9f",
   "metadata": {
    "papermill": {
     "duration": 0.085948,
     "end_time": "2021-12-10T09:18:56.068396",
     "exception": false,
     "start_time": "2021-12-10T09:18:55.982448",
     "status": "completed"
    },
    "tags": []
   },
   "source": [
    "The evaluation metric is set based on **R^2 (coefficient of determination)** regression score function, that will represents the proportion of the variance for items (crops) in the regression model. **R^2** score shows how well terms (data points) fit a curve or line.\n",
    "\n",
    "**R^2** is a statistical measure between 0 and 1 which calculates how similar a regression line is to the data it’s fitted to. If it’s a 1, the model 100% predicts the data variance; if it’s a 0, the model predicts none of the variance. \n",
    "\n",
    "From results viewd above, **Decision Tree Regressor** has the highest R^2 score 0f **96%**, **GradientBoostingRegressor** comes second. \n",
    "\n",
    "\n",
    " I'll also calculate **Adjusted R^2** also indicates how well terms fit a curve or line, but adjusts for the number of terms in a model. If you add more and more useless variables to a model, adjusted r-squared will decrease. If you add more useful variables, adjusted r-squared will increase.\n",
    "Adjusted R2 will always be less than or equal to R2. "
   ]
  },
  {
   "cell_type": "code",
   "execution_count": null,
   "id": "93723d80",
   "metadata": {
    "execution": {
     "iopub.execute_input": "2021-12-10T09:18:56.247410Z",
     "iopub.status.busy": "2021-12-10T09:18:56.246731Z",
     "iopub.status.idle": "2021-12-10T09:18:56.250556Z",
     "shell.execute_reply": "2021-12-10T09:18:56.251016Z",
     "shell.execute_reply.started": "2021-12-10T08:07:43.086582Z"
    },
    "papermill": {
     "duration": 0.095279,
     "end_time": "2021-12-10T09:18:56.251235",
     "exception": false,
     "start_time": "2021-12-10T09:18:56.155956",
     "status": "completed"
    },
    "tags": []
   },
   "outputs": [],
   "source": [
    "yield_df_onehot = yield_df_onehot.drop(['Year'], axis=1)"
   ]
  },
  {
   "cell_type": "code",
   "execution_count": null,
   "id": "ccf0644c",
   "metadata": {
    "execution": {
     "iopub.execute_input": "2021-12-10T09:18:56.426611Z",
     "iopub.status.busy": "2021-12-10T09:18:56.425906Z",
     "iopub.status.idle": "2021-12-10T09:18:56.444283Z",
     "shell.execute_reply": "2021-12-10T09:18:56.444841Z",
     "shell.execute_reply.started": "2021-12-10T08:07:43.101986Z"
    },
    "papermill": {
     "duration": 0.107229,
     "end_time": "2021-12-10T09:18:56.445013",
     "exception": false,
     "start_time": "2021-12-10T09:18:56.337784",
     "status": "completed"
    },
    "scrolled": true,
    "tags": []
   },
   "outputs": [],
   "source": [
    "yield_df_onehot.head()"
   ]
  },
  {
   "cell_type": "code",
   "execution_count": null,
   "id": "f122b875",
   "metadata": {
    "execution": {
     "iopub.execute_input": "2021-12-10T09:18:56.620132Z",
     "iopub.status.busy": "2021-12-10T09:18:56.619450Z",
     "iopub.status.idle": "2021-12-10T09:18:56.819629Z",
     "shell.execute_reply": "2021-12-10T09:18:56.819010Z",
     "shell.execute_reply.started": "2021-12-10T08:07:43.128500Z"
    },
    "papermill": {
     "duration": 0.288652,
     "end_time": "2021-12-10T09:18:56.819800",
     "exception": false,
     "start_time": "2021-12-10T09:18:56.531148",
     "status": "completed"
    },
    "tags": []
   },
   "outputs": [],
   "source": [
    "#setting test data to columns from dataframe and excluding 'hg/ha_yield' values where ML model should be predicting \n",
    "\n",
    "test_df=pd.DataFrame(test_data,columns=yield_df_onehot.loc[:, yield_df_onehot.columns != 'hg/ha_yield'].columns) \n",
    "\n",
    "# using stack function to return a reshaped DataFrame by pivoting the columns of the current dataframe\n",
    "\n",
    "cntry=test_df[[col for col in test_df.columns if 'Country' in col]].stack()[test_df[[col for col in test_df.columns if 'Country' in col]].stack()>0]\n",
    "cntrylist=list(pd.DataFrame(cntry).index.get_level_values(1))\n",
    "countries=[i.split(\"_\")[1] for i in cntrylist]\n",
    "itm=test_df[[col for col in test_df.columns if 'Item' in col]].stack()[test_df[[col for col in test_df.columns if 'Item' in col]].stack()>0]\n",
    "itmlist=list(pd.DataFrame(itm).index.get_level_values(1))\n",
    "items=[i.split(\"_\")[1] for i in itmlist]"
   ]
  },
  {
   "cell_type": "code",
   "execution_count": null,
   "id": "c14be74d",
   "metadata": {
    "execution": {
     "iopub.execute_input": "2021-12-10T09:18:56.999994Z",
     "iopub.status.busy": "2021-12-10T09:18:56.998970Z",
     "iopub.status.idle": "2021-12-10T09:18:57.025230Z",
     "shell.execute_reply": "2021-12-10T09:18:57.025787Z",
     "shell.execute_reply.started": "2021-12-10T08:07:43.294753Z"
    },
    "papermill": {
     "duration": 0.119426,
     "end_time": "2021-12-10T09:18:57.025955",
     "exception": false,
     "start_time": "2021-12-10T09:18:56.906529",
     "status": "completed"
    },
    "tags": []
   },
   "outputs": [],
   "source": [
    "test_df.head()"
   ]
  },
  {
   "cell_type": "code",
   "execution_count": null,
   "id": "1555cc60",
   "metadata": {
    "execution": {
     "iopub.execute_input": "2021-12-10T09:18:57.203137Z",
     "iopub.status.busy": "2021-12-10T09:18:57.202205Z",
     "iopub.status.idle": "2021-12-10T09:18:57.217983Z",
     "shell.execute_reply": "2021-12-10T09:18:57.217404Z",
     "shell.execute_reply.started": "2021-12-10T08:07:43.322790Z"
    },
    "papermill": {
     "duration": 0.105131,
     "end_time": "2021-12-10T09:18:57.218123",
     "exception": false,
     "start_time": "2021-12-10T09:18:57.112992",
     "status": "completed"
    },
    "tags": []
   },
   "outputs": [],
   "source": [
    "test_df.drop([col for col in test_df.columns if 'Item' in col],axis=1,inplace=True)\n",
    "test_df.drop([col for col in test_df.columns if 'Country' in col],axis=1,inplace=True)\n",
    "test_df.head()"
   ]
  },
  {
   "cell_type": "code",
   "execution_count": null,
   "id": "6372fe2a",
   "metadata": {
    "execution": {
     "iopub.execute_input": "2021-12-10T09:18:57.397042Z",
     "iopub.status.busy": "2021-12-10T09:18:57.396402Z",
     "iopub.status.idle": "2021-12-10T09:18:57.410066Z",
     "shell.execute_reply": "2021-12-10T09:18:57.410597Z",
     "shell.execute_reply.started": "2021-12-10T08:07:43.338057Z"
    },
    "papermill": {
     "duration": 0.105196,
     "end_time": "2021-12-10T09:18:57.410766",
     "exception": false,
     "start_time": "2021-12-10T09:18:57.305570",
     "status": "completed"
    },
    "scrolled": true,
    "tags": []
   },
   "outputs": [],
   "source": [
    "test_df['Country']=countries\n",
    "test_df['Item']=items\n",
    "test_df.head()"
   ]
  },
  {
   "cell_type": "code",
   "execution_count": null,
   "id": "d10e3d86",
   "metadata": {
    "execution": {
     "iopub.execute_input": "2021-12-10T09:18:57.590048Z",
     "iopub.status.busy": "2021-12-10T09:18:57.589022Z",
     "iopub.status.idle": "2021-12-10T09:18:57.817639Z",
     "shell.execute_reply": "2021-12-10T09:18:57.816940Z",
     "shell.execute_reply.started": "2021-12-10T08:07:43.358626Z"
    },
    "papermill": {
     "duration": 0.319458,
     "end_time": "2021-12-10T09:18:57.817783",
     "exception": false,
     "start_time": "2021-12-10T09:18:57.498325",
     "status": "completed"
    },
    "scrolled": true,
    "tags": []
   },
   "outputs": [],
   "source": [
    "clf=DecisionTreeRegressor()\n",
    "model=clf.fit(train_data,train_labels)\n",
    "\n",
    "test_df[\"yield_predicted\"]= model.predict(test_data)\n",
    "test_df[\"yield_actual\"]=pd.DataFrame(test_labels)[\"hg/ha_yield\"].tolist()\n",
    "test_group=test_df.groupby(\"Item\")\n",
    "test_group.apply(lambda x: r2_score(x.yield_actual,x.yield_predicted))"
   ]
  },
  {
   "cell_type": "code",
   "execution_count": null,
   "id": "a5c627eb",
   "metadata": {
    "execution": {
     "iopub.execute_input": "2021-12-10T09:18:58.018462Z",
     "iopub.status.busy": "2021-12-10T09:18:58.003104Z",
     "iopub.status.idle": "2021-12-10T09:18:58.226149Z",
     "shell.execute_reply": "2021-12-10T09:18:58.226680Z",
     "shell.execute_reply.started": "2021-12-10T08:07:43.590323Z"
    },
    "papermill": {
     "duration": 0.318865,
     "end_time": "2021-12-10T09:18:58.226859",
     "exception": false,
     "start_time": "2021-12-10T09:18:57.907994",
     "status": "completed"
    },
    "tags": []
   },
   "outputs": [],
   "source": [
    "# So let's run the model actual values against the predicted ones \n",
    "\n",
    "fig, ax = plt.subplots() \n",
    "\n",
    "ax.scatter(test_df[\"yield_actual\"], test_df[\"yield_predicted\"],edgecolors=(0, 0, 0))\n",
    "\n",
    "ax.set_xlabel('Actual')\n",
    "ax.set_ylabel('Predicted')\n",
    "ax.set_title(\"Actual vs Predicted\")\n",
    "plt.show()"
   ]
  },
  {
   "cell_type": "code",
   "execution_count": null,
   "id": "ec67a892",
   "metadata": {
    "execution": {
     "iopub.execute_input": "2021-12-10T09:18:58.414214Z",
     "iopub.status.busy": "2021-12-10T09:18:58.413209Z",
     "iopub.status.idle": "2021-12-10T09:18:58.427249Z",
     "shell.execute_reply": "2021-12-10T09:18:58.426634Z",
     "shell.execute_reply.started": "2021-12-10T08:07:43.760789Z"
    },
    "papermill": {
     "duration": 0.111056,
     "end_time": "2021-12-10T09:18:58.427396",
     "exception": false,
     "start_time": "2021-12-10T09:18:58.316340",
     "status": "completed"
    },
    "scrolled": true,
    "tags": []
   },
   "outputs": [],
   "source": [
    "def adjusted_r_squared(y,yhat,x):\n",
    "    score=1- (((1-(r2_score(y,yhat)))*(len(y)-1))/(len(y)-x.shape[1]-2))\n",
    "    return score\n",
    "\n",
    "test_group.apply(lambda x: adjusted_r_squared(x.yield_actual,x.yield_predicted,x))"
   ]
  },
  {
   "cell_type": "markdown",
   "id": "70538bd1",
   "metadata": {
    "papermill": {
     "duration": 0.091501,
     "end_time": "2021-12-10T09:18:58.611339",
     "exception": false,
     "start_time": "2021-12-10T09:18:58.519838",
     "status": "completed"
    },
    "tags": []
   },
   "source": [
    "# Model Results & Conclusions\n",
    "\n"
   ]
  },
  {
   "cell_type": "code",
   "execution_count": null,
   "id": "9fe52c2f",
   "metadata": {
    "execution": {
     "iopub.execute_input": "2021-12-10T09:18:58.798889Z",
     "iopub.status.busy": "2021-12-10T09:18:58.798203Z",
     "iopub.status.idle": "2021-12-10T09:18:58.800784Z",
     "shell.execute_reply": "2021-12-10T09:18:58.801276Z",
     "shell.execute_reply.started": "2021-12-10T08:07:43.781807Z"
    },
    "papermill": {
     "duration": 0.098091,
     "end_time": "2021-12-10T09:18:58.801451",
     "exception": false,
     "start_time": "2021-12-10T09:18:58.703360",
     "status": "completed"
    },
    "tags": []
   },
   "outputs": [],
   "source": [
    "varimp= {'imp':model.feature_importances_,'names':yield_df_onehot.columns[yield_df_onehot.columns!=\"hg/ha_yield\"]}"
   ]
  },
  {
   "cell_type": "code",
   "execution_count": null,
   "id": "90d15570",
   "metadata": {
    "execution": {
     "iopub.execute_input": "2021-12-10T09:18:58.987674Z",
     "iopub.status.busy": "2021-12-10T09:18:58.986969Z",
     "iopub.status.idle": "2021-12-10T09:19:01.503147Z",
     "shell.execute_reply": "2021-12-10T09:19:01.503717Z",
     "shell.execute_reply.started": "2021-12-10T08:07:43.787613Z"
    },
    "papermill": {
     "duration": 2.610936,
     "end_time": "2021-12-10T09:19:01.503887",
     "exception": false,
     "start_time": "2021-12-10T09:18:58.892951",
     "status": "completed"
    },
    "tags": []
   },
   "outputs": [],
   "source": [
    "a4_dims = (8.27,16.7)\n",
    "\n",
    "fig, ax = plt.subplots(figsize=a4_dims)\n",
    "df=pd.DataFrame.from_dict(varimp)\n",
    "df.sort_values(ascending=False,by=[\"imp\"],inplace=True)\n",
    "df=df.dropna()\n",
    "sns.barplot(x=\"imp\",y=\"names\",palette=\"vlag\",data=df,orient=\"h\",ax=ax);"
   ]
  },
  {
   "cell_type": "markdown",
   "id": "a4d3b2c1",
   "metadata": {
    "papermill": {
     "duration": 0.092942,
     "end_time": "2021-12-10T09:19:01.690600",
     "exception": false,
     "start_time": "2021-12-10T09:19:01.597658",
     "status": "completed"
    },
    "tags": []
   },
   "source": [
    "Getting only top 7 of features importance in the model:"
   ]
  },
  {
   "cell_type": "code",
   "execution_count": null,
   "id": "05589b9b",
   "metadata": {
    "execution": {
     "iopub.execute_input": "2021-12-10T09:19:01.883615Z",
     "iopub.status.busy": "2021-12-10T09:19:01.882950Z",
     "iopub.status.idle": "2021-12-10T09:19:02.152304Z",
     "shell.execute_reply": "2021-12-10T09:19:02.151665Z",
     "shell.execute_reply.started": "2021-12-10T08:07:46.021212Z"
    },
    "papermill": {
     "duration": 0.368335,
     "end_time": "2021-12-10T09:19:02.152447",
     "exception": false,
     "start_time": "2021-12-10T09:19:01.784112",
     "status": "completed"
    },
    "tags": []
   },
   "outputs": [],
   "source": [
    "#7 most important factors that affect crops \n",
    "a4_dims = (16.7, 8.27)\n",
    "\n",
    "fig, ax = plt.subplots(figsize=a4_dims)\n",
    "df=pd.DataFrame.from_dict(varimp)\n",
    "df.sort_values(ascending=False,by=[\"imp\"],inplace=True)\n",
    "df=df.dropna()\n",
    "df=df.nlargest(7, 'imp')\n",
    "sns.barplot(x=\"imp\",y=\"names\",palette=\"vlag\",data=df,orient=\"h\",ax=ax);"
   ]
  },
  {
   "cell_type": "markdown",
   "id": "983682a2",
   "metadata": {
    "papermill": {
     "duration": 0.095626,
     "end_time": "2021-12-10T09:19:02.344099",
     "exception": false,
     "start_time": "2021-12-10T09:19:02.248473",
     "status": "completed"
    },
    "tags": []
   },
   "source": [
    "The crop being potatoes has the highest importance in the decision making for the model, where it's the highest crops in the dataset. Cassava too, then as expected we see the effect of pesticides, where its the third most important feature, and then if the crop is sweet potatoes, we see some of the highest crops in features importance in dataset. \n",
    "\n",
    "If the crop is grown in India, makes sense since Indis has the largest crops sum in the dataset. Then comes rainfall and temprature. Thr first assumption about these features were correct, where they all significanally impact the expected crops yield in the model. "
   ]
  },
  {
   "cell_type": "code",
   "execution_count": null,
   "id": "edd62195",
   "metadata": {
    "execution": {
     "iopub.execute_input": "2021-12-10T09:19:02.536353Z",
     "iopub.status.busy": "2021-12-10T09:19:02.535603Z",
     "iopub.status.idle": "2021-12-10T09:19:02.943759Z",
     "shell.execute_reply": "2021-12-10T09:19:02.944469Z",
     "shell.execute_reply.started": "2021-12-10T08:07:46.228572Z"
    },
    "papermill": {
     "duration": 0.506641,
     "end_time": "2021-12-10T09:19:02.944706",
     "exception": false,
     "start_time": "2021-12-10T09:19:02.438065",
     "status": "completed"
    },
    "tags": []
   },
   "outputs": [],
   "source": [
    "#Boxplot that shows yield for each item \n",
    "a4_dims = (16.7, 8.27)\n",
    "\n",
    "fig, ax = plt.subplots(figsize=a4_dims)\n",
    "sns.boxplot(x=\"Item\",y=\"hg/ha_yield\",palette=\"vlag\",data=yield_df,ax=ax);"
   ]
  },
  {
   "cell_type": "markdown",
   "id": "15cfc3bc",
   "metadata": {},
   "source": [
    "# Ensemble Stacking"
   ]
  },
  {
   "cell_type": "code",
   "execution_count": null,
   "id": "73c8e521",
   "metadata": {},
   "outputs": [],
   "source": [
    "from sklearn.ensemble import StackingRegressor\n",
    "from sklearn.linear_model import RidgeCV\n",
    "from sklearn.svm import LinearSVR\n",
    "estimators = [\n",
    "     ('gbr', GradientBoostingRegressor(n_estimators=200, max_depth=3, random_state=0)),\n",
    "     ('dtr', DecisionTreeRegressor()),\n",
    "     ('mlp', MLPRegressor(hidden_layer_sizes=(250,200,150,100,50),\n",
    "                       max_iter = 500,activation = 'relu',\n",
    "                       solver = 'adam')),\n",
    "     ('gpr', GaussianProcessRegressor(random_state=42))\n",
    "]\n",
    "reg = StackingRegressor(\n",
    "     estimators=estimators,\n",
    "     final_estimator=DecisionTreeRegressor()\n",
    ")\n",
    "# final_estimator=RandomForestRegressor(n_estimators=10,\n",
    "#                                            random_state=42)"
   ]
  },
  {
   "cell_type": "code",
   "execution_count": null,
   "id": "a98db08a",
   "metadata": {
    "scrolled": true
   },
   "outputs": [],
   "source": [
    "fit=reg.fit(train_data,train_labels)\n",
    "y_pred=fit.predict(test_data)\n",
    "r2=r2_score(test_labels,y_pred)\n",
    "print(r2)"
   ]
  },
  {
   "cell_type": "code",
   "execution_count": null,
   "id": "9ebc36d2",
   "metadata": {},
   "outputs": [],
   "source": []
  },
  {
   "cell_type": "code",
   "execution_count": null,
   "id": "f885236c",
   "metadata": {},
   "outputs": [],
   "source": []
  },
  {
   "cell_type": "markdown",
   "id": "cb79a457",
   "metadata": {},
   "source": [
    "# Neural Networks"
   ]
  },
  {
   "cell_type": "code",
   "execution_count": 2,
   "id": "58c0d7f3",
   "metadata": {},
   "outputs": [],
   "source": [
    "#https://towardsdatascience.com/regression-based-neural-networks-with-tensorflow-v2-0-predicting-average-daily-rates-e20fffa7ac9a\n",
    "import math\n",
    "import matplotlib.pyplot as plt\n",
    "import numpy as np\n",
    "from numpy.random import seed\n",
    "seed(1)\n",
    "import pandas as pd\n",
    "import statsmodels.api as sm\n",
    "import statsmodels.formula.api as smf\n",
    "import tensorflow\n",
    "tensorflow.random.set_seed(1)\n",
    "from tensorflow.python.keras.layers import Dense\n",
    "from tensorflow.keras.layers import Dropout\n",
    "from tensorflow.python.keras.models import Sequential\n",
    "from keras.models import Sequential\n",
    "from keras.wrappers.scikit_learn import KerasRegressor\n",
    "from sklearn.metrics import mean_absolute_error\n",
    "from sklearn.metrics import mean_squared_error\n",
    "from sklearn.model_selection import train_test_split\n",
    "from sklearn.preprocessing import MinMaxScaler"
   ]
  },
  {
   "cell_type": "code",
   "execution_count": 51,
   "id": "39887ac5",
   "metadata": {},
   "outputs": [],
   "source": [
    "X_train, X_val, y_train, y_val = train_test_split(features, label)"
   ]
  },
  {
   "cell_type": "code",
   "execution_count": null,
   "id": "90dfa0fb",
   "metadata": {},
   "outputs": [],
   "source": [
    "# y_train=np.reshape(y_train.values, (-1,1))\n",
    "# y_val=np.reshape(y_val.values, (-1,1))\n",
    "# scaler_x = MinMaxScaler()\n",
    "# scaler_y = MinMaxScaler()\n",
    "# print(scaler_x.fit(X_train))\n",
    "# xtrain_scale=scaler_x.transform(X_train)\n",
    "# print(scaler_x.fit(X_val))\n",
    "# xval_scale=scaler_x.transform(X_val)\n",
    "# print(scaler_y.fit(y_train))\n",
    "# ytrain_scale=scaler_y.transform(y_train)\n",
    "# print(scaler_y.fit(y_val))\n",
    "# yval_scale=scaler_y.transform(y_val)"
   ]
  },
  {
   "cell_type": "code",
   "execution_count": 53,
   "id": "bc7d2860",
   "metadata": {},
   "outputs": [
    {
     "data": {
      "text/plain": [
       "(28242, 114)"
      ]
     },
     "execution_count": 53,
     "metadata": {},
     "output_type": "execute_result"
    }
   ],
   "source": [
    "features.shape"
   ]
  },
  {
   "cell_type": "code",
   "execution_count": null,
   "id": "b147cef6",
   "metadata": {},
   "outputs": [],
   "source": []
  },
  {
   "cell_type": "code",
   "execution_count": 55,
   "id": "77ff7912",
   "metadata": {},
   "outputs": [
    {
     "name": "stdout",
     "output_type": "stream",
     "text": [
      "Model: \"sequential_2\"\n",
      "_________________________________________________________________\n",
      " Layer (type)                Output Shape              Param #   \n",
      "=================================================================\n",
      " module_wrapper_10 (ModuleWr  (28242, 114)             13110     \n",
      " apper)                                                          \n",
      "                                                                 \n",
      " module_wrapper_11 (ModuleWr  (28242, 245)             28175     \n",
      " apper)                                                          \n",
      "                                                                 \n",
      " dropout_6 (Dropout)         (28242, 245)              0         \n",
      "                                                                 \n",
      " module_wrapper_12 (ModuleWr  (28242, 245)             60270     \n",
      " apper)                                                          \n",
      "                                                                 \n",
      " dropout_7 (Dropout)         (28242, 245)              0         \n",
      "                                                                 \n",
      " module_wrapper_13 (ModuleWr  (28242, 245)             60270     \n",
      " apper)                                                          \n",
      "                                                                 \n",
      " dropout_8 (Dropout)         (28242, 245)              0         \n",
      "                                                                 \n",
      " module_wrapper_14 (ModuleWr  (28242, 1)               246       \n",
      " apper)                                                          \n",
      "                                                                 \n",
      "=================================================================\n",
      "Total params: 162,071\n",
      "Trainable params: 162,071\n",
      "Non-trainable params: 0\n",
      "_________________________________________________________________\n"
     ]
    }
   ],
   "source": [
    "model = Sequential()\n",
    "model.add(Dense(114, input_dim=114, kernel_initializer='normal', activation='relu'))\n",
    "model.add(Dense(245, activation='relu'))\n",
    "model.add(Dropout(rate = 0.1))\n",
    "model.add(Dense(245, activation='relu'))\n",
    "model.add(Dropout(rate = 0.1))\n",
    "model.add(Dense(245, activation='relu'))\n",
    "model.add(Dropout(rate = 0.1))\n",
    "model.add(Dense(1, activation='linear'))\n",
    "model.build(features.shape)\n",
    "model.summary()"
   ]
  },
  {
   "cell_type": "code",
   "execution_count": 57,
   "id": "c13acb7e",
   "metadata": {},
   "outputs": [
    {
     "name": "stdout",
     "output_type": "stream",
     "text": [
      "Epoch 1/30\n",
      "113/113 [==============================] - 13s 85ms/step - loss: 10475965440.0000 - r2_score: -0.4748 - val_loss: 5572006400.0000 - val_r2_score: 0.2252\n",
      "Epoch 2/30\n",
      "113/113 [==============================] - 10s 84ms/step - loss: 2909158656.0000 - r2_score: 0.5925 - val_loss: 1556670080.0000 - val_r2_score: 0.7819\n",
      "Epoch 3/30\n",
      "113/113 [==============================] - 10s 84ms/step - loss: 1318419200.0000 - r2_score: 0.8145 - val_loss: 1158087680.0000 - val_r2_score: 0.8365\n",
      "Epoch 4/30\n",
      "113/113 [==============================] - 9s 84ms/step - loss: 1057638272.0000 - r2_score: 0.8495 - val_loss: 1025075200.0000 - val_r2_score: 0.8559\n",
      "Epoch 5/30\n",
      "113/113 [==============================] - 11s 102ms/step - loss: 939142464.0000 - r2_score: 0.8678 - val_loss: 899462272.0000 - val_r2_score: 0.8725\n",
      "Epoch 6/30\n",
      "113/113 [==============================] - 11s 100ms/step - loss: 847912512.0000 - r2_score: 0.8797 - val_loss: 823514624.0000 - val_r2_score: 0.8833\n",
      "Epoch 7/30\n",
      "113/113 [==============================] - 11s 100ms/step - loss: 777825600.0000 - r2_score: 0.8897 - val_loss: 736713408.0000 - val_r2_score: 0.8964\n",
      "Epoch 8/30\n",
      "113/113 [==============================] - 11s 100ms/step - loss: 686016832.0000 - r2_score: 0.9034 - val_loss: 651014336.0000 - val_r2_score: 0.9082\n",
      "Epoch 9/30\n",
      "113/113 [==============================] - 11s 100ms/step - loss: 606840448.0000 - r2_score: 0.9142 - val_loss: 582014528.0000 - val_r2_score: 0.9181\n",
      "Epoch 10/30\n",
      "113/113 [==============================] - 11s 100ms/step - loss: 545099776.0000 - r2_score: 0.9235 - val_loss: 527067936.0000 - val_r2_score: 0.9259\n",
      "Epoch 11/30\n",
      "113/113 [==============================] - 11s 100ms/step - loss: 502649920.0000 - r2_score: 0.9284 - val_loss: 497294080.0000 - val_r2_score: 0.9302\n",
      "Epoch 12/30\n",
      "113/113 [==============================] - 11s 100ms/step - loss: 473119072.0000 - r2_score: 0.9333 - val_loss: 469051808.0000 - val_r2_score: 0.9340\n",
      "Epoch 13/30\n",
      "113/113 [==============================] - 11s 100ms/step - loss: 452461888.0000 - r2_score: 0.9361 - val_loss: 461379168.0000 - val_r2_score: 0.9354\n",
      "Epoch 14/30\n",
      "113/113 [==============================] - 12s 102ms/step - loss: 433143424.0000 - r2_score: 0.9383 - val_loss: 444884736.0000 - val_r2_score: 0.9375\n",
      "Epoch 15/30\n",
      "113/113 [==============================] - 12s 103ms/step - loss: 425699616.0000 - r2_score: 0.9396 - val_loss: 435385920.0000 - val_r2_score: 0.9386\n",
      "Epoch 16/30\n",
      "113/113 [==============================] - 12s 104ms/step - loss: 408450720.0000 - r2_score: 0.9419 - val_loss: 421466368.0000 - val_r2_score: 0.9406\n",
      "Epoch 17/30\n",
      "113/113 [==============================] - 11s 97ms/step - loss: 404917472.0000 - r2_score: 0.9427 - val_loss: 410630048.0000 - val_r2_score: 0.9418\n",
      "Epoch 18/30\n",
      "113/113 [==============================] - 11s 100ms/step - loss: 411299424.0000 - r2_score: 0.9417 - val_loss: 419130240.0000 - val_r2_score: 0.9405\n",
      "Epoch 19/30\n",
      "113/113 [==============================] - 12s 109ms/step - loss: 403195840.0000 - r2_score: 0.9428 - val_loss: 417611456.0000 - val_r2_score: 0.9405\n",
      "Epoch 20/30\n",
      "113/113 [==============================] - 11s 99ms/step - loss: 397482720.0000 - r2_score: 0.9433 - val_loss: 412551520.0000 - val_r2_score: 0.9411\n",
      "Epoch 21/30\n",
      "113/113 [==============================] - 12s 108ms/step - loss: 397324672.0000 - r2_score: 0.9436 - val_loss: 412536224.0000 - val_r2_score: 0.9419\n",
      "Epoch 22/30\n",
      "113/113 [==============================] - 12s 105ms/step - loss: 403069664.0000 - r2_score: 0.9432 - val_loss: 404759840.0000 - val_r2_score: 0.9423\n",
      "Epoch 23/30\n",
      "113/113 [==============================] - 11s 101ms/step - loss: 397488352.0000 - r2_score: 0.9436 - val_loss: 400757888.0000 - val_r2_score: 0.9429\n",
      "Epoch 24/30\n",
      "113/113 [==============================] - 11s 99ms/step - loss: 392725312.0000 - r2_score: 0.9445 - val_loss: 393447136.0000 - val_r2_score: 0.9440\n",
      "Epoch 25/30\n",
      "113/113 [==============================] - 12s 106ms/step - loss: 382172288.0000 - r2_score: 0.9455 - val_loss: 395000032.0000 - val_r2_score: 0.9437\n",
      "Epoch 26/30\n",
      "113/113 [==============================] - 11s 99ms/step - loss: 391872000.0000 - r2_score: 0.9448 - val_loss: 394557216.0000 - val_r2_score: 0.9438\n",
      "Epoch 27/30\n",
      "113/113 [==============================] - 12s 106ms/step - loss: 383389760.0000 - r2_score: 0.9455 - val_loss: 396196192.0000 - val_r2_score: 0.9436\n",
      "Epoch 28/30\n",
      "113/113 [==============================] - 12s 107ms/step - loss: 385098784.0000 - r2_score: 0.9455 - val_loss: 392528928.0000 - val_r2_score: 0.9438\n",
      "Epoch 29/30\n",
      "113/113 [==============================] - 12s 105ms/step - loss: 379910304.0000 - r2_score: 0.9459 - val_loss: 395988768.0000 - val_r2_score: 0.9440\n",
      "Epoch 30/30\n",
      "113/113 [==============================] - 12s 108ms/step - loss: 385058176.0000 - r2_score: 0.9456 - val_loss: 389309920.0000 - val_r2_score: 0.9444\n"
     ]
    },
    {
     "ename": "NameError",
     "evalue": "name 'xval_scale' is not defined",
     "output_type": "error",
     "traceback": [
      "\u001b[1;31m---------------------------------------------------------------------------\u001b[0m",
      "\u001b[1;31mNameError\u001b[0m                                 Traceback (most recent call last)",
      "Input \u001b[1;32mIn [57]\u001b[0m, in \u001b[0;36m<cell line: 4>\u001b[1;34m()\u001b[0m\n\u001b[0;32m      2\u001b[0m model\u001b[38;5;241m.\u001b[39mcompile(loss\u001b[38;5;241m=\u001b[39m\u001b[38;5;124m'\u001b[39m\u001b[38;5;124mmse\u001b[39m\u001b[38;5;124m'\u001b[39m, optimizer\u001b[38;5;241m=\u001b[39m\u001b[38;5;124m'\u001b[39m\u001b[38;5;124madam\u001b[39m\u001b[38;5;124m'\u001b[39m, metrics\u001b[38;5;241m=\u001b[39m[r2_score], run_eagerly \u001b[38;5;241m=\u001b[39m \u001b[38;5;28;01mTrue\u001b[39;00m)\n\u001b[0;32m      3\u001b[0m history\u001b[38;5;241m=\u001b[39mmodel\u001b[38;5;241m.\u001b[39mfit(X_train, y_train, epochs\u001b[38;5;241m=\u001b[39m\u001b[38;5;241m30\u001b[39m, batch_size\u001b[38;5;241m=\u001b[39m\u001b[38;5;241m150\u001b[39m, verbose\u001b[38;5;241m=\u001b[39m\u001b[38;5;241m1\u001b[39m, validation_split\u001b[38;5;241m=\u001b[39m\u001b[38;5;241m0.2\u001b[39m)\n\u001b[1;32m----> 4\u001b[0m predictions \u001b[38;5;241m=\u001b[39m model\u001b[38;5;241m.\u001b[39mpredict(\u001b[43mxval_scale\u001b[49m)\n",
      "\u001b[1;31mNameError\u001b[0m: name 'xval_scale' is not defined"
     ]
    }
   ],
   "source": [
    "from sklearn.metrics import r2_score\n",
    "model.compile(loss='mse', optimizer='adam', metrics=[r2_score], run_eagerly = True)\n",
    "history=model.fit(X_train, y_train, epochs=30, batch_size=150, verbose=1, validation_split=0.2)"
   ]
  },
  {
   "cell_type": "code",
   "execution_count": 58,
   "id": "40ce0b36",
   "metadata": {},
   "outputs": [
    {
     "name": "stdout",
     "output_type": "stream",
     "text": [
      "221/221 [==============================] - 1s 5ms/step\n"
     ]
    }
   ],
   "source": [
    "predictions = model.predict(X_val)"
   ]
  },
  {
   "cell_type": "code",
   "execution_count": 59,
   "id": "0dc0ea4b",
   "metadata": {},
   "outputs": [
    {
     "name": "stdout",
     "output_type": "stream",
     "text": [
      "dict_keys(['loss', 'r2_score', 'val_loss', 'val_r2_score'])\n"
     ]
    },
    {
     "data": {
      "image/png": "[encoded data removed]",
      "text/plain": [
       "<Figure size 432x288 with 1 Axes>"
      ]
     },
     "metadata": {
      "needs_background": "light"
     },
     "output_type": "display_data"
    }
   ],
   "source": [
    "print(history.history.keys())\n",
    "# \"Loss\"\n",
    "plt.plot(history.history['loss'])\n",
    "plt.plot(history.history['val_loss'])\n",
    "plt.title('model loss')\n",
    "plt.ylabel('loss')\n",
    "plt.xlabel('epoch')\n",
    "plt.legend(['train', 'validation'], loc='upper left')\n",
    "plt.show()"
   ]
  },
  {
   "cell_type": "code",
   "execution_count": 60,
   "id": "0afaafa4",
   "metadata": {},
   "outputs": [
    {
     "data": {
      "text/plain": [
       "0.9414339819842771"
      ]
     },
     "execution_count": 60,
     "metadata": {},
     "output_type": "execute_result"
    }
   ],
   "source": [
    "from sklearn.metrics import r2_score\n",
    "# predictions = scaler_y.inverse_transform(predictions)\n",
    "r2=r2_score(y_val,predictions)\n",
    "r2"
   ]
  },
  {
   "cell_type": "code",
   "execution_count": 61,
   "id": "ac81abf0",
   "metadata": {},
   "outputs": [
    {
     "data": {
      "text/plain": [
       "10423.55489253525"
      ]
     },
     "execution_count": 61,
     "metadata": {},
     "output_type": "execute_result"
    }
   ],
   "source": [
    "mean_absolute_error(y_val, predictions)"
   ]
  },
  {
   "cell_type": "code",
   "execution_count": 62,
   "id": "8db7e4cf",
   "metadata": {},
   "outputs": [
    {
     "data": {
      "text/plain": [
       "20657.757016697255"
      ]
     },
     "execution_count": 62,
     "metadata": {},
     "output_type": "execute_result"
    }
   ],
   "source": [
    "mean_squared_error(y_val, predictions)\n",
    "math.sqrt(mean_squared_error(y_val, predictions))"
   ]
  },
  {
   "cell_type": "code",
   "execution_count": 63,
   "id": "10a03c98",
   "metadata": {},
   "outputs": [
    {
     "data": {
      "text/plain": [
       "77329.13652457159"
      ]
     },
     "execution_count": 63,
     "metadata": {},
     "output_type": "execute_result"
    }
   ],
   "source": [
    "np.mean(y_val)"
   ]
  },
  {
   "cell_type": "code",
   "execution_count": 64,
   "id": "6c859d44",
   "metadata": {},
   "outputs": [
    {
     "data": {
      "text/plain": [
       "77146.875"
      ]
     },
     "execution_count": 64,
     "metadata": {},
     "output_type": "execute_result"
    }
   ],
   "source": [
    "np.mean(predictions)"
   ]
  },
  {
   "cell_type": "code",
   "execution_count": null,
   "id": "b13a15ff",
   "metadata": {},
   "outputs": [],
   "source": []
  },
  {
   "cell_type": "markdown",
   "id": "f89b1b4d",
   "metadata": {},
   "source": [
    "# LSTM RNN"
   ]
  },
  {
   "cell_type": "code",
   "execution_count": null,
   "id": "fe10deeb",
   "metadata": {},
   "outputs": [],
   "source": [
    "#https://towardsdatascience.com/lstm-and-bidirectional-lstm-for-regression-4fddf910c655"
   ]
  },
  {
   "cell_type": "code",
   "execution_count": 109,
   "id": "0b02680e",
   "metadata": {},
   "outputs": [
    {
     "data": {
      "text/html": [
       "<div>\n",
       "<style scoped>\n",
       "    .dataframe tbody tr th:only-of-type {\n",
       "        vertical-align: middle;\n",
       "    }\n",
       "\n",
       "    .dataframe tbody tr th {\n",
       "        vertical-align: top;\n",
       "    }\n",
       "\n",
       "    .dataframe thead th {\n",
       "        text-align: right;\n",
       "    }\n",
       "</style>\n",
       "<table border=\"1\" class=\"dataframe\">\n",
       "  <thead>\n",
       "    <tr style=\"text-align: right;\">\n",
       "      <th></th>\n",
       "      <th>Year</th>\n",
       "      <th>average_rain_fall_mm_per_year</th>\n",
       "      <th>pesticides_tonnes</th>\n",
       "      <th>avg_temp</th>\n",
       "      <th>Country_Albania</th>\n",
       "      <th>Country_Algeria</th>\n",
       "      <th>Country_Angola</th>\n",
       "      <th>Country_Argentina</th>\n",
       "      <th>Country_Armenia</th>\n",
       "      <th>Country_Australia</th>\n",
       "      <th>...</th>\n",
       "      <th>Item_Cassava</th>\n",
       "      <th>Item_Maize</th>\n",
       "      <th>Item_Plantains and others</th>\n",
       "      <th>Item_Potatoes</th>\n",
       "      <th>Item_Rice, paddy</th>\n",
       "      <th>Item_Sorghum</th>\n",
       "      <th>Item_Soybeans</th>\n",
       "      <th>Item_Sweet potatoes</th>\n",
       "      <th>Item_Wheat</th>\n",
       "      <th>Item_Yams</th>\n",
       "    </tr>\n",
       "  </thead>\n",
       "  <tbody>\n",
       "    <tr>\n",
       "      <th>0</th>\n",
       "      <td>1990</td>\n",
       "      <td>1485.0</td>\n",
       "      <td>121.00</td>\n",
       "      <td>16.37</td>\n",
       "      <td>1</td>\n",
       "      <td>0</td>\n",
       "      <td>0</td>\n",
       "      <td>0</td>\n",
       "      <td>0</td>\n",
       "      <td>0</td>\n",
       "      <td>...</td>\n",
       "      <td>0</td>\n",
       "      <td>1</td>\n",
       "      <td>0</td>\n",
       "      <td>0</td>\n",
       "      <td>0</td>\n",
       "      <td>0</td>\n",
       "      <td>0</td>\n",
       "      <td>0</td>\n",
       "      <td>0</td>\n",
       "      <td>0</td>\n",
       "    </tr>\n",
       "    <tr>\n",
       "      <th>1</th>\n",
       "      <td>1990</td>\n",
       "      <td>1485.0</td>\n",
       "      <td>121.00</td>\n",
       "      <td>16.37</td>\n",
       "      <td>1</td>\n",
       "      <td>0</td>\n",
       "      <td>0</td>\n",
       "      <td>0</td>\n",
       "      <td>0</td>\n",
       "      <td>0</td>\n",
       "      <td>...</td>\n",
       "      <td>0</td>\n",
       "      <td>0</td>\n",
       "      <td>0</td>\n",
       "      <td>1</td>\n",
       "      <td>0</td>\n",
       "      <td>0</td>\n",
       "      <td>0</td>\n",
       "      <td>0</td>\n",
       "      <td>0</td>\n",
       "      <td>0</td>\n",
       "    </tr>\n",
       "    <tr>\n",
       "      <th>2</th>\n",
       "      <td>1990</td>\n",
       "      <td>1485.0</td>\n",
       "      <td>121.00</td>\n",
       "      <td>16.37</td>\n",
       "      <td>1</td>\n",
       "      <td>0</td>\n",
       "      <td>0</td>\n",
       "      <td>0</td>\n",
       "      <td>0</td>\n",
       "      <td>0</td>\n",
       "      <td>...</td>\n",
       "      <td>0</td>\n",
       "      <td>0</td>\n",
       "      <td>0</td>\n",
       "      <td>0</td>\n",
       "      <td>1</td>\n",
       "      <td>0</td>\n",
       "      <td>0</td>\n",
       "      <td>0</td>\n",
       "      <td>0</td>\n",
       "      <td>0</td>\n",
       "    </tr>\n",
       "    <tr>\n",
       "      <th>3</th>\n",
       "      <td>1990</td>\n",
       "      <td>1485.0</td>\n",
       "      <td>121.00</td>\n",
       "      <td>16.37</td>\n",
       "      <td>1</td>\n",
       "      <td>0</td>\n",
       "      <td>0</td>\n",
       "      <td>0</td>\n",
       "      <td>0</td>\n",
       "      <td>0</td>\n",
       "      <td>...</td>\n",
       "      <td>0</td>\n",
       "      <td>0</td>\n",
       "      <td>0</td>\n",
       "      <td>0</td>\n",
       "      <td>0</td>\n",
       "      <td>1</td>\n",
       "      <td>0</td>\n",
       "      <td>0</td>\n",
       "      <td>0</td>\n",
       "      <td>0</td>\n",
       "    </tr>\n",
       "    <tr>\n",
       "      <th>4</th>\n",
       "      <td>1990</td>\n",
       "      <td>1485.0</td>\n",
       "      <td>121.00</td>\n",
       "      <td>16.37</td>\n",
       "      <td>1</td>\n",
       "      <td>0</td>\n",
       "      <td>0</td>\n",
       "      <td>0</td>\n",
       "      <td>0</td>\n",
       "      <td>0</td>\n",
       "      <td>...</td>\n",
       "      <td>0</td>\n",
       "      <td>0</td>\n",
       "      <td>0</td>\n",
       "      <td>0</td>\n",
       "      <td>0</td>\n",
       "      <td>0</td>\n",
       "      <td>1</td>\n",
       "      <td>0</td>\n",
       "      <td>0</td>\n",
       "      <td>0</td>\n",
       "    </tr>\n",
       "    <tr>\n",
       "      <th>...</th>\n",
       "      <td>...</td>\n",
       "      <td>...</td>\n",
       "      <td>...</td>\n",
       "      <td>...</td>\n",
       "      <td>...</td>\n",
       "      <td>...</td>\n",
       "      <td>...</td>\n",
       "      <td>...</td>\n",
       "      <td>...</td>\n",
       "      <td>...</td>\n",
       "      <td>...</td>\n",
       "      <td>...</td>\n",
       "      <td>...</td>\n",
       "      <td>...</td>\n",
       "      <td>...</td>\n",
       "      <td>...</td>\n",
       "      <td>...</td>\n",
       "      <td>...</td>\n",
       "      <td>...</td>\n",
       "      <td>...</td>\n",
       "      <td>...</td>\n",
       "    </tr>\n",
       "    <tr>\n",
       "      <th>28237</th>\n",
       "      <td>2013</td>\n",
       "      <td>657.0</td>\n",
       "      <td>2550.07</td>\n",
       "      <td>19.76</td>\n",
       "      <td>0</td>\n",
       "      <td>0</td>\n",
       "      <td>0</td>\n",
       "      <td>0</td>\n",
       "      <td>0</td>\n",
       "      <td>0</td>\n",
       "      <td>...</td>\n",
       "      <td>0</td>\n",
       "      <td>0</td>\n",
       "      <td>0</td>\n",
       "      <td>0</td>\n",
       "      <td>1</td>\n",
       "      <td>0</td>\n",
       "      <td>0</td>\n",
       "      <td>0</td>\n",
       "      <td>0</td>\n",
       "      <td>0</td>\n",
       "    </tr>\n",
       "    <tr>\n",
       "      <th>28238</th>\n",
       "      <td>2013</td>\n",
       "      <td>657.0</td>\n",
       "      <td>2550.07</td>\n",
       "      <td>19.76</td>\n",
       "      <td>0</td>\n",
       "      <td>0</td>\n",
       "      <td>0</td>\n",
       "      <td>0</td>\n",
       "      <td>0</td>\n",
       "      <td>0</td>\n",
       "      <td>...</td>\n",
       "      <td>0</td>\n",
       "      <td>0</td>\n",
       "      <td>0</td>\n",
       "      <td>0</td>\n",
       "      <td>0</td>\n",
       "      <td>1</td>\n",
       "      <td>0</td>\n",
       "      <td>0</td>\n",
       "      <td>0</td>\n",
       "      <td>0</td>\n",
       "    </tr>\n",
       "    <tr>\n",
       "      <th>28239</th>\n",
       "      <td>2013</td>\n",
       "      <td>657.0</td>\n",
       "      <td>2550.07</td>\n",
       "      <td>19.76</td>\n",
       "      <td>0</td>\n",
       "      <td>0</td>\n",
       "      <td>0</td>\n",
       "      <td>0</td>\n",
       "      <td>0</td>\n",
       "      <td>0</td>\n",
       "      <td>...</td>\n",
       "      <td>0</td>\n",
       "      <td>0</td>\n",
       "      <td>0</td>\n",
       "      <td>0</td>\n",
       "      <td>0</td>\n",
       "      <td>0</td>\n",
       "      <td>1</td>\n",
       "      <td>0</td>\n",
       "      <td>0</td>\n",
       "      <td>0</td>\n",
       "    </tr>\n",
       "    <tr>\n",
       "      <th>28240</th>\n",
       "      <td>2013</td>\n",
       "      <td>657.0</td>\n",
       "      <td>2550.07</td>\n",
       "      <td>19.76</td>\n",
       "      <td>0</td>\n",
       "      <td>0</td>\n",
       "      <td>0</td>\n",
       "      <td>0</td>\n",
       "      <td>0</td>\n",
       "      <td>0</td>\n",
       "      <td>...</td>\n",
       "      <td>0</td>\n",
       "      <td>0</td>\n",
       "      <td>0</td>\n",
       "      <td>0</td>\n",
       "      <td>0</td>\n",
       "      <td>0</td>\n",
       "      <td>0</td>\n",
       "      <td>1</td>\n",
       "      <td>0</td>\n",
       "      <td>0</td>\n",
       "    </tr>\n",
       "    <tr>\n",
       "      <th>28241</th>\n",
       "      <td>2013</td>\n",
       "      <td>657.0</td>\n",
       "      <td>2550.07</td>\n",
       "      <td>19.76</td>\n",
       "      <td>0</td>\n",
       "      <td>0</td>\n",
       "      <td>0</td>\n",
       "      <td>0</td>\n",
       "      <td>0</td>\n",
       "      <td>0</td>\n",
       "      <td>...</td>\n",
       "      <td>0</td>\n",
       "      <td>0</td>\n",
       "      <td>0</td>\n",
       "      <td>0</td>\n",
       "      <td>0</td>\n",
       "      <td>0</td>\n",
       "      <td>0</td>\n",
       "      <td>0</td>\n",
       "      <td>1</td>\n",
       "      <td>0</td>\n",
       "    </tr>\n",
       "  </tbody>\n",
       "</table>\n",
       "<p>28242 rows × 115 columns</p>\n",
       "</div>"
      ],
      "text/plain": [
       "       Year  average_rain_fall_mm_per_year  pesticides_tonnes  avg_temp  \\\n",
       "0      1990                         1485.0             121.00     16.37   \n",
       "1      1990                         1485.0             121.00     16.37   \n",
       "2      1990                         1485.0             121.00     16.37   \n",
       "3      1990                         1485.0             121.00     16.37   \n",
       "4      1990                         1485.0             121.00     16.37   \n",
       "...     ...                            ...                ...       ...   \n",
       "28237  2013                          657.0            2550.07     19.76   \n",
       "28238  2013                          657.0            2550.07     19.76   \n",
       "28239  2013                          657.0            2550.07     19.76   \n",
       "28240  2013                          657.0            2550.07     19.76   \n",
       "28241  2013                          657.0            2550.07     19.76   \n",
       "\n",
       "       Country_Albania  Country_Algeria  Country_Angola  Country_Argentina  \\\n",
       "0                    1                0               0                  0   \n",
       "1                    1                0               0                  0   \n",
       "2                    1                0               0                  0   \n",
       "3                    1                0               0                  0   \n",
       "4                    1                0               0                  0   \n",
       "...                ...              ...             ...                ...   \n",
       "28237                0                0               0                  0   \n",
       "28238                0                0               0                  0   \n",
       "28239                0                0               0                  0   \n",
       "28240                0                0               0                  0   \n",
       "28241                0                0               0                  0   \n",
       "\n",
       "       Country_Armenia  Country_Australia  ...  Item_Cassava  Item_Maize  \\\n",
       "0                    0                  0  ...             0           1   \n",
       "1                    0                  0  ...             0           0   \n",
       "2                    0                  0  ...             0           0   \n",
       "3                    0                  0  ...             0           0   \n",
       "4                    0                  0  ...             0           0   \n",
       "...                ...                ...  ...           ...         ...   \n",
       "28237                0                  0  ...             0           0   \n",
       "28238                0                  0  ...             0           0   \n",
       "28239                0                  0  ...             0           0   \n",
       "28240                0                  0  ...             0           0   \n",
       "28241                0                  0  ...             0           0   \n",
       "\n",
       "       Item_Plantains and others  Item_Potatoes  Item_Rice, paddy  \\\n",
       "0                              0              0                 0   \n",
       "1                              0              1                 0   \n",
       "2                              0              0                 1   \n",
       "3                              0              0                 0   \n",
       "4                              0              0                 0   \n",
       "...                          ...            ...               ...   \n",
       "28237                          0              0                 1   \n",
       "28238                          0              0                 0   \n",
       "28239                          0              0                 0   \n",
       "28240                          0              0                 0   \n",
       "28241                          0              0                 0   \n",
       "\n",
       "       Item_Sorghum  Item_Soybeans  Item_Sweet potatoes  Item_Wheat  Item_Yams  \n",
       "0                 0              0                    0           0          0  \n",
       "1                 0              0                    0           0          0  \n",
       "2                 0              0                    0           0          0  \n",
       "3                 1              0                    0           0          0  \n",
       "4                 0              1                    0           0          0  \n",
       "...             ...            ...                  ...         ...        ...  \n",
       "28237             0              0                    0           0          0  \n",
       "28238             1              0                    0           0          0  \n",
       "28239             0              1                    0           0          0  \n",
       "28240             0              0                    1           0          0  \n",
       "28241             0              0                    0           1          0  \n",
       "\n",
       "[28242 rows x 115 columns]"
      ]
     },
     "execution_count": 109,
     "metadata": {},
     "output_type": "execute_result"
    }
   ],
   "source": [
    "features_rnn"
   ]
  },
  {
   "cell_type": "code",
   "execution_count": null,
   "id": "43db5948",
   "metadata": {},
   "outputs": [],
   "source": [
    "from keras.layers import LSTM\n",
    "X_train, X_val, y_train, y_val = train_test_split(features, label)\n",
    "X_train = create_sequence(X_train, 48)\n",
    "X_val  = create_sequence(X_val, 48)\n",
    "y_train = y_train[-X_train.shape[0]:]\n",
    "y_val  = y_test[-X_val.shape[0]:]"
   ]
  },
  {
   "cell_type": "code",
   "execution_count": null,
   "id": "863ac754",
   "metadata": {},
   "outputs": [],
   "source": [
    "# LSTM\n",
    "\n",
    "model = Sequential()\n",
    "model.add(LSTM(64,return_sequences=True, input_shape=(X_train.shape[1], X_train.shape[-1])))\n",
    "model.add(Dropout(0.5))\n",
    "model.add(LSTM(20,return_sequences=False))\n",
    "model.add(Dropout(0.5))\n",
    "model.add(Dense(1))\n",
    "model.compile(loss='mse', optimizer='rmsprop')"
   ]
  },
  {
   "cell_type": "code",
   "execution_count": null,
   "id": "add4343b",
   "metadata": {},
   "outputs": [],
   "source": [
    "model.compile(loss='mse', optimizer='adam', metrics=[r2_score], run_eagerly = True)\n",
    "history=model.fit(xtrain_scale, ytrain_scale, epochs=30, batch_size=150, verbose=1, validation_split=0.2)\n",
    "predictions = model.predict(xval_scale)"
   ]
  },
  {
   "cell_type": "code",
   "execution_count": null,
   "id": "12f8df0b",
   "metadata": {},
   "outputs": [],
   "source": [
    "# Building the model\n",
    "model = Sequential()\n",
    "# Adding a Bidirectional LSTM layer\n",
    "model.add(Bidirectional(LSTM(64,return_sequences=True, dropout=0.5, input_shape=(X_train.shape[1], X_train.shape[-1]))))\n",
    "model.add(Bidirectional(LSTM(20, dropout=0.5)))\n",
    "model.add(Dense(1))\n",
    "model.compile(loss='mse', optimizer='rmsprop')"
   ]
  },
  {
   "cell_type": "code",
   "execution_count": null,
   "id": "0f72e60e",
   "metadata": {},
   "outputs": [],
   "source": [
    "model.compile(loss='mse', optimizer='adam', metrics=[r2_score], run_eagerly = True)\n",
    "history=model.fit(xtrain_scale, ytrain_scale, epochs=30, batch_size=150, verbose=1, validation_split=0.2)\n",
    "predictions = model.predict(xval_scale)"
   ]
  }
 ],
 "metadata": {
  "kernelspec": {
   "display_name": "Python 3 (ipykernel)",
   "language": "python",
   "name": "python3"
  },
  "language_info": {
   "codemirror_mode": {
    "name": "ipython",
    "version": 3
   },
   "file_extension": ".py",
   "mimetype": "text/x-python",
   "name": "python",
   "nbconvert_exporter": "python",
   "pygments_lexer": "ipython3",
   "version": "3.9.12"
  },
  "papermill": {
   "default_parameters": {},
   "duration": 174.772109,
   "end_time": "2021-12-10T09:19:03.767946",
   "environment_variables": {},
   "exception": null,
   "input_path": "__notebook__.ipynb",
   "output_path": "__notebook__.ipynb",
   "parameters": {},
   "start_time": "2021-12-10T09:16:08.995837",
   "version": "2.3.3"
  }
 },
 "nbformat": 4,
 "nbformat_minor": 5
}
